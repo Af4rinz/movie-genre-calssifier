{
  "nbformat": 4,
  "nbformat_minor": 0,
  "metadata": {
    "colab": {
      "name": "movie-genre-classifier.ipynb",
      "provenance": [],
      "collapsed_sections": [],
      "toc_visible": true
    },
    "kernelspec": {
      "display_name": "Python 3",
      "name": "python3"
    },
    "language_info": {
      "name": "python"
    }
  },
  "cells": [
    {
      "cell_type": "markdown",
      "metadata": {
        "id": "iZDwkJCJDoDv"
      },
      "source": [
        "# **Multilabel Movie Genre Classification**"
      ]
    },
    {
      "cell_type": "markdown",
      "metadata": {
        "id": "0TafpEQjAbJW"
      },
      "source": [
        "# 1. Preprocessing\n",
        "\n",
        "Before anything, we must import all vital dependencies."
      ]
    },
    {
      "cell_type": "code",
      "metadata": {
        "id": "dNYFMcfPDZnQ"
      },
      "source": [
        "import numpy as np\n",
        "import pandas as pd\n",
        "\n",
        "import matplotlib.pyplot as plt\n",
        "import seaborn as sns\n",
        "\n",
        "from sklearn import feature_extraction, feature_selection, pipeline, preprocessing\n",
        "# Word2Vec Utils\n",
        "import gensim\n",
        "import gensim.downloader as gensim_api\n",
        "# General text preprocessing\n",
        "import re\n",
        "import nltk\n",
        "# Import/export Utils\n",
        "import csv\n",
        "import json"
      ],
      "execution_count": 1,
      "outputs": []
    },
    {
      "cell_type": "code",
      "metadata": {
        "colab": {
          "base_uri": "https://localhost:8080/"
        },
        "id": "agUspIgKDl_7",
        "outputId": "2a638c5f-80aa-4ea8-ff2e-20502abe278f"
      },
      "source": [
        "from google.colab import drive\n",
        "drive.mount('/content/drive')"
      ],
      "execution_count": 2,
      "outputs": [
        {
          "output_type": "stream",
          "text": [
            "Mounted at /content/drive\n"
          ],
          "name": "stdout"
        }
      ]
    },
    {
      "cell_type": "markdown",
      "metadata": {
        "id": "HdgpMjXWAmjk"
      },
      "source": [
        "Then read the datasets (stored in Google Drive for easier access in Colab)."
      ]
    },
    {
      "cell_type": "code",
      "metadata": {
        "colab": {
          "base_uri": "https://localhost:8080/",
          "height": 195
        },
        "id": "SfdLf4n0FTIG",
        "outputId": "6b7e7b1c-63a7-4406-ae09-7873ea935761"
      },
      "source": [
        "train = pd.read_csv (r'/content/drive/MyDrive/Colab Notebooks/train.csv', encoding='cp1252')\n",
        "test = pd.read_csv (r'/content/drive/MyDrive/Colab Notebooks/test.csv', encoding='cp1252')\n",
        "# check a subset to make sure everything's fine\n",
        "train[['genres', 'overview']].head()\n",
        "test[['genres', 'overview']].head()"
      ],
      "execution_count": 3,
      "outputs": [
        {
          "output_type": "execute_result",
          "data": {
            "text/html": [
              "<div>\n",
              "<style scoped>\n",
              "    .dataframe tbody tr th:only-of-type {\n",
              "        vertical-align: middle;\n",
              "    }\n",
              "\n",
              "    .dataframe tbody tr th {\n",
              "        vertical-align: top;\n",
              "    }\n",
              "\n",
              "    .dataframe thead th {\n",
              "        text-align: right;\n",
              "    }\n",
              "</style>\n",
              "<table border=\"1\" class=\"dataframe\">\n",
              "  <thead>\n",
              "    <tr style=\"text-align: right;\">\n",
              "      <th></th>\n",
              "      <th>genres</th>\n",
              "      <th>overview</th>\n",
              "    </tr>\n",
              "  </thead>\n",
              "  <tbody>\n",
              "    <tr>\n",
              "      <th>0</th>\n",
              "      <td>[{'id': 35, 'name': 'Comedy'}, {'id': 10749, '...</td>\n",
              "      <td>1951: Andy Schmidt is in his last year of coll...</td>\n",
              "    </tr>\n",
              "    <tr>\n",
              "      <th>1</th>\n",
              "      <td>[{'id': 28, 'name': 'Action'}, {'id': 12, 'nam...</td>\n",
              "      <td>Kickboxer 2 is, well, an unnecessary sequel wh...</td>\n",
              "    </tr>\n",
              "    <tr>\n",
              "      <th>2</th>\n",
              "      <td>[{'id': 27, 'name': 'Horror'}, {'id': 53, 'nam...</td>\n",
              "      <td>A college-age brother and sister get more than...</td>\n",
              "    </tr>\n",
              "    <tr>\n",
              "      <th>3</th>\n",
              "      <td>[{'id': 878, 'name': 'Science Fiction'}, {'id'...</td>\n",
              "      <td>Having just returned from a mission to Mars, C...</td>\n",
              "    </tr>\n",
              "    <tr>\n",
              "      <th>4</th>\n",
              "      <td>[{'id': 878, 'name': 'Science Fiction'}, {'id'...</td>\n",
              "      <td>Washington, D.C. psychologist Carol Bennell an...</td>\n",
              "    </tr>\n",
              "  </tbody>\n",
              "</table>\n",
              "</div>"
            ],
            "text/plain": [
              "                                              genres                                           overview\n",
              "0  [{'id': 35, 'name': 'Comedy'}, {'id': 10749, '...  1951: Andy Schmidt is in his last year of coll...\n",
              "1  [{'id': 28, 'name': 'Action'}, {'id': 12, 'nam...  Kickboxer 2 is, well, an unnecessary sequel wh...\n",
              "2  [{'id': 27, 'name': 'Horror'}, {'id': 53, 'nam...  A college-age brother and sister get more than...\n",
              "3  [{'id': 878, 'name': 'Science Fiction'}, {'id'...  Having just returned from a mission to Mars, C...\n",
              "4  [{'id': 878, 'name': 'Science Fiction'}, {'id'...  Washington, D.C. psychologist Carol Bennell an..."
            ]
          },
          "metadata": {
            "tags": []
          },
          "execution_count": 3
        }
      ]
    },
    {
      "cell_type": "markdown",
      "metadata": {
        "id": "BpXjA7Y0ZJdL"
      },
      "source": [
        "The genres in their current format are not useable, so we split them and only keep their name values in a list for each movie."
      ]
    },
    {
      "cell_type": "code",
      "metadata": {
        "colab": {
          "base_uri": "https://localhost:8080/"
        },
        "id": "m_GTrtCHNxT5",
        "outputId": "07eb1ef1-d8b2-4b29-926c-358ef5873fec"
      },
      "source": [
        "df = pd.DataFrame({'genres':train['genres'], 'overview':train['overview'] })\n",
        "y_train=[]\n",
        "\n",
        "for idx, row in df['genres'].iteritems():\n",
        "  row = row.replace(\"'\", \"\\\"\")\n",
        "  row = json.loads(row)\n",
        "  y_train.append([d.get('name') for d in row])\n",
        "\n",
        "df = pd.DataFrame({'y': y_train, 'text': train['overview']})\n",
        "print (df[:10])\n",
        "\n",
        "# now for test set\n",
        "tdf = pd.DataFrame({'genres':test['genres'], 'overview':test['overview'] })\n",
        "y_test=[]\n",
        "\n",
        "for idx, row in tdf['genres'].iteritems():\n",
        "  row = row.replace(\"'\", \"\\\"\")\n",
        "  row = json.loads(row)\n",
        "  y_test.append([d.get('name') for d in row])\n",
        "\n",
        "tdf = pd.DataFrame({'y': y_test, 'text': test['overview']})\n"
      ],
      "execution_count": 4,
      "outputs": [
        {
          "output_type": "stream",
          "text": [
            "                                            y                                               text\n",
            "0                                    [Comedy]  When Lou, who has become the \"father of the In...\n",
            "1            [Comedy, Drama, Family, Romance]  Mia Thermopolis is now a college graduate and ...\n",
            "2                                     [Drama]  Under the direction of a ruthless instructor, ...\n",
            "3                           [Thriller, Drama]  Vidya Bagchi (Vidya Balan) arrives in Kolkata ...\n",
            "4                          [Action, Thriller]  Marine Boy is the story of a former national s...\n",
            "5              [Animation, Adventure, Family]  Pinocchio and his friends, a glow worm and a m...\n",
            "6                          [Horror, Thriller]  A young girl buys an antique box at a yard sal...\n",
            "7                               [Documentary]  A chronicle which provides a rare window into ...\n",
            "8  [Action, Comedy, Music, Family, Adventure]  After telling the story of Flint's last journe...\n",
            "9                             [Comedy, Music]  In \"A Mighty Wind\", director Christopher Guest...\n"
          ],
          "name": "stdout"
        }
      ]
    },
    {
      "cell_type": "markdown",
      "metadata": {
        "id": "vTRfUsniAvh4"
      },
      "source": [
        "Let's see all our classes and their frequency."
      ]
    },
    {
      "cell_type": "code",
      "metadata": {
        "colab": {
          "base_uri": "https://localhost:8080/"
        },
        "id": "Nrx4RjyiDdNf",
        "outputId": "d165e918-8eb0-4335-a6b5-740909e82e11"
      },
      "source": [
        "genre_list = sum(y_train,[])\n",
        "genre_list = nltk.FreqDist(genre_list) \n",
        "n_classes = len(genre_list.keys())\n",
        "df_genrels = pd.DataFrame({'Genre': list(genre_list.keys()), \n",
        "                              'Count': list(genre_list.values())})\n",
        "print(df_genrels)"
      ],
      "execution_count": 5,
      "outputs": [
        {
          "output_type": "stream",
          "text": [
            "              Genre  Count\n",
            "0            Comedy    676\n",
            "1             Drama   1011\n",
            "2            Family    178\n",
            "3           Romance    387\n",
            "4          Thriller    545\n",
            "5            Action    477\n",
            "6         Animation     89\n",
            "7         Adventure    295\n",
            "8            Horror    207\n",
            "9       Documentary     67\n",
            "10            Music     65\n",
            "11            Crime    299\n",
            "12  Science Fiction    187\n",
            "13          Mystery    150\n",
            "14          Foreign     23\n",
            "15          Fantasy    156\n",
            "16              War     69\n",
            "17          Western     30\n",
            "18          History     96\n",
            "19         TV Movie      1\n"
          ],
          "name": "stdout"
        }
      ]
    },
    {
      "cell_type": "markdown",
      "metadata": {
        "id": "Id_3mRuKzXoF"
      },
      "source": [
        "The code below counts the number of genres per movie. As the output shows, most movies have 2 or 3 different genres. There are rare instances with 6 or 7 genres, but all movies have at least one genre (no missing label)."
      ]
    },
    {
      "cell_type": "code",
      "metadata": {
        "colab": {
          "base_uri": "https://localhost:8080/",
          "height": 350
        },
        "id": "2zIqwdquxrCF",
        "outputId": "f4ef9175-56c1-427b-a1b1-d0f7564285ee"
      },
      "source": [
        "df['movie_genre_count'] = df['y'].apply(lambda text: len(str(text).split(\",\")))\n",
        "\n",
        "plt.figure(figsize=(10,5))\n",
        "sns.countplot(x=df.movie_genre_count, palette='mako')\n",
        "plt.title(\"Number of Genres Per Movie\")\n",
        "plt.xlabel(\"Genres\")\n",
        "plt.ylabel(\"Movies\")\n",
        "plt.show()"
      ],
      "execution_count": 8,
      "outputs": [
        {
          "output_type": "display_data",
          "data": {
            "image/png": "[encoded data removed]",
            "text/plain": [
              "<Figure size 720x360 with 1 Axes>"
            ]
          },
          "metadata": {
            "tags": [],
            "needs_background": "light"
          }
        }
      ]
    },
    {
      "cell_type": "markdown",
      "metadata": {
        "id": "o2xgBIBmzUIb"
      },
      "source": [
        "Afterwards, we can use the `explode()` method to replicate the overviews for each genre in the movie, which might later help us in classification with multiple labels.\n",
        "\n",
        "*Spoiler alert: It doesn't, because the validation tests against each row, so a comedy drama will have the drama label tested twice, once against drama (TP) and once against comedy (TN, but FN if the model has also returned comedy)*"
      ]
    },
    {
      "cell_type": "code",
      "metadata": {
        "colab": {
          "base_uri": "https://localhost:8080/",
          "height": 195
        },
        "id": "sCzAwQe_x--Q",
        "outputId": "12195ef9-d3e4-4e84-8ec9-14ac8d79289d"
      },
      "source": [
        "edf = df.explode('y')\n",
        "edf[:10].head()"
      ],
      "execution_count": null,
      "outputs": [
        {
          "output_type": "execute_result",
          "data": {
            "text/html": [
              "<div>\n",
              "<style scoped>\n",
              "    .dataframe tbody tr th:only-of-type {\n",
              "        vertical-align: middle;\n",
              "    }\n",
              "\n",
              "    .dataframe tbody tr th {\n",
              "        vertical-align: top;\n",
              "    }\n",
              "\n",
              "    .dataframe thead th {\n",
              "        text-align: right;\n",
              "    }\n",
              "</style>\n",
              "<table border=\"1\" class=\"dataframe\">\n",
              "  <thead>\n",
              "    <tr style=\"text-align: right;\">\n",
              "      <th></th>\n",
              "      <th>y</th>\n",
              "      <th>text</th>\n",
              "    </tr>\n",
              "  </thead>\n",
              "  <tbody>\n",
              "    <tr>\n",
              "      <th>0</th>\n",
              "      <td>Comedy</td>\n",
              "      <td>When Lou, who has become the \"father of the In...</td>\n",
              "    </tr>\n",
              "    <tr>\n",
              "      <th>1</th>\n",
              "      <td>Comedy</td>\n",
              "      <td>Mia Thermopolis is now a college graduate and ...</td>\n",
              "    </tr>\n",
              "    <tr>\n",
              "      <th>1</th>\n",
              "      <td>Drama</td>\n",
              "      <td>Mia Thermopolis is now a college graduate and ...</td>\n",
              "    </tr>\n",
              "    <tr>\n",
              "      <th>1</th>\n",
              "      <td>Family</td>\n",
              "      <td>Mia Thermopolis is now a college graduate and ...</td>\n",
              "    </tr>\n",
              "    <tr>\n",
              "      <th>1</th>\n",
              "      <td>Romance</td>\n",
              "      <td>Mia Thermopolis is now a college graduate and ...</td>\n",
              "    </tr>\n",
              "  </tbody>\n",
              "</table>\n",
              "</div>"
            ],
            "text/plain": [
              "         y                                               text\n",
              "0   Comedy  When Lou, who has become the \"father of the In...\n",
              "1   Comedy  Mia Thermopolis is now a college graduate and ...\n",
              "1    Drama  Mia Thermopolis is now a college graduate and ...\n",
              "1   Family  Mia Thermopolis is now a college graduate and ...\n",
              "1  Romance  Mia Thermopolis is now a college graduate and ..."
            ]
          },
          "metadata": {
            "tags": []
          },
          "execution_count": 9
        }
      ]
    },
    {
      "cell_type": "code",
      "metadata": {
        "colab": {
          "base_uri": "https://localhost:8080/",
          "height": 195
        },
        "id": "zjRD5bVfckoq",
        "outputId": "63df933b-2a45-4f04-b98f-e24618c58992"
      },
      "source": [
        "etdf = tdf.explode('y')\n",
        "etdf[:5].head()"
      ],
      "execution_count": null,
      "outputs": [
        {
          "output_type": "execute_result",
          "data": {
            "text/html": [
              "<div>\n",
              "<style scoped>\n",
              "    .dataframe tbody tr th:only-of-type {\n",
              "        vertical-align: middle;\n",
              "    }\n",
              "\n",
              "    .dataframe tbody tr th {\n",
              "        vertical-align: top;\n",
              "    }\n",
              "\n",
              "    .dataframe thead th {\n",
              "        text-align: right;\n",
              "    }\n",
              "</style>\n",
              "<table border=\"1\" class=\"dataframe\">\n",
              "  <thead>\n",
              "    <tr style=\"text-align: right;\">\n",
              "      <th></th>\n",
              "      <th>y</th>\n",
              "      <th>text</th>\n",
              "    </tr>\n",
              "  </thead>\n",
              "  <tbody>\n",
              "    <tr>\n",
              "      <th>0</th>\n",
              "      <td>Comedy</td>\n",
              "      <td>1951: Andy Schmidt is in his last year of coll...</td>\n",
              "    </tr>\n",
              "    <tr>\n",
              "      <th>0</th>\n",
              "      <td>Romance</td>\n",
              "      <td>1951: Andy Schmidt is in his last year of coll...</td>\n",
              "    </tr>\n",
              "    <tr>\n",
              "      <th>1</th>\n",
              "      <td>Action</td>\n",
              "      <td>Kickboxer 2 is, well, an unnecessary sequel wh...</td>\n",
              "    </tr>\n",
              "    <tr>\n",
              "      <th>1</th>\n",
              "      <td>Adventure</td>\n",
              "      <td>Kickboxer 2 is, well, an unnecessary sequel wh...</td>\n",
              "    </tr>\n",
              "    <tr>\n",
              "      <th>2</th>\n",
              "      <td>Horror</td>\n",
              "      <td>A college-age brother and sister get more than...</td>\n",
              "    </tr>\n",
              "  </tbody>\n",
              "</table>\n",
              "</div>"
            ],
            "text/plain": [
              "           y                                               text\n",
              "0     Comedy  1951: Andy Schmidt is in his last year of coll...\n",
              "0    Romance  1951: Andy Schmidt is in his last year of coll...\n",
              "1     Action  Kickboxer 2 is, well, an unnecessary sequel wh...\n",
              "1  Adventure  Kickboxer 2 is, well, an unnecessary sequel wh...\n",
              "2     Horror  A college-age brother and sister get more than..."
            ]
          },
          "metadata": {
            "tags": []
          },
          "execution_count": 10
        }
      ]
    },
    {
      "cell_type": "markdown",
      "metadata": {
        "id": "6gCG7XaLdmHf"
      },
      "source": [
        "To do a triple-check, we do a bar graph of movies per genre."
      ]
    },
    {
      "cell_type": "code",
      "metadata": {
        "colab": {
          "base_uri": "https://localhost:8080/",
          "height": 294
        },
        "id": "68qOu2gybooK",
        "outputId": "017fb2cc-d04f-4258-eea3-f8f6b5934ca6"
      },
      "source": [
        "fig, ax = plt.subplots()\n",
        "fig.suptitle(\"Movie Count by Genre\", fontsize=14)\n",
        "edf['y'].reset_index().groupby('y').count().sort_values(by= \n",
        "       'index').plot(kind='barh', legend=False, \n",
        "        ax=ax, color=sns.color_palette('mako')).grid(axis='x')\n",
        "ax.set_ylabel('genre')\n",
        "plt.show()"
      ],
      "execution_count": null,
      "outputs": [
        {
          "output_type": "display_data",
          "data": {
            "image/png": "[encoded data removed]",
            "text/plain": [
              "<Figure size 432x288 with 1 Axes>"
            ]
          },
          "metadata": {
            "tags": []
          }
        }
      ]
    },
    {
      "cell_type": "markdown",
      "metadata": {
        "id": "-6Pr2gmplRvv"
      },
      "source": [
        "Now that the basis is ready, we need to prepare the text for learning. The first step is removing all redundant punctuation and words, and normalising the case.\n",
        "We add the options for lemmatisation and stemming (i.e. switching to root and removing suffixes) using WordNet and Porter."
      ]
    },
    {
      "cell_type": "code",
      "metadata": {
        "colab": {
          "base_uri": "https://localhost:8080/"
        },
        "id": "xWiwup6rlLOm",
        "outputId": "f07a5cba-6406-4d82-83ed-78a8ee541529"
      },
      "source": [
        "import string\n",
        "nltk.download('wordnet')\n",
        "def clean_text(text, stopwords=None, flem=False, fstem=True):\n",
        "  text = re.sub(r'[^\\w\\s\\d]', '', str(text).lower().strip())\n",
        "  text = \"\".join([char.lower() for char in text if char not in string.punctuation]) \n",
        "  lst_text = text.split()\n",
        "  if stopwords is not None:\n",
        "    lst_text = [word for word in lst_text if word not in \n",
        "                stopwords]\n",
        "  if fstem == True:\n",
        "    ps = nltk.stem.porter.PorterStemmer()\n",
        "    lst_text = [ps.stem(word) for word in lst_text]\n",
        "  if flem == True:\n",
        "    lem = nltk.stem.wordnet.WordNetLemmatizer()\n",
        "    lst_text = [lem.lemmatize(word) for word in lst_text]\n",
        "  text = \" \".join(lst_text)\n",
        "  return text"
      ],
      "execution_count": 6,
      "outputs": [
        {
          "output_type": "stream",
          "text": [
            "[nltk_data] Downloading package wordnet to /root/nltk_data...\n",
            "[nltk_data]   Unzipping corpora/wordnet.zip.\n"
          ],
          "name": "stdout"
        }
      ]
    },
    {
      "cell_type": "markdown",
      "metadata": {
        "id": "6Ebikk5mnRkj"
      },
      "source": [
        "Stopwords can be acquired by using `nltk.corpus`, they are the words that do not lend any meaningful bits to our context."
      ]
    },
    {
      "cell_type": "code",
      "metadata": {
        "colab": {
          "base_uri": "https://localhost:8080/"
        },
        "id": "qZsn6tXinc3n",
        "outputId": "78a88eda-6cb5-43fc-d641-f0bd50a44744"
      },
      "source": [
        "nltk.download('stopwords')\n",
        "stopwords = nltk.corpus.stopwords.words(\"english\")\n",
        "print(stopwords[:10])"
      ],
      "execution_count": 7,
      "outputs": [
        {
          "output_type": "stream",
          "text": [
            "[nltk_data] Downloading package stopwords to /root/nltk_data...\n",
            "[nltk_data]   Unzipping corpora/stopwords.zip.\n",
            "['i', 'me', 'my', 'myself', 'we', 'our', 'ours', 'ourselves', 'you', \"you're\"]\n"
          ],
          "name": "stdout"
        }
      ]
    },
    {
      "cell_type": "markdown",
      "metadata": {
        "id": "gMEdK_xcntb-"
      },
      "source": [
        "If we wish to compare the cleaned text with the original, we can easily add it to the dataframe."
      ]
    },
    {
      "cell_type": "code",
      "metadata": {
        "colab": {
          "base_uri": "https://localhost:8080/",
          "height": 195
        },
        "id": "jRQKF7SVny3S",
        "outputId": "6aa44268-0712-438e-df23-cc4f856425f4"
      },
      "source": [
        "df[\"clean\"] = df[\"text\"].apply(lambda x: \n",
        "          clean_text(x, flem=True, fstem=False, \n",
        "          stopwords=stopwords))\n",
        "df[['text', 'clean']].head()"
      ],
      "execution_count": 8,
      "outputs": [
        {
          "output_type": "execute_result",
          "data": {
            "text/html": [
              "<div>\n",
              "<style scoped>\n",
              "    .dataframe tbody tr th:only-of-type {\n",
              "        vertical-align: middle;\n",
              "    }\n",
              "\n",
              "    .dataframe tbody tr th {\n",
              "        vertical-align: top;\n",
              "    }\n",
              "\n",
              "    .dataframe thead th {\n",
              "        text-align: right;\n",
              "    }\n",
              "</style>\n",
              "<table border=\"1\" class=\"dataframe\">\n",
              "  <thead>\n",
              "    <tr style=\"text-align: right;\">\n",
              "      <th></th>\n",
              "      <th>text</th>\n",
              "      <th>clean</th>\n",
              "    </tr>\n",
              "  </thead>\n",
              "  <tbody>\n",
              "    <tr>\n",
              "      <th>0</th>\n",
              "      <td>When Lou, who has become the \"father of the In...</td>\n",
              "      <td>lou become father internet shot unknown assail...</td>\n",
              "    </tr>\n",
              "    <tr>\n",
              "      <th>1</th>\n",
              "      <td>Mia Thermopolis is now a college graduate and ...</td>\n",
              "      <td>mia thermopolis college graduate way genovia t...</td>\n",
              "    </tr>\n",
              "    <tr>\n",
              "      <th>2</th>\n",
              "      <td>Under the direction of a ruthless instructor, ...</td>\n",
              "      <td>direction ruthless instructor talented young d...</td>\n",
              "    </tr>\n",
              "    <tr>\n",
              "      <th>3</th>\n",
              "      <td>Vidya Bagchi (Vidya Balan) arrives in Kolkata ...</td>\n",
              "      <td>vidya bagchi vidya balan arrives kolkata londo...</td>\n",
              "    </tr>\n",
              "    <tr>\n",
              "      <th>4</th>\n",
              "      <td>Marine Boy is the story of a former national s...</td>\n",
              "      <td>marine boy story former national swimmer find ...</td>\n",
              "    </tr>\n",
              "  </tbody>\n",
              "</table>\n",
              "</div>"
            ],
            "text/plain": [
              "                                                text                                              clean\n",
              "0  When Lou, who has become the \"father of the In...  lou become father internet shot unknown assail...\n",
              "1  Mia Thermopolis is now a college graduate and ...  mia thermopolis college graduate way genovia t...\n",
              "2  Under the direction of a ruthless instructor, ...  direction ruthless instructor talented young d...\n",
              "3  Vidya Bagchi (Vidya Balan) arrives in Kolkata ...  vidya bagchi vidya balan arrives kolkata londo...\n",
              "4  Marine Boy is the story of a former national s...  marine boy story former national swimmer find ..."
            ]
          },
          "metadata": {
            "tags": []
          },
          "execution_count": 8
        }
      ]
    },
    {
      "cell_type": "markdown",
      "metadata": {
        "id": "ZdpJEkojBKq7"
      },
      "source": [
        "Also tidy the tests, that'll be useful later on."
      ]
    },
    {
      "cell_type": "code",
      "metadata": {
        "colab": {
          "base_uri": "https://localhost:8080/",
          "height": 195
        },
        "id": "09ygMFMQLw82",
        "outputId": "21d937fc-39b2-4c80-d6cd-ac1eaef856c2"
      },
      "source": [
        "tdf[\"clean\"] = tdf[\"text\"].apply(lambda x: \n",
        "          clean_text(x, flem=True, fstem=False, \n",
        "          stopwords=stopwords))\n",
        "tdf[['text', 'clean']].head()"
      ],
      "execution_count": 9,
      "outputs": [
        {
          "output_type": "execute_result",
          "data": {
            "text/html": [
              "<div>\n",
              "<style scoped>\n",
              "    .dataframe tbody tr th:only-of-type {\n",
              "        vertical-align: middle;\n",
              "    }\n",
              "\n",
              "    .dataframe tbody tr th {\n",
              "        vertical-align: top;\n",
              "    }\n",
              "\n",
              "    .dataframe thead th {\n",
              "        text-align: right;\n",
              "    }\n",
              "</style>\n",
              "<table border=\"1\" class=\"dataframe\">\n",
              "  <thead>\n",
              "    <tr style=\"text-align: right;\">\n",
              "      <th></th>\n",
              "      <th>text</th>\n",
              "      <th>clean</th>\n",
              "    </tr>\n",
              "  </thead>\n",
              "  <tbody>\n",
              "    <tr>\n",
              "      <th>0</th>\n",
              "      <td>1951: Andy Schmidt is in his last year of coll...</td>\n",
              "      <td>1951 andy schmidt last year college taking lif...</td>\n",
              "    </tr>\n",
              "    <tr>\n",
              "      <th>1</th>\n",
              "      <td>Kickboxer 2 is, well, an unnecessary sequel wh...</td>\n",
              "      <td>kickboxer 2 well unnecessary sequel unfortunat...</td>\n",
              "    </tr>\n",
              "    <tr>\n",
              "      <th>2</th>\n",
              "      <td>A college-age brother and sister get more than...</td>\n",
              "      <td>collegeage brother sister get bargained road t...</td>\n",
              "    </tr>\n",
              "    <tr>\n",
              "      <th>3</th>\n",
              "      <td>Having just returned from a mission to Mars, C...</td>\n",
              "      <td>returned mission mar commander ross isnt exact...</td>\n",
              "    </tr>\n",
              "    <tr>\n",
              "      <th>4</th>\n",
              "      <td>Washington, D.C. psychologist Carol Bennell an...</td>\n",
              "      <td>washington dc psychologist carol bennell colle...</td>\n",
              "    </tr>\n",
              "  </tbody>\n",
              "</table>\n",
              "</div>"
            ],
            "text/plain": [
              "                                                text                                              clean\n",
              "0  1951: Andy Schmidt is in his last year of coll...  1951 andy schmidt last year college taking lif...\n",
              "1  Kickboxer 2 is, well, an unnecessary sequel wh...  kickboxer 2 well unnecessary sequel unfortunat...\n",
              "2  A college-age brother and sister get more than...  collegeage brother sister get bargained road t...\n",
              "3  Having just returned from a mission to Mars, C...  returned mission mar commander ross isnt exact...\n",
              "4  Washington, D.C. psychologist Carol Bennell an...  washington dc psychologist carol bennell colle..."
            ]
          },
          "metadata": {
            "tags": []
          },
          "execution_count": 9
        }
      ]
    },
    {
      "cell_type": "markdown",
      "metadata": {
        "id": "ujH_hiTao97o"
      },
      "source": [
        "For now, we will put the `y` (genre list) column in a seperate dataframe, of course, it is likely that MLB lists will be more suited to our needs as we go on."
      ]
    },
    {
      "cell_type": "code",
      "metadata": {
        "id": "kXUOR9CwqWk-"
      },
      "source": [
        "y_train = df.y\n",
        "y_test = tdf.y"
      ],
      "execution_count": 13,
      "outputs": []
    },
    {
      "cell_type": "markdown",
      "metadata": {
        "id": "rH962F272PKT"
      },
      "source": [
        "# 2. Bag of Words (BoW)\n",
        "We use tf-idf approach to BoW:\n",
        "$$ tf-idf_{t,d} = tf_{t,d} × idf_t $$\n",
        "Each document (text entry) will then be represented as a vector, where each component is the tf-idf score of a word in that document.\n",
        "\n",
        "Naturally, a high tf-idf score means relevance to the topic, while lower (or 0, non representing) means the word is relatively useless in that context.\n"
      ]
    },
    {
      "cell_type": "markdown",
      "metadata": {
        "id": "3BfNNU3N6xKZ"
      },
      "source": [
        "Note that last we worked with our train set, it was a list of genres, but to work with a multi-label classifier, we need them to be in the form of binary vectors.\n",
        "\n",
        "Scikit has the perfect solution to this: a *multilabel binarizer* which trains over all labels (to count and index them), then converts each label set to a vector of size N (= total label count in dataset) where each component indicates one of the labels, if set to one, that is a label for that specific row."
      ]
    },
    {
      "cell_type": "code",
      "metadata": {
        "colab": {
          "base_uri": "https://localhost:8080/"
        },
        "id": "zgyJCRX46rOc",
        "outputId": "0cdd226a-6f35-4706-c797-39863d7927fa"
      },
      "source": [
        "from sklearn.preprocessing import MultiLabelBinarizer\n",
        "\n",
        "mlb = MultiLabelBinarizer()\n",
        "mlb.fit(df['y'])\n",
        "y_train = mlb.transform(df['y'])\n",
        "y_test = mlb.transform(tdf['y'])\n",
        "print('Binary vector representation:', y_train[1])\n",
        "print('Which represents:\\t', mlb.inverse_transform(y_train)[1])\n",
        "print('Original data:\\n', df.iloc[1,:])"
      ],
      "execution_count": 10,
      "outputs": [
        {
          "output_type": "stream",
          "text": [
            "Binary vector representation: [0 0 0 1 0 0 1 1 0 0 0 0 0 0 1 0 0 0 0 0]\n",
            "Which represents:\t ('Comedy', 'Drama', 'Family', 'Romance')\n",
            "Original data:\n",
            " y                         [Comedy, Drama, Family, Romance]\n",
            "text     Mia Thermopolis is now a college graduate and ...\n",
            "clean    mia thermopolis college graduate way genovia t...\n",
            "Name: 1, dtype: object\n"
          ],
          "name": "stdout"
        }
      ]
    },
    {
      "cell_type": "markdown",
      "metadata": {
        "id": "GCRrdMgn5E-G"
      },
      "source": [
        "To start, we use a tf-idf vectoriser with a maximum of 6000 words for its dictionary."
      ]
    },
    {
      "cell_type": "code",
      "metadata": {
        "id": "0IjGn47X490A"
      },
      "source": [
        "vectorizer = feature_extraction.text.TfidfVectorizer(max_features=6000, ngram_range=(1,2), max_df=0.8)"
      ],
      "execution_count": 83,
      "outputs": []
    },
    {
      "cell_type": "code",
      "metadata": {
        "colab": {
          "base_uri": "https://localhost:8080/"
        },
        "id": "5gLrs0mbLIjv",
        "outputId": "ad2287fe-7b1b-4b3a-8f18-d28278e0a845"
      },
      "source": [
        "tfidf_x_train = vectorizer.fit_transform(df['clean'])\n",
        "tfidf_x_test = vectorizer.transform(tdf['clean'])\n",
        "dict_vocab = vectorizer.vocabulary_\n",
        "print(dict_vocab.keys())"
      ],
      "execution_count": 84,
      "outputs": [
        {
          "output_type": "stream",
          "text": [
            "dict_keys(['lou', 'become', 'father', 'internet', 'shot', 'unknown', 'jacob', 'nick', 'fire', 'time', 'machine', 'save', 'friend', 'time machine', 'mia', 'college', 'graduate', 'way', 'take', 'duty', 'princess', 'best', 'also', 'join', 'summer', 'continues', 'lesson', 'riding', 'horse', 'royal', 'complicated', 'life', 'turned', 'upside', 'learns', 'crown', 'queen', 'earlier', 'expected', 'college graduate', 'best friend', 'complicated life', 'life turned', 'turned upside', 'learns take', 'direction', 'ruthless', 'instructor', 'talented', 'young', 'begin', 'pursue', 'perfection', 'cost', 'even', 'humanity', 'cost even', 'vidya', 'arrives', 'london', 'find', 'missing', 'husband', 'seven', 'month', 'pregnant', 'alone', 'festive', 'city', 'relentless', 'search', 'nothing', 'rely', 'except', 'fragment', 'memory', 'clue', 'seem', 'reach', 'dead', 'end', 'everyone', 'try', 'convince', 'exist', 'slowly', 'seems', 'lie', 'determined', 'unravel', 'truth', 'child', 'find missing', 'try convince', 'cost life', 'marine', 'boy', 'story', 'former', 'national', 'debt', 'gangster', 'bos', 'smuggling', 'drug', 'sea', 'magic', 'music', 'box', 'however', 'evil', 'emperor', 'night', 'girl', 'buy', 'antique', 'yard', 'sale', 'unaware', 'inside', 'ancient', 'spirit', 'team', 'exwife', 'curse', 'upon', 'young girl', 'find way', 'chronicle', 'provides', 'rare', 'international', 'perception', 'iraq', 'war', 'courtesy', 'al', 'arab', 'world', 'popular', 'news', 'member', 'pentagon', 'official', 'reporting', 'strongly', 'frequently', 'well', 'footage', 'american', 'pow', 'station', 'revealed', 'show', 'everything', 'bush', 'administration', 'want', 'see', 'iraq war', 'telling', 'last', 'journey', 'jim', 'billy', 'bone', 'heart', 'attack', 'dy', 'attacked', 'pirate', 'gang', 'escape', 'town', 'hire', 'boat', 'crew', 'hidden', 'treasure', 'died', 'voyage', 'across', 'soon', 'board', 'trusted', 'telling story', 'journey young', 'heart attack', 'friend attacked', 'crew find', 'hidden treasure', 'soon find', 'mighty', 'wind', 'director', 'christopher', 'guest', 'waiting', 'tell', 'folk', 'musician', 'inspired', 'death', 'manager', 'get', 'back', 'stage', 'one', 'concert', 'new', 'york', 'hall', 'tell story', 'get back', 'new york', 'york city', 'boxing', 'champion', 'apollo', 'creed', 'give', 'fighter', 'title', 'publicity', 'stunt', 'choose', 'rocky', 'collector', 'philadelphia', 'loan', 'shark', 'trainer', 'make', 'lifetime', 'break', 'apollo creed', 'lambda', 'fraternity', 'travel', 'fort', 'theyll', 'beat', 'rival', 'alpha', 'maintain', 'course', 'pretty', 'depressed', 'suburban', 'midlife', 'crisis', 'decides', 'turn', 'hectic', 'around', 'developing', 'daughter', 'attractive', 'disenchanted', 'movie', 'industry', 'palmer', 'meeting', 'widow', 'john', 'top', 'cop', 'century', 'technology', 'crime', 'theyre', 'committed', 'becomes', 'another', 'investigator', 'target', 'murder', 'charge', 'novica', 'mathematics', 'high', 'school', 'attempt', 'overcome', 'geek', 'status', 'attracted', 'exposed', 'violence', 'ideology', 'climbing', 'ladder', 'high school', 'school friend', 'climbing ladder', 'attending', 'funeral', 'grandmother', 'dallas', 'atlantic', 'hotel', 'lisa', 'flight', 'miami', 'due', 'bad', 'weather', 'meet', 'airport', 'bar', 'jack', 'list', 'together', 'plane', 'reveals', 'change', 'room', 'important', 'politician', 'terrorist', 'killed', 'hit', 'man', 'decide', 'side', 'hit man', 'height', 'fame', 'fortune', 'novelist', 'social', 'critic', 'charles', 'fall', 'love', 'teenage', 'actress', 'focus', 'mind', 'muse', 'painful', 'secrecy', 'price', 'must', 'pay', 'meet fall', 'fall love', 'working', 'job', 'exclusive', 'ski', 'resort', 'support', 'dad', 'kim', 'good', 'enters', 'competition', 'huge', 'cash', 'prize', 'dig', 'deep', 'fear', 'dig deep', 'get complicated', 'professional', 'driver', 'frank', 'martin', 'living', 'government', 'narcotic', 'control', 'family', 'kidnapping', 'immediately', 'involved', 'protecting', 'kidnapper', 'young boy', 'becomes involved', 'prospect', 'continuing', 'earth', 'year', 'grim', 'robinson', 'space', 'prime', 'planet', 'galaxy', 'sabotage', 'mission', 'uncharted', 'idyllic', 'nightmare', 'unspeakable', 'terror', 'yet', 'group', 'naive', 'counselor', 'ignoring', 'camp', 'crystal', 'lake', 'bloody', 'legacy', 'victim', 'jason', 'stalk', 'every', 'one one', 'fall victim', 'every turn', 'misfit', 'hired', 'third', 'party', 'house', 'tape', 'discover', 'found', 'bargained', 'kaitlyn', 'er', 'nurse', 'accidentally', 'used', 'effort', 'woman', 'almost', 'start', 'experience', 'police', 'seriously', 'solve', 'risk', 'terrifying', 'vision', 'ending', 'stake', 'ultimately', 'detective', 'case', 'weave', 'past', 'brutal', 'unexpected', 'forgiveness', 'along', 'woman life', 'start experience', 'turn family', 'family friend', 'must take', 'life love', 'along way', 'experiment', 'gone', 'horribly', 'awry', 'large', 'sheep', 'killing', 'rural', 'horror', 'comedy', 'directed', 'jonathan', 'king', 'featuring', 'special', 'effect', 'killing machine', '1957', 'evan', 'flees', 'multiple', 'patient', 'ailing', 'wife', '35', 'mental', 'institution', 'return', 'revenge', 'resident', 'jennifer', 'curiosity', 'notice', 'condition', 'similar', 'mother', 'final', 'mental institution', 'heart condition', 'employee', 'corporation', 'secret', 'process', 'betray', 'there', 'wallace', 'medical', 'dropout', 'burned', 'relationship', 'including', 'roommate', 'finding', 'perfect', 'partner', 'put', 'hold', 'long', 'term', 'boyfriend', 'ben', 'form', 'instant', 'connection', 'striking', 'close', 'friendship', 'chemistry', 'leading', 'pair', 'wonder', 'actually', 'everyone around', 'love life', 'close friendship', 'autobots', 'stop', 'robot', 'go', 'leadership', 'defend', 'decepticons', 'must defend', 'drive', 'circumstance', 'set', 'chain', 'reaction', 'could', 'two', 'people', 'day', 'minor', 'collision', 'complete', 'stranger', 'vicious', 'mean', 'destroying', 'might', 'different', 'goal', 'systematically', 'dismantle', 'others', 'reckless', 'reclaim', 'something', 'lost', 'people life', 'complete stranger', 'true', 'men', 'never', 'met', 'aristocrat', 'injured', 'accident', 'project', 'true story', 'story two', 'two men', 'never met', 'young man', 'married', 'couple', 'series', 'planted', 'front', 'married couple', 'modern', 'many', 'far', 'witch', 'still', 'live', 'among', 'supernatural', 'creature', 'intent', 'unleashing', 'black', 'putting', 'human', 'race', 'army', 'hunter', 'enemy', 'kaulder', 'warrior', 'ago', 'allpowerful', 'follower', 'moment', 'right', 'cursed', 'forever', 'beloved', 'today', 'spent', 'immortal', 'tracking', 'rogue', 'hold many', 'many secret', 'supernatural creature', 'human race', 'many year', 'year ago', 'wife daughter', 'taking', 'great', 'first', 'installment', 'aim', 'wilder', 'paced', 'entertaining', 'crop', 'filmmaker', 'globe', 'around globe', 'attempted', 'assassination', 'ambassador', 'han', 'inspector', 'lee', 'carter', 'action', 'head', 'paris', 'protect', 'french', 'knowledge', 'triad', 'leader', 'united', 'nation', 'authority', 'personal', 'struggle', 'chinese', 'criminal', 'mastermind', 'named', 'kenji', 'inspector lee', 'french woman', 'also hold', 'united nation', 'criminal mastermind', 'elite', 'agent', 'rescue', '12yearold', 'who', 'abducted', 'middle', 'russian', 'mafia', 'corrupt', 'find middle', 'russian mafia', 'waitress', 'handsome', 'customer', 'seduces', 'sister', 'brother', 'girlfriend', 'brother girlfriend', 'deadly', 'virus', 'usa', 'epidemic', 'col', 'sam', 'daniel', 'spreading', 'small', 'prevent', 'white', 'deadly airborne', 'start killing', 'small town', 'white house', 'gritty', 'tale', 'four', 'separate', 'common', 'theme', 'winter', 'civil', 'officer', 'lead', 'contentious', 'troop', 'regular', 'confederate', 'prisoner', 'scout', 'expedition', 'mexico', 'destroy', 'band', 'base', 'texas', 'civil war', '1980s', 'colombian', 'cocaine', 'baron', 'invaded', 'brand', 'unseen', 'country', 'since', 'prohibitionera', 'chicago', 'map', 'cowboy', 'became', 'capital', 'state', 'told', 'made', 'happen', 'united state', 'petty', 'luke', 'jackson', 'sentenced', 'florida', 'prison', 'farm', 'doesnt', 'play', 'rule', 'either', 'sadistic', 'heavy', 'guy', 'bravado', 'face', 'stint', 'solitary', 'confinement', 'cell', 'rebel', 'hero', 'fellow', 'convict', 'petty criminal', 'two year', 'new guy', 'solitary confinement', 'straight', 'gay', 'robert', 'five', 'later', 'move', 'away', 'little', 'nasty', 'custody', 'battle', 'ensues', 'friend one', 'gay man', 'five year', 'year later', 'move away', 'longtime', 'whove', 'apartment', 'overwhelmed', 'real', 'issue', 'plan', 'spent life', 'life together', 'york apartment', 'plan move', 'wedding', 'younger', 'fast', 'kat', 'traveling', 'ceremony', 'enough', 'jeffrey', 'left', 'moved', 'closer', 'marriage', 'happens', 'groom', 'romantic', 'full', 'thrilling', 'ever', 'charming', 'male', 'escort', 'date', 'younger sister', 'best man', 'speed', 'dating', 'event', 'romance', 'develops', 'getaway', 'thing', 'suddenly', 'worse', 'mysterious', 'take turn', 'mysterious past', 'diego', 'manny', 'sid', 'sequel', 'animated', 'ice', 'age', 'freeze', 'starting', 'melt', 'trio', 'valley', 'impending', 'disaster', 'prompt', 'reunite', 'warn', 'beast', 'desperate', 'situation', 'ice age', 'bounty', 'seek', 'shelter', 'raging', 'blizzard', 'caught', 'plot', 'betrayal', 'deception', 'bounty hunter', 'get caught', 'middleaged', 'divorced', 'wilson', 'lonely', 'obsessed', 'captain', 'picard', 'odds', 'renegade', 'scientist', 'entire', 'star', 'system', 'help', 'he', 'one man', 'populated', 'class', 'belgium', 'matty', 'three', 'bump', 'car', 'truck', 'parking', 'lot', 'supermarket', 'johnny', 'climb', 'cabin', 'dent', 'although', 'fight', 'sharp', 'word', 'row', 'intervene', 'home', 'trunk', 'dancing', 'hot', 'recover', 'afternoon', 'phone', 'ring', 'stay', 'dramatic', 'whose', 'soul', 'parking lot', 'fight back', 'go home', 'trunk car', 'leslie', 'convinces', 'auto', 'america', 'russia', 'promote', 'professor', 'fate', 'vow', 'finish', 'line', 'invention', 'hero great', 'chance', 'desert', 'island', 'convert', 'carrying', 'animal', 'plane carrying', 'darcy', 'editor', 'highschool', 'paper', 'longterm', 'already', 'place', 'recently', 'started', 'sleep', 'surprise', 'neither', 'bring', 'catholic', 'parent', 'supportive', 'urge', 'follows', 'epic', 'biblical', 'eye', 'clavius', 'powerful', 'roman', 'military', 'tribune', 'aide', 'tasked', 'solving', 'mystery', 'happened', 'jesus', 'week', 'following', 'order', 'rumor', 'jerusalem', 'rebecca', 'south', 'los', 'angeles', 'feel', 'daunting', 'urban', 'setting', 'befriended', 'crawl', 'thanksgiving', 'roll', 'longer', 'innocent', 'invite', 'pretend', 'fiancé', 'south dakota', 'go away', 'los angeles', 'party animal', 'village', 'hélène', 'ordinary', 'single', 'work', 'maid', 'happily', 'fifteen', 'yearold', 'modest', 'cleaning', 'seductive', 'playing', 'game', 'fascinated', 'passionate', 'study', 'count', 'dr', 'inhabitant', 'achieve', 'transition', 'towards', 'without', 'deeply', 'changing', 'one day', 'meet young', 'robin', 'recruit', 'batman', 'threat', 'genius', 'mr', 'homicidal', 'gotham', 'dynamic', 'duo', 'gotham city', 'would', 'prone', 'escaping', 'reality', 'musical', 'answer', 'question', 'eccentric', 'teacher', 'cast', 'dream', 'stumble', 'within', 'create', 'magical', 'would make', 'stumble upon', 'attitude', 'interest', 'bail', 'bond', 'unorthodox', 'method', 'hope', 'open', 'private', 'investigation', 'firm', 'wright', 'con', 'artist', 'avoiding', 'law', 'cat', 'mouse', 'chase', 'dollar', 'diamond', 'heist', 'hiding', 'thief', 'van', 'fake', 'much', 'discovers', 'lottery', 'ticket', 'sole', 'winner', '60', 'million', 'unfortunately', 'wallet', 'held', 'persuades', 'con artist', 'diamond heist', 'le', 'banker', 'highstakes', 'poker', 'intends', 'use', 'winning', 'establish', 'financial', 'grip', 'market', 'sends', 'attend', 'vesper', 'felix', 'dangerous', 'career', 'poker game', 'perform', 'triple', 'act', 'problem', 'arise', 'addition', 'sexy', 'female', 'performer', 'problem arise', 'sexy female', 'homicide', 'witness', 'execution', 'serial', 'killer', 'reese', 'style', 'homicide detective', 'serial killer', 'big', 'trouble', 'indestructible', 'road', 'shocking', 'beyond', 'grave', 'diabolical', 'ship', 'abroad', 'bound', 'transforms', 'ultimate', 'damned', 'terrified', 'nightmarish', 'manhattan', 'subway', 'confront', 'hit road', 'one final', 'aging', 'trip', 'montana', 'nebraska', 'estranged', 'son', 'claim', 'belief', 'take trip', 'estranged son', 'entered', 'illegal', 'underground', 'serious', 'injury', 'chong', 'particularly', 'favorite', 'fought', 'aimless', 'sent', 'commit', 'sent prison', 'independent', 'china', 'story set', 'alabama', '1930s', 'honest', 'highly', 'respected', 'lawyer', 'finch', 'agrees', 'tom', 'accused', 'rape', 'trial', 'surrounding', 'seen', 'sixyearold', 'plenty', 'occurrence', 'court', 'older', 'precocious', 'harris', 'mad', 'dog', 'especially', 'boo', 'reclusive', 'event surrounding', 'seen eye', 'older brother', 'mad dog', 'avoid', 'jail', 'sentence', 'sean', 'tokyo', 'section', 'drift', 'racing', 'veteran', 'future', 'could save', 'save life', 'motorcycle', 'based', 'guevara', 'cuban', 'revolution', 'memoir', 'recount', 'adventure', 'crossing', 'early', '1950s', 'south america', 'proper', 'wish', 'juvenile', 'student', 'czech', 'film', 'academy', 'commission', 'advertising', 'agency', 'organize', 'campaign', 'opening', 'meant', 'includes', 'radio', 'television', 'ad', 'photo', 'product', 'song', 'site', 'newspaper', 'magazine', 'believe', 'grand', 'people believe', 'grand opening', 'drama', 'land', 'hijacking', 'driving', 'crosscountry', 'california', 'young woman', 'teenager', 'suspect', 'vampire', 'unable', 'anyone', 'enlist', 'magician', 'remake', '1985', 'classic', 'enlist help', 'vampire hunter', 'view', 'suitor', 'attracts', 'attention', 'aspiring', 'wounded', 'hopelessly', 'meanwhile', 'businessman', 'passion', 'prove', 'business', 'collapse', 'someone', 'money', 'investor', 'two young', 'film director', 'find someone', 'club', 'ambitious', 'caddy', 'danny', 'eagerly', 'pursues', 'scholarship', 'succeed', 'win', 'judge', 'golf', 'tournament', 'must first', 'sharky', 'vice', 'conspiracy', 'involving', 'local', 'accompanied', 'soundtrack', 'gather', 'evidence', 'rob', 'zombie', 'rodney', 'riot', 'robbery', 'trigger', 'cause', 'lapd', 'series event', 'sell', 'department', 'store', 'wealthy', 'ray', 'porter', 'struggling', 'glamorous', 'eventually', 'realizes', 'choice', 'department store', 'life take', 'make choice', 'orleans', 'entangled', 'dark', 'new orleans', 'dark past', '2010', 'jupiter', 'investigate', 'us', 'discovery', 'moon', 'rapidly', 'crash', 'io', 'cannot', 'access', 'hal9000', 'computer', 'force', 'joint', 'backdrop', 'growing', 'global', 'tension', 'combined', 'seeking', 'several', 'david', 'data', 'us discovery', 'discovery orbit', 'time save', 'sarah', 'uncle', 'fix', 'sound', 'wall', 'building', 'barely', 'may', 'haunt', 'eight', 'embark', 'africa', 'greed', 'nature', 'motif', 'ape', 'stumble across', 'ted', 'come', 'leave', 'faced', 'task', 'care', 'man work', 'young son', 'keong', 'hong', 'kong', 'visit', 'run', 'bronx', 'offer', 'honeymoon', 'befriends', 'neighbor', 'kid', 'neighborhood', 'thug', 'hong kong', 'bronx keong', 'account', 'keeper', 'zoo', 'jan', 'helped', 'hundred', 'nazi', 'invasion', 'laurel', 'sommersby', 'believed', 'pleasant', 'thus', 'mixed', 'emotion', 'appears', 'changed', 'deal', 'unsure', 'willing', 'perhaps', 'great deal', 'assassin', 'altar', 'employer', 'bill', 'circle', 'bride', 'vengeance', 'hunt', 'saving', 'affair', 'produce', 'car accident', 'disease', 'try help', 'help young', 'woman find', 'find husband', 'bobby', 'sand', 'ira', 'led', 'strike', 'republican', 'tried', 'political', 'six', 'prior', 'ira member', 'perky', 'venture', 'december', 'impossible', 'moscow', 'traffic', 'endless', 'rush', 'trying', 'making', 'better', 'talk', 'pas', 'quickly', 'got', '15yearold', 'cancer', 'specialist', 'food', 'designer', 'people trying', 'one life', 'week left', 'plan life', 'vincent', 'crooked', 'wrong', 'stabbed', 'robbing', 'identity', 'bag', 'loot', 'belongs', 'mob', 'kidnaps', 'crooked cop', 'cop whose', 'go wrong', 'mob bos', 'abandoned', 'complex', 'power', 'halt', 'tad', 'celebrity', 'like', 'max', 'construction', 'worker', 'mistaken', 'peru', 'beautiful', 'sara', 'famous', 'crack', 'code', 'engaged', 'reallife', 'secretly', 'betrayed', 'teaming', 'shady', 'step', 'hero max', 'professor take', 'take place', 'beautiful daughter', 'confident', 'shown', 'culture', 'color', 'wear', 'caine', 'houston', 'book', 'trade', 'number', 'victor', 'manning', 'whilst', 'undercover', 'operation', 'sinister', 'newcomer', 'scene', 'drug trade', 'princeton', 'university', 'nash', 'serve', 'finally', 'revolutionary', 'breakthrough', 'earn', 'teaching', 'becoming', 'romantically', 'asks', 'breaking', 'soviet', 'grows', 'paranoid', 'able', 'strength', 'regain', 'know', 'soon get', 'get involved', 'sometimes', 'pull', 'newly', 'chief', 'though', 'surprised', 'string', 'bank', 'public', 'carry', 'chosen', 'part', 'robber', 'usual', 'detail', 'police chief', 'bank robbery', 'police force', 'bank robber', 'look', 'transform', 'childrens', 'failing', 'inner', 'facing', 'bureaucracy', 'difference', 'education', 'mother one', 'coach', 'football', 'training', 'free', 'piece', 'field', 'sold', 'loose', 'receive', 'solution', 'piece land', 'play football', 'belle', 'elizabeth', 'navy', 'raised', 'lord', 'certain', 'privilege', 'prevents', 'fully', 'tradition', 'standing', 'idealistic', 'shape', 'role', 'justice', 'slavery', 'england', 'inspired true', 'find love', 'workingclass', 'track', 'corporate', 'success', 'megan', 'patrick', 'diagnosed', 'body', 'sugar', 'unconventional', 'stonehill', 'company', 'develop', 'cure', 'theory', 'community', 'unlikely', 'ally', 'success two', 'specialist dr', 'two unlikely', 'unlikely ally', 'childhood', 'scottish', 'william', 'platoon', 'english', 'soldier', 'revolt', 'rise', 'sir', 'successful', 'minister', 'loving', 'threatened', 'goring', 'apparently', 'despair', 'lady', 'old', 'whole', 'government minister', 'loving wife', 'help friend', 'hale', 'missionary', 'marries', 'exotic', 'kingdom', 'native', 'clash', 'instead', 'tragedy', 'new england', 'theyve', 'kidnapped', 'learn', 'stacy', 'bona', 'snoop', 'colleague', 'name', 'interview', 'supposedly', 'upcoming', 'add', 'confusion', 'bona fide', 'begin unravel', 'whale', 'mammoth', 'size', 'sense', 'inspire', 'dick', 'half', 'encounter', 'harrowing', 'aftermath', 'surviving', 'pushed', 'limit', 'forced', 'unthinkable', 'alive', 'storm', 'starvation', 'panic', 'call', 'value', 'mate', 'stay alive', 'second', 'enlists', 'mississippi', 'variety', 'mentally', 'unstable', 'sergeant', 'world war', 'year war', 'fellow soldier', 'frodo', 'bilbo', 'keep', 'falling', 'hand', 'creator', 'fellowship', 'formed', 'sure', 'doom', 'destroyed', 'must leave', 'order keep', 'falling hand', 'make sure', 'organization', 'brotherhood', 'permanent', 'north', 'candidate', 'gen', 'warren', 'presidential', 'potential', 'hired work', 'devastated', 'tragic', 'famine', 'history', 'resulting', 'least', 'severe', 'earthquake', 'corruption', 'woman child', 'ready', 'safety', 'subdivision', 'complication', 'cross', 'path', 'known', 'cross path', 'new mexico', 'surgeon', 'need', 'idea', 'horrific', 'leaf', 'bizarre', 'sick', 'twist', 'beautiful woman', 'come term', 'chef', 'reporter', 'filmed', 'bust', 'went', 'chased', 'video', 'news reporter', 'trying get', 'vacation', 'alongside', 'responsible', 'onto', 'counterfeiting', 'neck', 'lifethreatening', 'provide', 'bombing', 'allegiance', 'isabella', 'thing get', 'pair stumble', 'stumble onto', 'tarzan', 'orphan', 'jane', 'rescued', 'decision', 'belong', 'find he', 'must make', 'burn', 'difficult', 'amazing', 'sherlock', 'holmes', 'shame', 'lightning', 'assuming', 'personality', 'shooting', 'new partner', 'sherlock holmes', 'problem people', 'warring', 'africanamerican', 'dock', 'hang', 'sing', 'trish', 'uncover', 'trail', 'deceit', 'faction', 'joseph', 'writer', 'hopeless', 'completely', 'zooey', 'deschanel', 'dump', '500', 'figure', 'sour', 'rediscovers', 'zooey deschanel', 'day together', 'love affair', 'british', 'journalist', 'george', 'courageous', 'australian', 'orphaned', 'japanese', 'occupation', '1937', 'ken', 'build', 'shop', 'tricked', 'stolen', 'searching', 'la', 'vega', 'vanessa', 'prostitute', 'wannabe', 'la vega', 'disappears', 'cant', 'poor', 'psychic', 'arrest', 'abusive', 'really', 'police cant', 'cant seem', 'trapped', 'eerie', 'bay', 'horrifying', 'lured', 'coastline', 'aboard', 'year earlier', 'bus', 'march', 'character', 'laid', 'aircraft', 'hollywood', 'actor', 'background', 'trek', 'religion', 'politics', 'character including', 'alan', 'ups', 'broadcaster', 'tv', 'nervous', 'breakdown', 'bouncing', 'subsequently', 'papa', 'greatest', 'spectrum', 'salvage', 'violent', 'digital', 'nervous breakdown', 'looking', 'respect', '18yearold', 'diane', 'suffering', 'infection', 'health', 'losing', 'treatment', 'keeping', 'hospital', 'next', 'documentary', 'shackleton', 'retelling', 'ernest', 'illfated', 'vessel', 'ocean', 'decided', 'terrain', 'reached', 'confidence', 'trapped ice', 'crew injured', 'still alive', 'alive set', 'set find', 'peter', 'present', 'birth', 'embarks', 'accepts', 'ride', 'dennis', 'win back', 'australia', 'northern', 'territory', 'narrator', 'goose', 'youngster', 'elder', 'mythical', 'slip', 'havoc', 'unless', 'tribal', 'senior', 'lawrence', 'chester', 'taste', 'politically', 'correct', 'guided', 'wild', 'droz', 'pit', 'pal', 'president', 'throw', 'various', 'collide', 'school senior', 'stranded', 'perilous', 'staying', 'freezing', 'forced make', 'xavier', 'genetically', 'gifted', 'superheroes', 'rising', 'wolverine', 'jean', 'grey', 'nemesis', 'scheme', 'mutant', 'stardom', 'happiness', 'adapted', 'fiction', 'author', 'tracy', 'creation', 'dutch', 'master', 'peasant', 'painter', 'assistant', 'model', '2004', 'shes', 'hometown', 'washedup', 'stuck', 'promising', 'threatens', 'collection', 'short', 'depicts', 'socially', 'casual', 'sex', 'short story', 'set early', 'sex violence', 'hendrix', 'doll', 'acquired', 'stuffed', 'heroin', 'followed', 'retrieve', 'crook', 'blind', 'susy', 'back home', 'led ruthless', 'obsession', 'redemption', 'love story', 'commanding', 'prestigious', 'award', 'retirement', 'jewel', 'unknowingly', 'possession', 'police academy', 'commanding officer', 'jewel thief', 'failed', 'kill', 'evolves', 'train', 'via', 'engine', 'comfortable', 'hole', 'filled', 'walk', 'giant', 'st', 'doctor', 'vet', 'horrible', 'sideline', 'requires', 'home life', 'expert', 'halle', 'berry', 'dive', 'water', 'halle berry', 'indian', 'brought', 'unique', 'indian warrior', 'brought back', 'save family', 'west', 'cult', 'charismatic', 'inside look', 'west hollywood', 'anna', 'loneliness', 'drawn', 'occupied', 'disabled', 'link', 'fantasy', 'deeper', 'turning', 'boy discovers', 'discovers link', 'cheated', 'door', 'torrid', 'married woman', 'next door', 'torrid affair', 'soon take', 'factory', 'eddie', 'oscar', 'jackie', 'brown', 'solid', 'citizen', 'street', 'brutally', 'assault', 'street gang', 'pan', 'disney', 'ii', 'wendy', 'grown', 'classic tale', 'peter pan', 'war ii', 'two child', 'nuclear', 'ruled', 'intelligence', 'created', 'danger', 'survive', 'danger one', 'michael', 'seattle', 'travel back', 'set kill', 'compete', 'taken', 'notorious', 'secure', 'letter', 'wrote', 'passed', 'returning', 'wouldbe', 'book editor', 'new friend', 'holiday', 'pace', 'hoping', 'nice', 'general', 'cant find', 'find perfect', 'iris', 'remote', 'drunken', 'hannah', 'revealing', 'stretch', 'remote cabin', 'prep', 'advice', 'woo', 'prep school', 'father two', 'pal one', 'one another', 'katherine', 'christian', 'faith', 'religious', 'phenomenon', 'plague', 'overrun', 'behind', 'science', 'explain', 'happening', 'combat', 'wait', 'louisiana', 'swamp', 'tragic death', 'overrun small', 'elderly', 'scott', 'ghost', 'kate', 'pick', 'posse', 'come back', 'location', 'toll', 'visual', 'tone', 'poem', 'narration', 'image', 'philip', 'glass', 'philip glass', 'called', 'emily', 'rose', 'carpenter', 'blame', 'performed', 'moore', 'priest', 'arrested', 'suspicion', 'bruner', 'going', 'easy', 'say', 'pink', 'panther', 'clouseau', 'catch', 'convinced', 'phantom', 'returned', 'resource', 'reveal', 'inspector clouseau', 'heroic', 'dusty', 'outback', 'barren', 'landscape', 'australian outback', 'assignment', 'dont', 'cheerful', 'blue', 'psychiatrist', 'aid', 'gambler', 'shadowy', 'sting', 'scam', 'harper', 'cynical', 'baby', 'hiring', 'getting', 'private eye', 'pacific', 'adult', 'guide', 'simple', 'south pacific', 'toretto', 'racer', 'suspected', 'brian', 'infiltrates', 'torettos', '22nd', 'distress', 'signal', 'seasoned', 'survivor', 'monstrous', '22nd century', 'distress signal', 'threatens destroy', 'compilation', 'trevor', 'peggy', 'cousin', 'dinner', 'iowa', 'mark', 'perry', 'nightclub', 'involving young', 'young men', 'first time', 'looking love', 'green', 'rambo', 'enforcement', 'vietnam', 'hill', 'sheriff', 'employ', 'guerilla', 'shake', 'tail', 'law enforcement', 'cop tail', 'james', 'sanchez', 'succeeds', 'james bond', 'drug lord', 'one thing', 'saga', 'centered', 'moral', 'tested', 'investigates', 'scandal', 'brotherinlaw', 'nypd', 'city police', 'police officer', 'given', 'asylum', 'behavior', 'margaret', 'strict', 'supervision', 'nun', 'punishment', 'policeman', 'overbearing', 'theresa', 'owns', 'naturally', 'object', 'objection', 'period', 'japan', 'era', 'unemployed', 'throne', 'plunging', 'wartorn', 'film set', 'workaholic', 'architect', 'universal', 'allows', 'complication arise', 'graham', 'sweetheart', 'always', 'enter', 'classmate', 'murderous', 'pact', 'based true', 'related', 'trailer', 'park', 'lovable', 'spend', '18', 'dirty', 'steal', 'amount', 'coin', 'trailer park', 'boy get', 'silent', 'score', 'paralyzed', 'silent film', 'fled', 'outer', 'clean', 'developed', 'rather', 'interesting', 'quality', 'think', 'outer space', 'ship arrives', 'think he', 'mom', 'incident', 'single mom', 'brought together', 'puzzle', 'gate', 'hell', 'unleashes', 'pinhead', 'legion', 'challenge', 'demand', 'expecting', 'twin', 'trophy', 'photographer', 'isnt', 'result', 'owner', 'turn life', 'trophy wife', 'glitz', 'shopping', 'drinking', 'clubbing', 'blamed', 'major', 'launch', 'medium', 'relentlessly', 'pursued', 'fleeing', 'penniless', 'playground', 'hatch', 'high life', 'hatch plan', 'plan make', 'life forever', 'kane', 'unwittingly', 'prepare', 'come america', 'start new', 'new life', 'lover', 'meaning', 'friend family', 'struggle find', 'hearing', 'alien', 'sudden', 'opportunity', 'independence', 'thrill', 'honor', 'plus', 'traditional', 'clan', 'vast', 'cultural', 'economic', 'everything change', 'release', 'demon', 'closet', 'preparing', 'service', 'framed', 'clear', 'foil', 'fbi', 'secret service', 'service agent', 'assassination attempt', 'clear name', 'fbi agent', 'slacker', 'wrestling', 'fan', 'promoter', 'bob', 'center', 'foe', 'matter', 'find center', 'work together', 'pig', 'season', 'table', 'charlotte', 'spider', 'pen', 'ensure', 'valerie', 'dealing', 'philandering', 'spaceship', 'swimming', 'pool', 'being', 'salon', 'swimming pool', 'handsome men', 'hilarious', 'buddy', 'audience', 'jimmy', 'hears', 'turkey', 'opposite', 'aside', 'must put', 'put aside', 'aside difference', 'homer', 'supply', 'simpson', 'fugitive', 'lose', 'virginity', 'virgin', 'halloween', 'youthful', 'appearance', 'upsidedown', 'drew', 'spiritual', 'ashley', 'smith', 'hostage', 'rick', 'inspirational', 'purpose', 'driven', 'guidance', 'reading', 'peaceful', 'fantasia', 'malcolm', 'arriving', 'arkansas', 'contact', 'dale', 'dixon', 'presence', 'area', 'town go', 'go hiding', 'incredible', 'teen', 'defeat', 'everywhere', 'ranger', 'match', 'monster', 'power ranger', 'emerges', 'horrified', 'brutal murder', 'courier', 'massive', 'contest', 'around world', 'werewolf', 'american man', 'insatiable', 'townspeople', 'grizzled', 'bloodthirsty', 'great white', 'white shark', 'foster', 'constantly', 'go run', 'shiva', 'vikram', 'identical', 'richard', 'contract', 'family man', 'mildmannered', 'suburb', 'lived', 'clumsy', '10', 'sewashi', 'generation', 'doraemon', 'caretaker', 'nobita', 'disastrous', 'happy', 'program', 'forcing', '10 year', 'year old', 'take care', 'sad', '30', 'losing job', 'christmas', 'wave', 'surfer', 'legend', 'sport', 'become hero', 'sinojapanese', 'captured', 'republic', 'nanking', 'massacre', 'ten', 'thousand', 'life death', 'second sinojapanese', 'sinojapanese war', 'paul', 'matthew', 'gypsy', 'madame', 'rosa', 'realizing', 'nerd', 'gift', 'hour', 'psychologist', 'coworker', 'test', 'awkward', 'approach', 'realize', 'suddenly find', 'nerdy', 'quite', 'fit', 'average', 'contemporary', 'monica', 'idol', 'mile', 'indiana', 'carefree', 'grandfather', 'mile away', 'brian dennehy', 'police detective', 'standup', 'comic', 'tour', '20th', 'kelly', 'ned', 'biggest', 'remain', 'even mean', 'felon', 'broken', 'murdered', 'toughasnails', 'capture', 'avenge', 'sacrificed', 'brutally murdered', 'daughter kidnapped', 'join force', 'race time', 'comingofage', '1960s', 'arrival', 'playboy', 'nearly', 'teenage girl', 'life change', 'outlaw', 'bishop', 'prepares', 'joined', 'johnson', 'setup', 'ryan', 'remaining', 'refuge', 'mexican', 'fierce', 'gunfight', 'thomas', 'jefferson', 'post', 'france', 'adjust', 'increasingly', 'smitten', 'maria', 'slave', 'sally', 'daughter visit', 'bet', 'inventor', 'worldwide', '80', 'reeling', 'recent', 'ruby', 'chamber', 'affection', 'ricky', 'goodnatured', 'mike', 'start anew', 'meg', 'anniversary', 'humorous', 'often', 'wedding anniversary', 'film follows', 'modernday', 'breathtaking', 'mountain', 'intimately', 'dawn', 'explorer', 'percy', 'amazon', 'previously', 'advanced', 'civilization', 'inhabited', 'region', 'despite', 'scientific', 'establishment', 'indigenous', 'population', 'savage', 'devoted', 'jungle', 'dawn 20th', '20th century', 'sibling', 'talent', 'toy', 'strange', 'ahead', 'find mysterious', 'new world', 'current', 'trail lead', 'madrid', 'mistress', 'organized', 'main', 'society', 'improve', 'celebration', 'diverse', 'high society', 'molly', 'carl', 'goon', 'love however', 'business partner', 'seek help', 'set thing', 'thing right', 'harlem', 'southern', 'victory', 'initially', 'seemingly', 'seize', 'dealer', 'smoothly', 'dea', 'posing', 'coverup', 'corrupt cop', 'seemingly perfect', 'going along', 'dea agent', 'dorothy', 'wake', 'whisked', 'oz', 'lion', 'devious', 'villain', 'marshal', 'latest', 'colorful', 'restore', 'old friend', 'restore order', 'spends', 'hanging', 'online', 'hijack', 'starring', 'reunion', 'containing', 'using', 'virtual', 'loom', 'horizon', 'blend', 'spends time', 'life life', 'girl dream', 'real world', 'set aside', 'band together', 'together save', 'save world', 'science fiction', 'claudia', 'spending', 'crazy', 'antic', 'daughter plan', 'dracula', 'relocate', '70', 'cindy', 'helsing', 'reason', 'possibly', 'true love', 'van helsing', 'hook', 'babe', 'clerk', 'stanley', 'ipkiss', 'mask', 'god', 'wearing', 'charm', 'singer', 'carlyle', 'influence', 'anger', 'crime lord', '1945', 'germany', 'stand', 'brink', 'closing', 'east', 'allied', 'attacking', 'berlin', 'hitler', 'adviser', 'lay', 'arm', 'finally come', 'must find', 'billion', 'stashed', 'terrorism', 'lack', 'skill', 'necessary', 'hack', 'anything', 'hercule', 'poirot', 'enjoys', 'luxurious', 'newlywed', 'heiress', 'identify', 'hercule poirot', 'du', 'et', 'de', 'client', 'une', 'soleil', 'il', 'commercial', 'morgan', 'adam', 'shaw', 'quest', 'ability', 'mutiny', 'raid', 'fun', 'swanky', 'coconut', 'petes', 'beach', 'paradise', 'staff', 'hide', 'dancer', 'inspiration', 'dirt', 'bwakaw', 'rene', 'came', 'twilight', 'late', 'companionship', 'forward', 'packed', 'distribution', 'paid', 'advantage', 'companion', 'growing old', 'taking advantage', 'funeral home', 'exact', 'attempting', 'spelling', 'bee', 'worked', 'hard', 'championship', 'national spelling', 'spelling bee', 'treacherous', 'highest', 'document', 'challenged', 'encountered', 'mankind', 'element', 'obstacle', 'lifelong', 'survival', 'two different', 'elvis', 'first film', 'net', 'brings', 'hacker', 'brings new', 'human form', 'suicide', 'young female', 'put test', 'birthday', 'exactly', 'connect', 'connects', 'grandchild', 'child child', 'colorado', 'rockies', 'dysfunctional', 'patriarch', 'road trip', 'adventure lifetime', 'toru', 'watanabe', 'loses', 'commits', 'exgirlfriend', 'naoko', 'grow', 'share', 'loss', 'naokos', 'spring', 'school student', 'commits suicide', 'looking new', 'grow close', 'look like', 'treadwell', 'android', 'cherry', '2000', 'tracker', 'zone', 'successful businessman', 'chris', 'tim', 'wood', 'georgia', 'troubled', 'adaptation', 'novel', 'convicted', 'freedom', 'frustration', 'guilt', 'spike', 'novel name', 'drug dealer', 'day left', 'last day', 'athlete', 'graduating', 'charity', 'alaska', 'wilderness', 'convenience', 'dante', 'bored', 'counter', 'hockey', 'store clerk', 'alex', 'rider', 'normal', 'spy', 'recruited', 'blunt', 'continue', 'new computer', 'hick', 'shine', 'western', 'classical', 'composer', 'interacts', 'include', 'chuck', 'shankar', 'personal life', 'greg', 'misguided', 'cal', 'jr', 'earned', 'nascar', 'stripe', 'finishing', 'coast', 'record', 'floor', 'lifelong friend', 'retired', 'hatcher', 'ferocious', 'jamaican', 'marked', 'return hometown', 'marked death', 'phil', 'sunny', 'county', 'magnate', 'joe', 'kathleen', 'collateral', 'wikileaks', 'consciousness', 'privacy', 'information', 'extensive', 'larger', 'arundhati', '1920s', 'bravery', 'born', 'pilot', 'transfer', 'fashion', 'deserted', 'good life', 'plane crash', 'pledge', 'loyalty', 'cab', 'promise', 'cab driver', 'weekend', 'college friend', 'cabin wood', 'get bargained', 'discover truth', 'truth behind', 'judith', 'nelson', 'discovering', 'total', 'possibility', 'elevator', 'operator', 'people find', 'suddenly single', 'fifteen year', 'plan plot', 'life go', 'open eye', 'pierre', 'suffers', 'transplant', 'habit', 'dan', 'may may', 'people around', 'three kid', 'cache', 'cartel', 'routine', 'transport', 'entrepreneur', 'rough', 'suspicious', 'cargo', 'asked', 'unstoppable', 'one last', 'kevin', 'fletcher', 'remains', 'compelled', 'casey', 'shatter', 'apart', 'elliot', 'eden', 'inadvertently', 'photograph', 'smuggler', 'follow', 'evaluate', 'feeling', 'falling love', 'mostly', 'exchange', 'suit', 'tie', 'father son', 'tiny', 'fairy', 'prince', 'numerous', 'determine', 'british comedy', 'man named', 'american woman', 'right one', 'planned', 'whose life', 'normal life', 'take job', 'find caught', 'louis', 'runner', 'brazilian', 'regime', 'kidnap', 'brazil', 'ask', 'katniss', 'confronts', 'snow', 'showdown', 'closest', 'unit', 'district', '13', 'mortal', 'trap', 'arena', 'go mission', 'risk life', 'maxim', 'movement', 'challenging', 'greedy', 'ruler', 'grieving', 'near', 'tony', 'tonys', 'holding', 'ransom', 'frantically', 'highkicking', 'gang leader', 'frantically search', 'government agent', 'seek revenge', 'startling', 'confession', 'charlie', 'rachel', 'satan', 'run away', 'get married', 'handyman', 'earl', 'nevada', 'hamlet', 'coed', 'picking', 'odd', 'prey', 'bold', 'beauty', 'fair', 'risky', 'shell', 'attraction', 'circus', 'rich', 'accepting', 'bridge', 'strong', 'set world', 'guilty', 'colonel', 'braddock', 'communist', 'mount', 'armed', 'hightech', 'battling', 'tow', 'vietnamese', 'blazing', 'colonel james', 'fight way', '1863', 'point', 'psychotic', 'kingpin', 'eager', 'pickpocket', 'peace', 'restore peace', 'running', 'talking', 'carol', 'bull', 'alexander', 'hideaway', 'discover secret', 'individual', 'organized crime', 'baseball', '3000', 'didnt', 'te', 'switch', 'person', 'mother daughter', 'seduce', 'cheating', '1990s', 'unusual', 'todd', 'anderson', 'sign', 'jersey', 'new jersey', 'set big', 'diner', 'hangout', 'discus', 'every day', 'legendary', 'proving', 'cup', 'new generation', 'need help', 'christine', 'collins', 'police captain', 'somewhat', 'ragtag', 'bitter', 'coveted', 'shore', 'blood', 'sight', 'pristine', 'rest', 'ruined', 'secretary', 'jodie', 'lifestyle', 'matt', 'corner', 'jodie foster', 'stop nothing', 'light', 'note', 'murderer', 'sheltered', 'protected', 'pennsylvania', 'grit', 'forge', 'sole witness', 'go undercover', 'prominent', 'kgb', 'fact', 'linked', 'runaway', 'vernon', 'find truth', 'marry', 'rebellious', 'dwarf', 'there one', 'snow white', 'epic battle', 'battle good', 'good evil', 'bear', 'left dead', 'thats', 'asking', 'friend like', 'bad guy', 'hairdresser', 'nadine', 'office', 'intruder', 'legal', 'gun', 'physician', 'murphy', 'possessed', 'communicate', 'distance', 'outrageous', 'chain event', 'helping', 'dumped', 'pain', 'gain', 'ex', 'hurt', 'zoe', 'witnessing', 'hitman', 'engaging', 'vigilante', 'mobster', 'parent death', 'singersongwriter', 'williams', 'fallen', 'emotionally', 'threaten', 'penguin', 'dance', 'respective', 'flee', 'jackal', 'temptation', 'oasis', 'david sarah', 'across desert', 'new way', 'sun', 'overthrow', 'dynasty', 'protector', 'executive', 'aaron', 'mentor', 'merchant', 'try make', 'daylight', 'command', 'luck', 'bomber', 'disciplined', 'fighting', 'german', 'deputy', 'commissioner', 'exile', 'wrongly', 'corrupt politician', 'lastditch', 'jon', 'league', 'player', 'india', 'touching', 'commitment', 'soon discovers', 'discovers two', 'interpol', 'performance', 'nanami', 'korean', 'junho', 'imminent', 'happy life', 'life one', 'one year', 'way home', 'harbor', 'extraordinary', 'irish', 'miner', 'cruelty', 'mining', 'infiltrate', 'report', 'sympathy', 'irish emigrant', 'doug', 'highland', 'escaped', 'casanova', 'abducts', 'strongwilled', 'psychopath', 'ethan', 'settle', 'jock', 'destined', 'existence', 'strip', 'directs', 'mel', 'gibson', 'neill', 'cannes', 'festival', 'actual', 'capt', 'squad', 'commando', 'mel gibson', 'drama based', 'based actual', 'actual event', 'sent rescue', 'must keep', 'covert', 'cia', 'analyst', 'uncovers', 'economy', 'terrorist attack', 'arthur', 'drunk', 'sober', 'smash', 'stood', 'conniving', 'trick', 'hapless', 'universe', 'writing', 'receiving', 'begin see', 'rambunctious', 'toad', 'fantastic', 'rollercoaster', 'written', 'terry', 'jones', 'central', 'wellknown', 'bringing', 'wit', 'colourful', 'absolutely', 'delight', 'alike', 'hilarious adventure', 'seaside', 'poisonous', 'insect', 'guard', 'engage', 'depicting', 'red', 'calcutta', 'briski', 'began', 'giving', 'photography', 'aware', 'academy award', 'better life', 'worst', 'oil', 'self', 'dre', 'suggests', 'castle', 'disfigured', 'jigsaw', 'formidable', 'deed', 'set sight', 'task force', 'explores', 'shaped', 'depth', 'wisecracking', 'treasure hunt', 'cub', 'craves', 'breed', 'waste', 'colony', 'watch', 'heaven', 'griefstricken', 'observes', 'daily', 'balance', 'desire', 'heal', '13yearold', 'twelve', 'eagle', 'handed', 'revolves', 'durai', 'singam', 'surya', 'brave', 'serf', 'fulfill', 'wisdom', 'bumbling', 'accompanies', 'set backdrop', 'revolves around', 'durai singam', 'swing', 'air', 'arent', 'trained', 'corporal', 'transportation', 'highly trained', 'thing way', 'ali', 'stephanie', 'minute', 'tobacco', 'device', 'apparent', 'mass', 'placed', 'consequence', 'anything want', 'smalltown', 'courage', 'lifechanging', 'innocence', 'speaks', 'couldnt', 'father must', '50', 'townsfolk', 'channel', 'caesar', 'formula', 'maggie', 'volatile', 'brilliant', 'married man', 'three year', 'suspect man', 'researcher', 'fiancee', 'done', 'recreate', 'something evil', 'sweet', 'shirley', 'cyril', 'mum', 'read', 'reluctant', 'lock', 'outside', 'kishen', 'commit suicide', 'flying', 'burnett', 'supposed', 'fighter pilot', 'evening', 'coffee', 'coffee shop', 'investigating', 'mysterious death', 'take action', 'small group', 'thriller', 'futuristic', 'even though', 'life wife', 'tommy', 'responsibility', 'dil', 'newborn', 'newborn child', 'rest gang', 'pigeon', 'overcomes', 'britain', 'message', 'evading', 'air force', 'baker', 'comeback', 'fisherman', 'amid', 'explosive', 'recovering', 'swath', 'torture', 'child soldier', 'tiger', 'separated', 'reunited', 'promised', 'wayne', 'unfaithful', 'collect', 'hired kill', 'thing go', 'get worse', 'affluent', 'pressure', 'new owner', 'must prove', 'reconcile', 'hazel', 'competing', 'lewis', 'tribe', 'andy', 'interaction', 'sonny', 'group friend', 'come face', 'face face', 'misunderstanding', 'dave', 'ordered', 'management', 'therapy', 'moving', 'nan', '1965', 'heat', 'cold', 'supremacy', 'superpower', 'itäôs', 'testing', 'äì', 'imagined', 'cold war', 'war veteran', 'äì man', 'mercedes', 'howard', 'salesman', 'busy', 'miss', 'eve', 'else', 'christmas eve', 'cannonball', 'shining', 'brock', '20', 'across country', 'several year', 'advertisement', 'staging', 'personal assistant', 'journey across', 'energy', 'mayhem', 'let', 'settler', 'alice', 'reluctantly', 'saved', 'adopted', 'picture', 'shocked', 'increase', 'find one', 'phone call', 'body count', 'trust', 'instinct', 'divorced woman', 'singh', '2002', 'historical', 'british raj', 'indian independence', 'richie', 'niece', 'sophia', 'deliver', 'experimental', 'exploration', 'graduation', 'isolated', 'somebody', 'sending', 'warning', 'car hit', 'released', 'cool', 'perfected', 'intrigued', 'seeing', 'creating', 'friendly', 'released jail', 'comic book', 'cool world', 'come life', 'bookie', 'finger', 'nearby', 'town people', 'hire bobby', 'bobby kill', 'san', 'brain', 'logan', 'rock', 'verge', 'teenage boy', 'stay together', 'help pas', 'pas report', 'mechanic', 'crowd', 'alcoholic', 'possible', 'find new', 'specie', 'colonist', 'colonial', 'dark secret', 'thijs', 'leaving', 'adolescent', 'grandson', 'refuse', 'rascal', 'wont', 'doorstep', 'till', 'drag', 'allow', 'professional life', 'blind date', 'dictator', 'campbell', 'emerge', 'involvement', 'lt', 'solve murder', 'thinking', 'heäôs', 'interviewed', 'departure', 'cameraman', 'installation', 'skilled', 'reporter cameraman', 'introduces', 'girl school', 'sex drug', 'take toll', 'mumbai', 'distant', 'relative', 'welcome', 'ploy', 'happily married', 'romantic comedy', 'forced confront', 'trauma', 'anne', 'easily', 'reverend', 'responsible death', '1970s', 'orphanage', 'man killed', 'hero willing', 'poet', 'pursuit', 'mirror', 'terrible', 'older sister', '24', 'interwoven', 'entirely', 'chairman', '24 hour', 'life like', 'daycare', 'hardship', 'stiff', 'summer camp', 'daycare center', 'pagafantas', 'paying', 'subject', 'considers', 'spain', 'gorgeous', 'nobody', 'burton', 'charged', 'murdering', 'plagued', 'apocalyptic', 'prophecy', 'intense', 'rivalry', 'jealousy', 'navigate', 'adulthood', 'comedy follows', 'follows group', 'navigate way', 'however soon', 'research', 'double', 'appear', 'two woman', 'jerry', 'pistol', 'suffer', 'samantha', 'border', 'farmer', 'ranch', 'rancher', 'owes', 'unlike', 'rocket', 'built', 'surveillance', 'fuel', 'experienced', 'vic', 'teach', 'push', 'three friend', 'frontier', 'abraham', 'lincoln', 'quiet', 'learning', 'stern', 'illness', 'guardian', 'angel', 'stepmother', 'spends day', 'guardian angel', 'come form', 'eponymous', 'davis', 'coming', 'annie', 'original', '1940s', 'neighboring', 'born wealthy', 'miller', 'graphic', '300', 'chapter', 'fresh', 'greek', 'greece', 'empire', 'invading', 'persian', 'vengeful', 'commander', 'graphic novel', 'elderly man', 'go search', 'cheap', 'amp', 'funny', 'profoundly', 'article', 'school teacher', 'soon malcolm', 'he going', 'wwii', 'destiny', 'freespirited', '20 year', 'another man', 'ivan', 'josh', 'dim', 'production', 'property', 'company soon', 'soon learn', 'soon become', 'bunch', 'duck', 'rooster', 'fly', 'become greatest', 'conspire', 'sacrifice', 'principle', 'find facing', 'prehistoric', 'alters', 'europe', 'miracle', 'strange thing', 'jed', 'shadow', 'writes', 'breakout', 'thrust', 'country music', 'music legend', 'daughter rose', 'fall apart', 'fortunately', 'bought', 'lure', 'grisly', 'stand way', 'wiley', 'beginning', 'conflicting', 'ireland', 'experiencing', 'gruesome', 'group american', 'friend take', 'tormented', 'nathan', 'craig', 'sexual', 'outlook', 'film based', 'dangerous sexual', 'sexual bond', 'body found', 'gunslinger', 'embroiled', 'ww', 'resistance', 'witnessed', 'bachelor', 'capturing', 'star joe', 'young daughter', 'must learn', 'personal professional', 'starred', 'based novel', 'skeleton', 'bring child', 'martian', 'broadcast', 'try get', 'supreme', 'homeless', 'deaf', 'riley', 'assigned', 'quaid', 'washington', 'lobbyist', 'dennis quaid', 'luxury', 'opponent', 'pose', 'wealth', 'shaken', 'lang', 'bout', 'world champion', 'freshman', 'confronted', 'convention', 'find unexpected', 'dying', 'mean time', 'new love', 'make enemy', 'lehi', 'nephi', 'destruction', 'plate', 'ishmael', 'nephis', 'son daughter', 'nephis brother', 'brother rebel', 'promised land', 'raucous', 'locate', 'launching', 'perseveres', 'church', 'controlling', 'mismatched', 'disguise', 'bring back', 'unexpectedly', 'amusing', 'planet earth', 'hunted', 'compassionate', 'dorn', 'cut', 'villainous', 'bureaucratic', 'benefit', 'pass', 'pass away', 'joining', 'jay', 'evans', 'rosemary', 'clooney', 'mitchell', 'gene', 'barry', 'feud', 'guy mitchell', 'simply', '15', 'single mother', 'dream becoming', 'stonewall', 'considered', 'mccloud', 'beautiful girl', 'one night', 'killed trying', 'soon come', 'back dead', 'mary', 'lone', 'uncover truth', 'nicholas', 'healing', 'whether', 'loyal', 'go quest', 'chaos', 'occurs', 'group people', 'outsider', 'sexuality', 'peril', 'inmate', 'knew', 'institute', 'bright', 'flashback', 'story told', 'severely', 'obese', 'friendless', 'girl living', 'thus begin', 'senator', 'hopeful', 'detailing', 'afghanistan', 'taliban', 'television reporter', 'special force', 'botched', 'casino', 'alec', 'aspires', 'freak', 'budding', 'truly', 'currently', 'extreme', 'college graduation', 'want marry', 'uncovering', 'disappearance', 'becomes obsessed', 'son disappearance', 'sgt', 'topsecret', 'grant', 'conventional', 'disappeared', 'phoenix', 'arizona', 'discovered', 'chronicling', 'fateful', 'infamous', 'extremely', 'clever', 'security', 'sort', 'long time', 'played', 'vlad', 'oldschool', 'modern day', 'informant', 'philippe', 'paranoia', 'find trapped', 'prison camp', 'fired', 'causing', 'shoe', 'attendant', 'million dollar', 'flight attendant', 'drone', 'warfare', 'unfolds', 'hawke', 'bunker', 'cockpit', 'damage', 'january', 'real life', 'tour duty', 'becomes increasingly', 'restaurant', 'bullet', 'toward', 'brother turn', 'earp', 'doc', 'alliance', 'corral', 'doc holliday', 'form unlikely', 'unlikely alliance', 'correspondent', 'dispatched', 'worldäôs', 'hostile', 'intention', 'thrown', 'inextricably', 'group soldier', 'bring home', 'thrown together', 'producer', 'studio', 'penn', 'bruce', 'sheridan', 'becomes clear', 'debut', 'cohen', 'archaeologist', 'buried', 'beneath', 'egyptian', 'come realize', 'errand', 'union', 'witness murder', 'dead man', 'spoiled', 'nora', 'camilla', 'mansion', 'beverly', 'aunt', 'party girl', 'beverly hill', 'forced move', 'hip', 'art', 'spark', 'ground', 'hip hop', 'change life', 'haunting', 'bird', 'thought', 'renowned', 'stephen', 'wilde', 'story one', 'princess come', 'come world', 'freddie', 'stress', 'disorder', 'charismatic leader', 'programmer', 'documentary film', 'phenomenal', 'subsequent', 'difficulty', 'claimed', 'hebrew', 'infant', 'heritage', 'supermodel', 'remo', 'group five', 'vacationing', 'brokenhearted', 'native land', 'must get', 'hockey player', 'team win', 'manipulate', 'profit', 'christ', 'archive', 'council', 'estate', 'existed', 'feature', 'andie', 'astronaut', 'awaiting', 'eagerly awaiting', 'must work', 'return home', 'mercenary', 'peculiar', 'coldblooded', 'alien planet', 'convent', 'fearless', 'youth', 'never adopted', 'couple would', 'allblack', 'division', 'stationed', 'italy', 'controversial', 'smoking', 'commentary', 'look life', 'seizes', 'chemical', 'weapon', 'alcatraz', 'tourist', 'francisco', 'san francisco', 'henry', 'pursuing', 'marcus', 'brody', 'eternal', 'go missing', 'product placement', 'bleak', 'fantastical', 'neverland', 'awaits', 'lily', 'mischievous', 'fantastical world', 'discovers true', 'stoner', 'star athlete', 'julie', 'terrorize', 'bronson', 'survived', 'nefarious', 'wizard', 'tower', 'taxi', 'disappointment', 'sleazy', 'maybe', 'clock', 'foot', 'fastpaced', 'basketball', 'basketball player', 'coping', 'everything wife', 'stalking', 'saw', 'bit', 'cook', 'supper', 'widowed', 'youngest', 'send', 'two daughter', 'seventh', '14', '28', 'speaking', 'prejudice', 'diverse group', 'seven year', 'year since', 'lifechanging decision', 'class prejudice', 'booth', 'laser', 'rifle', 'proof', 'none', 'chappie', 'prodigy', 'like child', 'committing', 'coworkers', 'pawn', 'car crash', 'committing crime', 'shy', 'milo', 'comedian', 'glory', 'arrangement', 'crime bos', 'standup comedian', 'overseen', 'deceased', 'core', 'clutch', 'laboratory', 'traveled', 'wanted', 'trafficking', 'bodyguard', 'boss', 'overprotective', 'craving', 'solitude', 'embarking', 'oldest', 'fianc', 'edward', 'stopped', 'counting', 'showing', '1988', 'olympics', 'true event', 'arabian', 'stallion', 'tragically', 'soon meet', 'camera', 'mall', 'spree', 'woman work', 'grace', 'supervisor', 'facility', 'mason', 'tough', 'lucy', 'quirky', 'sweep', 'day day', 'paco', 'press', 'european', 'broke', 'julia', 'construct', 'bomb', 'involves', 'key', 'unleashed', 'maniac', 'traveling across', 'urban legend', 'craven', 'disturbing', 'jewish', 'copy', 'helen', 'bridget', '40', 'dashing', 'proud', 'news producer', 'denmark', 'peyton', 'altered', 'alternate', 'snake', 'serpent', 'eva', 'arranged', 'two meet', 'never knew', 'knew existed', 'drifter', 'garry', 'cattle', 'theater', 'fiance', 'grew', 'neurotic', 'shock', 'palace', 'group high', 'persona', 'dylan', 'icon', 'bob dylan', 'international icon', 'seth', 'morning', 'younger brother', 'border mexico', 'young sister', 'trace', 'wrestler', 'subodh', 'bhave', 'acting', 'directorial', 'premiered', 'deshpande', 'protagonist', 'kale', 'composed', 'subodh bhave', 'film star', 'directorial debut', 'retribution', 'undead', 'umbrella', 'gathering', '1959', 'wanting', 'prom', 'regularly', 'trippin', 'hasnt', 'year high', 'stripper', 'reconnect', 'resist', 'jesse', 'nine', 'decade', 'vienna', 'nine year', 'callahan', 'hayden', 'family business', 'save day', 'missed', 'daughter wedding', 'screen', 'pageant', 'conscience', 'desperately', 'underworld', 'prison sentence', 'lieutenant', 'pete', 'ace', 'come true', 'personal demon', 'breakup', 'perfect guy', 'apprentice', 'knight', 'hector', 'assumes', 'bianca', 'allowed', 'joey', 'new kid', 'gu', 'regarding', 'heavily', 'negative', 'film tell', 'production value', 'state film', 'disguised', 'bandit', 'snowy', 'forest', 'life story', 'infiltrate local', 'unprecedented', 'unprecedented access', 'york time', 'tracey', 'clueless', 'picked', 'sonny watch', 'try find', 'derek', 'distracted', 'conquer', 'gillman', 'daring', 'count dracula', 'hero monster', 'sookee', 'hideko', 'secluded', 'countryside', 'proceed', 'insomnia', 'hazard', 'triangle', 'love triangle', 'enormous', 'british soldier', 'narcissistic', 'boot', 'extended', 'seaside town', 'follow dream', 'de la', 'annoyance', 'gold', 'gold coin', 'come town', 'hamilton', 'linda', 'jeff', 'love interest', 'conflict', 'sprawling', 'sweden', 'tried crime', 'el', 'fight life', 'acclaimed', 'occurred', 'irving', 'sue', 'fictional', 'find world', 'deranged', 'awesome', 'squeeze', 'back life', 'could take', 'must fight', 'version', 'reputation', 'spectacular', 'sequence', 'naval', 'regains', 'eleven', 'film directed', 'instead find', 'listen', 'movie star', 'boxer', 'fatal', 'knowing', 'hed', 'attorney', 'arrive', 'royalty', 'shared', 'ensuing', 'three woman', 'petty thief', 'walking', 'intriguing', 'intrepid', 'prof', 'monk', 'make sense', 'solve mystery', 'chad', 'cosmic', 'reed', 'invisible', 'thwart', 'evil plan', 'madison', 'nowhere', 'bully', 'neverending', 'dragon', 'parker', 'brief', 'point view', 'come rescue', 'maryland', 'outcast', 'baltimore', 'ran', 'headline', 'spiral', 'imprisoned', 'aided', 'torn', 'incredible adventure', 'must face', 'heir', 'tropical', 'servant', 'straightlaced', 'position', 'middleaged man', 'cody', 'following death', 'come believe', 'eastern', 'tense', 'bryan', 'barnes', 'origin', 'stopping', 'parish', 'fitzgerald', 'cunning', 'garden', 'halfway', 'ruin', 'nick park', 'halfway house', 'inheritance', 'titular', 'dy leaving', 'wage', 'martial', 'inevitably', 'drug kingpin', 'martial art', 'motion', 'passing', 'compound', 'sweeping', 'gruesome murder', 'psychiatric', 'session', 'employment', 'soon begin', 'mitch', 'addict', 'fortress', 'dark side', 'masked', 'guerrilla', 'british government', 'susanne', 'italian', 'different family', 'indierock', 'austin', 'tour guide', 'fishing', 'spot', 'successfully', 'recovered', 'receives', 'planning', 'selling', 'shes pregnant', 'stroud', 'grade', 'greater', 'behind bar', 'outside world', 'fed', 'trying find', 'mar', 'pulled', 'flame', 'sky', 'hunting', 'patrol', 'struggle survive', 'artificial', 'next world', 'network', 'feature film', 'insane', 'inspires', 'äî', 'steve', 'oregon', 'hitchcock', 'whoäôs', 'trucker', 'sorcerer', 'invincible', 'crony', 'physical', 'physical form', 'andys', 'college professor', 'blart', 'trooper', 'closely', 'gungho', 'state trooper', 'security guard', 'spell', 'beautiful young', 'break spell', 'devil', 'nancy', 'darkness', 'round', 'unwilling', '19th', 'early 19th', '19th century', 'clone', 'noble', 'jedi', 'separatist', 'crumbles', 'ash', 'anakin', 'offspring', 'clone war', 'millionaire', 'tycoon', 'good old', 'rome', 'unimaginable', 'investigate mysterious', 'melanie', 'jake', 'divorce', 'expose', 'miriam', 'lower', 'caste', 'radhey', 'upper', 'nirjala', 'instantly', 'developer', 'safe', 'common criminal', 'agu', 'african', 'shattered', 'explicit', 'paint', 'atlanta', 'seymour', 'crush', 'audrey', 'plant', 'brother sister', 'collective', 'friend find', 'outside ring', 'skull', 'ideal', 'leg', 'confined', 'stella', 'break leg', 'enlists help', 'twin sister', 'decides take', 'barney', 'stonebanks', 'expendables', 'midwest', 'soffel', 'fragile', 'acquaintance', 'ed', 'thanks', 'column', 'help escape', 'shepherd', 'polar', 'six month', 'rage', 'proportion', 'naomi', 'watt', 'operative', 'valeries', 'cover', 'wife mother', 'naomi watt', 'cia operative', 'friend husband', 'stab', 'rap', 'rise fame', 'swayze', 'weary', 'medicine', 'zak', 'unleash', 'tree', 'manages', 'surrounded', 'day old', 'spice', 'american tourist', '12', 'fell', 'investment', 'plan leave', 'comfort', 'brooklyn', 'haunted', 'sin', '30 year', 'crime family', 'long ago', 'make thing', 'provincial', 'andre', 'daytoday', 'content', 'stone', 'fun loving', 'sophisticated', 'fearsome', 'de janeiro', 'veronique', 'poland', 'contend', 'couple whose', 'brings home', 'sydney', 'route', 'bus break', 'afford', 'go horribly', 'judy', 'bunny', 'jump', 'drop', 'nero', 'atrocity', 'collapse around', 'smart', 'therefore', 'bandmate', 'dame', 'lust', 'help rescue', 'weird', 'two boy', 'group british', 'breaking point', 'monkey', 'critter', 'quits', 'real estate', 'make way', 'paroled', 'stroke', 'interior', 'visited', 'trapped inside', 'perspective', 'told three', 'cole', 'dj', 'wing', 'big time', 'day night', 'friendship future', 'tent', 'clique', 'inner circle', 'life fall', 'lindsey', 'boston', 'fail', 'behalf', 'captive', 'river', 'thailand', 'still haunted', 'vietnam war', 'shield', 'tropical island', 'pop', 'immigrant', 'parallel', 'special agent', 'brad', 'precious', 'swallow', 'pride', 'brad kate', 'swallow pride', 'parisian', 'swiftly', 'rid', 'motheräôs', 'get rid', 'naylor', 'spin', 'argument', 'cigarette', 'polly', 'alcohol', 'aka', 'crossed', 'pack', 'business trip', 'compromised', 'news anchor', 'interview life', 'stasi', 'controlled', 'plunge', 'deeper deeper', 'lane', 'persuaded', 'conservative', 'threatening', 'party eventually', 'volunteer', 'gray', 'separation', 'relying', 'loses job', 'newt', 'nephew', 'safeguard', 'branded', 'deserter', 'rebellion', 'find refuge', 'guddu', 'squalor', 'social worker', 'jacey', 'lovely', 'pamela', 'policy', 'get help', 'law firm', 'closed', 'raise', 'celebrated', 'half take', 'inherits', 'stockman', 'unforgiving', 'defense', 'susan', 'opinion', 'second chance', 'text', 'maid honor', 'songwriter', 'abuse', 'infidelity', 'marty', 'bud', 'go awry', 'turner', 'skip', 'bayou', 'parent decide', 'deadly arm', 'arm dealer', 'abandon', 'highway', 'nomad', 'sexually', 'turmoil', 'marcos', 'ended', 'achieving', 'delivery', 'service take', 'eric', 'partying', 'remember', 'angry', 'mystical', 'enthusiast', 'ward', 'material', 'toy company', 'good guy', 'terminal', 'brainy', 'help new', 'lead unexpected', 'die', 'novella', 'complicate', 'springer', 'dreamer', 'fancy', 'city make', 'fresh start', 'find job', 'crusade', 'opposition', 'hood', 'corrupt sheriff', 'robin hood', 'going back', 'paranormal', 'buckley', 'simon', 'silver', 'enigmatic', 'absence', 'stronger', 'inexplicable', 'get closer', 'worth', 'governor', 'dead body', 'descend', 'roger', 'golden', 'book seller', 'private life', 'bike', 'brother david', 'summoned', 'cocky', 'distract', 'partnership', 'headstrong', 'katy', 'boarding', 'boarding school', 'cataclysmic', 'penal', 'spotlight', 'determined win', 'tournament save', 'life back', 'proposal', 'new girlfriend', 'tangled', 'web', 'speak', 'commune', 'soon discover', 'lucky', 'overworked', 'ip', 'gong', 'chooses', 'ip man', 'gong er', 'monkey king', 'prosecutor', 'brother powerful', 'illustrate', 'yorkers', 'new yorkers', 'decline', 'story young', 'heartbreak', 'creates', 'symbol', 'new identity', 'criminal underworld', 'calling', 'santa', 'claus', 'midst', 'mistake', 'roy', 'therapist', 'crazed', 'necessity', 'homeland', 'reef', 'cynthia', 'neerja', 'passenger', 'hijacked', 'said', 'herd', 'tyrannical', 'search missing', '1979', 'corleone', 'prospector', 'hustler', 'option', 'equally', 'indonesia', 'karen', 'travel new', 'divide', 'boy need', 'big city', 'tramp', 'industrial', 'downfall', 'tortured', 'mental hospital', 'brokering', 'fc', 'heman', 'hate', 'complain', 'fc heman', 'nba', 'superstar', 'tribulation', 'trial tribulation', 'hughes', 'become part', 'practice', 'claire', 'madness', 'bull mountain', 'fourth', 'serving', 'evil dead', 'prizewinning', 'prizewinning novel', 'pakistani', 'norm', 'jealous', 'connecticut', 'clich', 'language', 'signature', 'natalie', 'dangerously', 'order get', 'franco', 'feuding', 'set eye', 'meet old', 'settle score', 'boy mother', 'hester', 'disappeared wood', 'day parent', 'suv', 'taylor', 'amy', 'help neighbor', 'minnesota', 'grudge', 'tomorrow', 'coriolanus', 'arrogant', 'sworn', 'consider', 'resurfaces', '10yearold', 'take world', 'wolf', 'clouseaus', 'differently', 'cope', 'elected', 'harvey', 'accept', 'beck', 'investigation take', 'innocent people', 'extraterrestrial', 'life form', 'buck', 'darlene', 'treat', 'friend alice', 'trip thailand', 'discover one', 'traumatic', 'submarine', 'sunk', 'tyler', 'privileged', 'ballet', 'navarre', 'cruel', 'man whose', 'heartwarming', 'heartwarming story', 'world series', 'clay', '1975', 'coerced', 'supernatural power', 'friend äì', 'sherman', 'tank', 'zack', 'agree', 'sherman tank', 'globodyne', 'intelligent', 'crime order', 'bos jack', 'harry', 'man woman', 'district attorney', 'build new', 'behindthescenes', 'swept', 'claridge', 'parasitic', 'outbreak', '911', 'plunged', 'absolute', 'human life', 'teddy', 'initial', 'doomed', 'blossom', 'friendship soon', 'clint', 'president united', 'clint eastwood', '1941', 'assassinate', 'kenshin', 'himura', 'offering', 'kaoru', 'tara', 'livein', 'natural', 'surf', 'basement', 'hamilton high', 'prom queen', 'left behind', 'jamie', 'voice', 'goofy', 'principal', 'took', 'intensely', 'two brother', 'good thing', 'naked', 'father one', 'spiral control', 'plastic', 'frightening', 'people love', 'cute', 'super', 'injustice', 'harmony', 'frozen', 'parole', 'captor', 'accused killing', 'ella', 'help mysterious', 'associate', 'caribbean', 'protect family', 'get away', 'kung', 'fu', 'draw', 'kung fu', 'newlywed couple', 'spying', 'akeelah', 'environment', 'sleeping', 'maleficent', 'successor', 'craft', 'set motion', 'pokmon', 'celebi', 'suicune', 'haeundae', 'seoul', 'destroys', 'host', 'tv show', 'anthony', 'british woman', 'covert mission', 'want return', 'sail', 'spanish', 'inquisition', 'tomas', 'sandy', 'friend come', 'milt', 'ellen', 'opera', 'young couple', 'former lover', 'locked', 'elaborate', 'costume', 'dangerous game', 'weaver', 'american dream', 'perfect life', 'satisfied', 'goethegesamtschule', 'must go', 'go school', 'discovers old', 'henpecked', 'ambrosio', 'pupil', 'matilda', 'antonia', 'instrument', 'previous', 'informs', 'glitzy', 'prosperous', 'mature', 'timeless', 'toxic', 'costar', 'discover true', 'true nature', 'come love', 'entity', 'headquarters', 'fund', 'prepared', 'higher', 'surprised find', 'torn two', 'flynn', 'invented', 'grid', 'video game', 'humphrey', 'transported', 'ravaged', 'help arrives', 'befriend', 'marrow', 'unfortunate', 'interested', 'partnered', 'medical student', '26', 'rookie', '26 year', 'story take', 'come poor', 'man life', 'hiphop', 'take control', 'grande', 'hirut', 'tenacious', 'collision course', 'horace', 'try stop', 'cop new', 'get way', 'biological', 'cyborg', 'last hope', 'tear', 'foreign', 'fred', 'nicole', 'dark comedy', 'gu van', 'housewife', 'leo', 'bury', 'corpse', 'otherworldly', 'gal', 'plain', 'combination', 'college student', 'new school', 'steel', 'kumar', 'exchanging', 'frustrated', 'lilith', 'surround', 'dark force', 'joes', 'hired gun', 'combine', 'superhero', 'productive', 'gulf', 'gulf war', 'swordsman', 'two friend', 'shoot', 'profile', 'small time', 'missile', 'animation', 'know love', 'mater', 'defy', 'ritual', 'completed', 'henchman', 'accountant', 'peninsula', 'nesib', 'amar', 'sultan', 'belt', 'adopts', 'saleeh', 'auda', 'imagination', 'disgraced', 'seal', 'plummer', 'new assignment', 'recently deceased', 'benjamin', 'husband father', 'day meet', 'stepfather', 'stepson', 'anyone stand', 'reacher', 'news report', 'kind', 'burt', 'structure', 'whirlwind', 'disparate', 'different city', 'length', 'mysterious stranger', 'closed border', '007', 'bond help', 'reign', 'forbidden', 'beer', 'crime spree', 'wardrobe', 'narnia', 'magnificent', 'climactic', 'climactic battle', 'remote desert', 'willy', 'danny ocean', 'he got', 'neutron', 'daffy', 'promotion', 'mutual', 'soccer', 'soccer team', 'addiction', 'spiraling', 'drug addiction', 'close friend', 'friend reunite', 'amanda', 'everyday', 'interviewer', 'academic', 'understand', 'quantum', 'see world', 'world new', 'intent devouring', 'come attack', 'soon learns', 'tall', 'supervised', 'iraqi', 'humor', 'cave', 'group survivor', 'old son', 'crazy bull', 'metal', 'largest', 'ceo', 'earnest', 'mysteriously', 'survives', 'son michael', 'jude', 'devastating', 'bond must', 'dire', 'lucas', 'someone el', 'schoolteacher', 'innercity', 'tuesday', 'crusoe', 'explore', 'new land', 'boundary', 'two best', 'transforming', 'seventh son', 'different woman', 'woman trapped', 'invade', 'king arthur', 'shallow', 'wade', 'courting', 'approval', 'pet', 'calm', 'teenage son', 'son move', 'california town', 'begin affair', 'investigative', 'fletch', 'true identity', 'story behind', 'wanda', 'form bond', 'elusive', 'new character', 'demonic', 'group college', 'blade', 'bridetobe', 'exists', 'brandon', 'connor', 'arceus', 'dimension', 'mccoy', 'benyon', 'doc mccoy', 'something big', '1958', 'swarm', 'pole', 'frost', 'turbulent', 'crisscross', 'humbert', 'soon becomes', 'failure', 'darkest', 'invader', 'alien invader', 'wheelchair', 'hyeongdo', 'suyeon', 'colter', 'marie', 'dartagnan', 'travel paris', 'surrogate', '1974', 'chilling', 'portrait', 'desperate attempt', 'war middle', 'government official', 'triggering', 'climax', 'raymond', 'marco', 'steadily', 'traffic controller', 'teleport', 'hope survival', 'cockroach', 'statue', 'harmless', 'tpb', 'activist', 'swedish', 'tpb afk', 'humankind', 'deadly chemical', 'vanishing', 'swore', 'philo', 'brawler', 'southwest', 'directionless', 'wu', 'solve series', 'successful lawyer', 'crash land', 'hungry', 'shark attack', '17yearold', 'stepping', 'stock', 'living life', 'loved', 'oxford', 'purse', 'afraid', 'spray', 'deciding', 'go police', 'clown', 'inc', 'owned', 'competitor', 'stallone', 'kitchen', 'dish', 'hell kitchen', 'overseas', 'becca', 'anxious', 'grove', 'cabbie', 'indian doctor', 'subjected', 'transformed', 'grief', 'disturbed', 'somehow', 'middle night', 'solace', 'lilah', 'steven', 'cotton', 'jerry lee', 'story follows', 'corrupt official', 'cheryl', 'helen hunt', 'amidst', 'greatest challenge', 'shuttle', 'khan', 'pevensie', 'friend get', 'babysitter', 'friend ronnie', 'check', 'siege', '1984', 'struggle keep', 'entei', 'world along', 'sentimental', 'inexplicably', 'becomes embroiled', 'crashing', 'come idea', 'familiar', 'safely', 'ominous', 'spade', 'hair', 'queen spade', 'determination', '1962', 'intelligence agent', 'suspension', 'worry', 'gorilla', 'break free', 'visitor', 'spouse', 'soon run', 'truck driver', 'harvard', 'averill', 'erupts', 'connected', 'isabelle', 'new ally', 'detroit', 'carla', '1966', 'life thomas', 'motel', 'traveler', 'de villeneuve', 'old boy', 'count rise', 'squanto', 'superior', 'neighboring tribe', 'come looking', 'disco', 'gabe', 'ninth', 'scotland', 'set across', 'emma', 'sexual liaison', 'wadjda', 'bicycle', 'transformer', 'gore', 'britt', 'cogburn', 'goodnight', 'cheerleader', 'paige', 'coma', 'order save', 'eliminating', 'doesnt know', 'villager', 'penned', 'shakespeare', 'shakespeare play', 'haiti', 'coeds', 'group coeds', 'transporting', 'halloran', 'cutthroat', 'free spirit', 'outwit', 'miley', 'stewart', 'swift', 'stealing', 'ordeal', 'nami', 'django', 'corbucci', 'certificate', 'socially awkward', 'nejat', 'ayten', 'stay home', 'held captive', 'walter', 'anton', '1927', 'sullivan', 'ralph', 'affect', 'shift', 'helicopter', 'bursting', 'closer goal', 'surfing', 'investigates apparent', 'troll', 'polar opposite', 'pioneer', 'pant', 'touch', 'sharing', 'jakes', 'protection', 'strong bond', 'corky', 'jordan', 'judgment', 'awakens', 'card', 'poignant', 'kennedy', 'phillips', 'reimagining', 'countless', 'comedy centered', 'daryl', 'superhuman', 'superman', 'luthor', 'switzerland', 'inside one', 'emilia', 'interference', 'return earth', 'help find', 'ten year', 'burlesque', 'kept', 'nicolas', 'infatuated', 'outofcontrol', 'going get', 'freeway', 'start dying', 'norman', 'joker', 'gordon', 'prequel', 'brutal prison', 'myra', 'congressman', 'buried secret', 'green card', 'bohemian', 'attempt make', 'come closet', 'successful film', 'succumb', 'zhenya', 'nadya', 'petersburg', 'st petersburg', 'gretel', 'gretel become', 'city los', 'dinosaur', 'coup', 'sundance', 'fergus', 'surprising', 'jenny', 'disappear', 'lars', 'needed', 'new found', 'punk', 'heard', 'sex pistol', 'headed', 'netherlands', 'comedy sequel', 'source', 'watching', 'free time', 'gambling', 'interrupted', 'coast guard', 'pochenko', 'clandestine', 'dc', 'collapsed', 'henson', 'sesame', 'goldberg', 'sesame street', 'intensifies', 'singing', 'angela', 'platonic', 'mutual attraction', 'tretiak', 'mafia bos', 'international criminal', 'woody', 'buzz', 'comedy based', 'nerve', 'suitcase', 'hormel', 'cypher', 'kitai', 'dangerous earth', 'leprechaun', 'countryside search', 'sordid', 'gnome', 'couple find', 'hulk', 'gladiator', 'totally', 'gracey', 'vishnu', 'trilogy', 'brings back', 'hercules', 'hercules battling', 'grandfather ash', 'dignan', 'nekrons', 'twin brother', 'neglected', 'start first', '92', 'dvd', 'group tourist', 'ozone', 'macleod', 'barker', 'tanya', 'insidious', 'comet', 'inherit', 'gridiron', 'stacey', 'kessler', 'irrevocably', 'newt hick', 'southern mexico', 'private school', 'petunia', 'lucifer', 'little joes', 'plotting', 'pokemon', 'marion', 'coax', 'gladers', 'sherwood', 'ty', 'connie', 'minjung', 'hyun', 'closely follows', 'still cant', 'suicidal', 'hamburger', 'bullied', 'dare', 'new face', 'stepped', 'asquad', 'darryl', 'setback', 'emotional', 'dismay', 'stanislas', 'thesis', 'intrigue', 'new yorker', 'start get', 'kilometre', 'solomon', 'becky', 'comical', 'darker', 'omnicorp', 'cocoon', 'bly', 'joel', 'suzie', 'sisterinlaw', 'square', 'tong', 'newman', 'glee', 'singapore', 'hedley', 'younggoo', 'bonfante', 'hock', 'beng', 'bug', 'mei', 'deadliest', 'triumph', 'strives', 'hideout', 'people involved', 'ian', 'egg', 'millennium', 'icet', 'padm', 'late night', 'suzuki', 'murder case', 'ike', 'kurt', 'shafer', 'deva', 'das', 'burning', 'chitti', 'burning process', 'perry part', 'captain america', 'tereza', 'disgusted', 'tear apart', 'poignant story', 'physically', 'twain', 'philosophy', 'franßois', 'delambre', 'helene', 'walker', 'buckner', 'karan', 'track tanya', 'ponce', 'circo', 'danilo', 'sue ellen', 'larch', 'dr larch', 'rathnasamy', 'insisting'])\n"
          ],
          "name": "stdout"
        }
      ]
    },
    {
      "cell_type": "code",
      "metadata": {
        "id": "vxqY1DK_KsMy"
      },
      "source": [
        "from sklearn.linear_model import LogisticRegression\n",
        "from sklearn.multiclass import OneVsRestClassifier\n",
        "from sklearn.metrics import f1_score, accuracy_score, precision_score, recall_score\n",
        "\n",
        "lr = LogisticRegression()\n",
        "ovrc = OneVsRestClassifier(lr)"
      ],
      "execution_count": 85,
      "outputs": []
    },
    {
      "cell_type": "code",
      "metadata": {
        "colab": {
          "base_uri": "https://localhost:8080/"
        },
        "id": "P62wWzzDMNgd",
        "outputId": "1de6e3f5-c08e-4c30-da8f-0b3ebe7e4249"
      },
      "source": [
        "ovrc.fit(tfidf_x_train, y_train)"
      ],
      "execution_count": null,
      "outputs": [
        {
          "output_type": "execute_result",
          "data": {
            "text/plain": [
              "OneVsRestClassifier(estimator=LogisticRegression(C=1.0, class_weight=None,\n",
              "                                                 dual=False, fit_intercept=True,\n",
              "                                                 intercept_scaling=1,\n",
              "                                                 l1_ratio=None, max_iter=100,\n",
              "                                                 multi_class='auto',\n",
              "                                                 n_jobs=None, penalty='l2',\n",
              "                                                 random_state=None,\n",
              "                                                 solver='lbfgs', tol=0.0001,\n",
              "                                                 verbose=0, warm_start=False),\n",
              "                    n_jobs=None)"
            ]
          },
          "metadata": {
            "tags": []
          },
          "execution_count": 110
        }
      ]
    },
    {
      "cell_type": "markdown",
      "metadata": {
        "id": "tuni1RY-Mj13"
      },
      "source": [
        "Now predict!"
      ]
    },
    {
      "cell_type": "code",
      "metadata": {
        "id": "sNfcbA9LMYCS"
      },
      "source": [
        "predict = ovrc.predict(tfidf_x_test)"
      ],
      "execution_count": null,
      "outputs": []
    },
    {
      "cell_type": "markdown",
      "metadata": {
        "id": "bwIn0qIxMpWG"
      },
      "source": [
        "And check with inverse multilabel binarizer:"
      ]
    },
    {
      "cell_type": "code",
      "metadata": {
        "colab": {
          "base_uri": "https://localhost:8080/"
        },
        "id": "uu4kzsdtMucG",
        "outputId": "015ad933-36c5-4e24-e8a1-2367097ce842"
      },
      "source": [
        "import random\n",
        "for i in random.sample(range(1, 100), 5):\n",
        "  print('Predicted genre[s]:', mlb.inverse_transform(predict)[i])\n",
        "  print('True genre[s]:', tdf.iloc[i, 0])"
      ],
      "execution_count": null,
      "outputs": [
        {
          "output_type": "stream",
          "text": [
            "Predicted genre[s]: ('Drama', 'Romance')\n",
            "True genre[s]: ['Drama', 'History', 'Romance']\n",
            "Predicted genre[s]: ()\n",
            "True genre[s]: ['Adventure', 'Horror', 'Action', 'Thriller', 'Science Fiction']\n",
            "Predicted genre[s]: ()\n",
            "True genre[s]: ['Drama']\n",
            "Predicted genre[s]: ('Action',)\n",
            "True genre[s]: ['Action', 'Crime']\n",
            "Predicted genre[s]: ('Drama',)\n",
            "True genre[s]: ['Thriller', 'Drama', 'Horror']\n"
          ],
          "name": "stdout"
        }
      ]
    },
    {
      "cell_type": "markdown",
      "metadata": {
        "id": "DosvOi4vsGyw"
      },
      "source": [
        "To better understand the workings of this, we use *F1 Score* factor, calculated as below:\n",
        "$$ F1 = 2×\\frac{precision×recall}{precision + recall} $$\n",
        "or alternatively:\n",
        "$$ F1 = \\frac{TP}{TP + \\frac {1}{2}(FP + FN)}$$\n",
        "\n",
        "It is a very good measure that balances precision with recall, foregoing all the problems with accuracy in an imbalanced dataset (such as this, see the *Movie Count by Genre* chart)."
      ]
    },
    {
      "cell_type": "code",
      "metadata": {
        "id": "X7rTwFc0GmX-"
      },
      "source": [
        "stats = pd.DataFrame(columns = ['name', 'threshold', 'accuracy','precision', 'recall','F1'])"
      ],
      "execution_count": 11,
      "outputs": []
    },
    {
      "cell_type": "code",
      "metadata": {
        "id": "l0dB1Iw9H_wu"
      },
      "source": [
        "# function to calculate, print, and save vital stats.\n",
        "def get_stats(y_test, y_pred, name='', threshold=0.5, stats=stats):\n",
        "  # really bad for this dataset\n",
        "  accs = accuracy_score(y_test, y_pred)\n",
        "  # better methods\n",
        "  pres = precision_score(y_test, y_pred, average='micro', zero_division=1)\n",
        "  recs = recall_score(y_test, y_pred, average='micro')\n",
        "  f1s = f1_score(y_test, y_pred, average='micro', zero_division=1)\n",
        "  # print ('accuracy:\\t{}'.format(accs))\n",
        "  # print ('precision:\\t{0:0.5f}'.format(pres))\n",
        "  # print ('recall:\\t\\t{0:0.5f}'.format(recs))\n",
        "  # print ('f1 score:\\t{0:0.5f}'.format(f1s))\n",
        "  temp_df = pd.DataFrame(np.array([[name, threshold, accs, pres, recs, f1s]]), columns=['name', 'threshold', 'accuracy','precision', 'recall','F1'])\n",
        "  print(tabulate(temp_df, headers='keys', tablefmt='psql'))\n",
        "  return pd.concat([stats, temp_df])"
      ],
      "execution_count": 12,
      "outputs": []
    },
    {
      "cell_type": "code",
      "metadata": {
        "colab": {
          "base_uri": "https://localhost:8080/"
        },
        "id": "EfQK8xvkR5K3",
        "outputId": "ec46a3ca-f9f3-46a6-cd6e-dbb6ce733fce"
      },
      "source": [
        "stats = get_stats(y_test, predict, 'Logistic Regression', 0.5)"
      ],
      "execution_count": null,
      "outputs": [
        {
          "output_type": "stream",
          "text": [
            "+----+---------------------+-------------+------------+-------------+----------+----------+\n",
            "|    | name                |   threshold |   accuracy |   precision |   recall |       F1 |\n",
            "|----+---------------------+-------------+------------+-------------+----------+----------|\n",
            "|  0 | Logistic Regression |         0.5 |      0.094 |    0.695087 | 0.191252 | 0.299969 |\n",
            "+----+---------------------+-------------+------------+-------------+----------+----------+\n"
          ],
          "name": "stdout"
        }
      ]
    },
    {
      "cell_type": "code",
      "metadata": {
        "id": "RUcwi2OvNpzu"
      },
      "source": [
        "from tabulate import tabulate\n",
        "\n",
        "def print_stats():\n",
        "  print(tabulate(stats, headers='keys', tablefmt='psql'))\n"
      ],
      "execution_count": 13,
      "outputs": []
    },
    {
      "cell_type": "markdown",
      "metadata": {
        "id": "8GoCCMiLSKrl"
      },
      "source": [
        "The f1 score is not all too bad, compared to the relative size of training dataset and its imbalance."
      ]
    },
    {
      "cell_type": "markdown",
      "metadata": {
        "id": "KxqLRiHq4qiA"
      },
      "source": [
        "Below is calculation and plot of Precision-Recall curve. The code snippet has been taken and editted from a sample in [Scikit documantations](https://scikit-learn.org/stable/auto_examples/model_selection/plot_precision_recall.html#plot-precision-recall-curve-for-each-class-and-iso-f1-curves)."
      ]
    },
    {
      "cell_type": "code",
      "metadata": {
        "colab": {
          "base_uri": "https://localhost:8080/"
        },
        "id": "iz6XkG5VwQKd",
        "outputId": "323585dc-bd0f-41d2-d876-d6512b05da82"
      },
      "source": [
        "from sklearn.metrics import precision_recall_curve\n",
        "from sklearn.metrics import average_precision_score\n",
        "\n",
        "precision = dict()\n",
        "recall = dict()\n",
        "avg_precision = dict()\n",
        "y_score = ovrc.decision_function(tfidf_x_test)\n",
        "\n",
        "for i in range(n_classes):\n",
        "    precision[i], recall[i], _ = precision_recall_curve(y_test[:,i],y_score[:, i])\n",
        "    avg_precision[i] = average_precision_score(y_test[:,i], y_score[:, i])\n",
        "\n",
        "# A \"micro-average\": quantifying score on all classes jointly\n",
        "precision['micro'], recall['micro'], _ = precision_recall_curve(y_test.ravel(), y_score.ravel())\n",
        "avg_precision['micro'] = average_precision_score(y_test, y_score,\n",
        "                               average='micro')\n",
        "print('Average Precision Score (over labels): {0:0.3f}'\n",
        "      .format(avg_precision[\"micro\"]))"
      ],
      "execution_count": null,
      "outputs": [
        {
          "output_type": "stream",
          "text": [
            "Average Precision Score (over labels): 0.520\n"
          ],
          "name": "stdout"
        },
        {
          "output_type": "stream",
          "text": [
            "/usr/local/lib/python3.7/dist-packages/sklearn/metrics/_ranking.py:677: RuntimeWarning: invalid value encountered in true_divide\n",
            "  recall = tps / tps[-1]\n"
          ],
          "name": "stderr"
        }
      ]
    },
    {
      "cell_type": "code",
      "metadata": {
        "colab": {
          "base_uri": "https://localhost:8080/",
          "height": 441
        },
        "id": "wvrj3UmEx5kf",
        "outputId": "29a980a4-7637-45aa-a6ce-269496a6416f"
      },
      "source": [
        "from itertools import cycle\n",
        "# setup plot details\n",
        "colors = cycle(sns.color_palette('mako', n_colors = n_classes))\n",
        "\n",
        "plt.figure(figsize=(7, 8))\n",
        "f_scores = np.linspace(0.2, 0.8, num=10)\n",
        "lines = []\n",
        "labels = []\n",
        "for f_score in f_scores:\n",
        "    x = np.linspace(0.01, 1)\n",
        "    y = f_score * x / (2 * x - f_score)\n",
        "    l, = plt.plot(x[y >= 0], y[y >= 0], color='gray', alpha=0.2)\n",
        "    plt.annotate('f1={0:0.1f}'.format(f_score), xy=(0.9, y[45] + 0.02))\n",
        "\n",
        "lines.append(l)\n",
        "labels.append('iso-f1 curves')\n",
        "l, = plt.plot(recall[\"micro\"], precision[\"micro\"], color='gold', lw=2)\n",
        "lines.append(l)\n",
        "labels.append('micro-average Precision-recall (area = {0:0.2f})'\n",
        "              ''.format(avg_precision[\"micro\"]))\n",
        "\n",
        "for i, color in zip(range(n_classes), colors):\n",
        "    l, = plt.plot(recall[i], precision[i], color=color, lw=2)\n",
        "    lines.append(l)\n",
        "    labels.append('class {0} (area = {1:0.2f})'\n",
        "                  ''.format(i, avg_precision[i]))\n",
        "\n",
        "fig = plt.gcf()\n",
        "fig.subplots_adjust(bottom=0.25)\n",
        "plt.xlim([0.0, 1.0])\n",
        "plt.ylim([0.0, 1.0])\n",
        "plt.xlabel('Recall')\n",
        "plt.ylabel('Precision')\n",
        "plt.title('Precision-Recall Curve')\n",
        "plt.legend(lines, labels, bbox_to_anchor=(1.05,0.25), loc=\"lower left\",\n",
        "           bbox_transform=fig.transFigure, ncol=1)\n",
        "plt.show()"
      ],
      "execution_count": null,
      "outputs": [
        {
          "output_type": "display_data",
          "data": {
            "image/png": "[encoded data removed]",
            "text/plain": [
              "<Figure size 504x576 with 1 Axes>"
            ]
          },
          "metadata": {
            "tags": []
          }
        }
      ]
    },
    {
      "cell_type": "markdown",
      "metadata": {
        "id": "lMsFVuf34Nnt"
      },
      "source": [
        "As a little clarification, class 3 is comedy (shown in inverse MLB at the beginning of this section), which is recognised fairly well in both validation and testing, as seen in the sample slices of predictions. It can be due to specific keywords or more training samples (second to drama).\n",
        "\n",
        "And of course, class 6 is drama, with a high precision-recall average!"
      ]
    },
    {
      "cell_type": "markdown",
      "metadata": {
        "id": "GtNDR3uJSVzW"
      },
      "source": [
        "## 2.2. Improvements\n",
        "\n"
      ]
    },
    {
      "cell_type": "markdown",
      "metadata": {
        "id": "HfBy3Dg8B1Xz"
      },
      "source": [
        "### 2.2.1. Predict Probability Threshold Modification\n",
        "By default, the probability threshold has been 0.5, if a genre has more than 50% probability, it will pop up in the predict set. We could go two ways about this, either getting more strict with our predictions or more lenient. Let's try both."
      ]
    },
    {
      "cell_type": "code",
      "metadata": {
        "colab": {
          "base_uri": "https://localhost:8080/"
        },
        "id": "phiMp9_rSoOY",
        "outputId": "3fcae76c-ec1b-4aaf-d7ed-b37d7f4c975b"
      },
      "source": [
        "# first we set a higher threshold\n",
        "threshold = 0.7\n",
        "predict_prob = ovrc.predict_proba(tfidf_x_test)\n",
        "predict_ht = (predict_prob >= threshold).astype(int)\n",
        "stats = get_stats(y_test, predict_ht, 'Logistic Regression', 0.7)"
      ],
      "execution_count": null,
      "outputs": [
        {
          "output_type": "stream",
          "text": [
            "+----+---------------------+-------------+------------+-------------+-----------+-----------+\n",
            "|    | name                |   threshold |   accuracy |   precision |    recall |        F1 |\n",
            "|----+---------------------+-------------+------------+-------------+-----------+-----------|\n",
            "|  0 | Logistic Regression |         0.7 |      0.014 |    0.901961 | 0.0182903 | 0.0358535 |\n",
            "+----+---------------------+-------------+------------+-------------+-----------+-----------+\n"
          ],
          "name": "stdout"
        }
      ]
    },
    {
      "cell_type": "markdown",
      "metadata": {
        "id": "nNpQWFBiTNc0"
      },
      "source": [
        "Well, it just got much worse. If we print out the data as before, many more movies come up without any label at all. High precision is of course due to high numbers of True Positives, probabilites should be higher to pick a label, so those few that do get a label are usually right.\n",
        "\n",
        "For our next trick, we aim for a lower threshold."
      ]
    },
    {
      "cell_type": "code",
      "metadata": {
        "colab": {
          "base_uri": "https://localhost:8080/"
        },
        "id": "RZCECPPxTbmt",
        "outputId": "024480bd-e720-41b8-f3bd-004060192e0c"
      },
      "source": [
        "threshold = 0.3\n",
        "predict_prob = ovrc.predict_proba(tfidf_x_test)\n",
        "predict_lt = (predict_prob >= threshold).astype(int)\n",
        "stats = get_stats(y_test, predict_lt, 'Logistic Regression', 0.3)"
      ],
      "execution_count": null,
      "outputs": [
        {
          "output_type": "stream",
          "text": [
            "+----+---------------------+-------------+------------+-------------+----------+----------+\n",
            "|    | name                |   threshold |   accuracy |   precision |   recall |       F1 |\n",
            "|----+---------------------+-------------+------------+-------------+----------+----------|\n",
            "|  0 | Logistic Regression |         0.3 |       0.08 |    0.534904 |  0.49662 | 0.515052 |\n",
            "+----+---------------------+-------------+------------+-------------+----------+----------+\n"
          ],
          "name": "stdout"
        }
      ]
    },
    {
      "cell_type": "markdown",
      "metadata": {
        "id": "8D6qUpFrTi4l"
      },
      "source": [
        "It's over 0.5, and more balanced between precision/recall Let's get some of the predictions against the true labels."
      ]
    },
    {
      "cell_type": "code",
      "metadata": {
        "id": "FOgtpNgFUShA"
      },
      "source": [
        "import random\n",
        "\n",
        "def get_prediction_samples (predict):\n",
        "  for i in random.sample(range(1, 100), 5):\n",
        "    print('Predicted genre[s]:', mlb.inverse_transform(predict)[i])\n",
        "    print('True genre[s]:', tdf.iloc[i, 0])\n",
        "    print('\\n')"
      ],
      "execution_count": 14,
      "outputs": []
    },
    {
      "cell_type": "code",
      "metadata": {
        "colab": {
          "base_uri": "https://localhost:8080/"
        },
        "id": "eZLpd7w2Ttoe",
        "outputId": "f8282e88-0b56-43da-fcd0-8fb4aa0a8a32"
      },
      "source": [
        "get_prediction_samples(predict_lt)"
      ],
      "execution_count": null,
      "outputs": [
        {
          "output_type": "stream",
          "text": [
            "Predicted genre[s]: ('Comedy', 'Drama', 'Romance')\n",
            "True genre[s]: ['Comedy', 'Drama', 'Romance']\n",
            "\n",
            "\n",
            "Predicted genre[s]: ('Comedy', 'Drama')\n",
            "True genre[s]: ['Drama', 'Thriller']\n",
            "\n",
            "\n",
            "Predicted genre[s]: ('Comedy', 'Crime', 'Drama')\n",
            "True genre[s]: ['Comedy', 'Crime']\n",
            "\n",
            "\n",
            "Predicted genre[s]: ('Action', 'Comedy', 'Drama')\n",
            "True genre[s]: ['Action', 'Comedy', 'Fantasy']\n",
            "\n",
            "\n",
            "Predicted genre[s]: ('Comedy', 'Drama')\n",
            "True genre[s]: ['Crime', 'Drama', 'Romance']\n",
            "\n",
            "\n"
          ],
          "name": "stdout"
        }
      ]
    },
    {
      "cell_type": "markdown",
      "metadata": {
        "id": "TOq9boyVT14h"
      },
      "source": [
        "It still comes up with too much Drama, but it also managed to do a fully correct prediction for a movie with 3 genres. That *is* impressive.\n",
        "\n",
        "Stretching the point a bit, we try again for a threshold of `0.1`, just because we can."
      ]
    },
    {
      "cell_type": "code",
      "metadata": {
        "colab": {
          "base_uri": "https://localhost:8080/"
        },
        "id": "tc8s8jw9UQoa",
        "outputId": "60ad2f9c-ebb7-4e6c-8448-7efbd02279a0"
      },
      "source": [
        "threshold = 0.1\n",
        "predict_prob = ovrc.predict_proba(tfidf_x_test)\n",
        "predict_llt = (predict_prob >= threshold).astype(int)\n",
        "stats = get_stats(y_test, predict_llt, 'Logistic Regression', 0.1)"
      ],
      "execution_count": null,
      "outputs": [
        {
          "output_type": "stream",
          "text": [
            "+----+---------------------+-------------+------------+-------------+----------+---------+\n",
            "|    | name                |   threshold |   accuracy |   precision |   recall |      F1 |\n",
            "|----+---------------------+-------------+------------+-------------+----------+---------|\n",
            "|  0 | Logistic Regression |         0.1 |          0 |    0.287917 | 0.861233 | 0.43156 |\n",
            "+----+---------------------+-------------+------------+-------------+----------+---------+\n"
          ],
          "name": "stdout"
        }
      ]
    },
    {
      "cell_type": "markdown",
      "metadata": {
        "id": "83bYMvh9UVco"
      },
      "source": [
        "It got down, although surprisingly, it's still much higher than the default `0.5`, but the golden point was somewhere between `0.1` and `0.3`. Also note the accuracy score.\n",
        "\n",
        "Why? Because the prediction probability threshold for adding a genre to prediction list gets significantly lower, and given the vocabulary range and training documents on genres like Comdey or Drama, they start popping up whenever, which makes for a lot of FP's, so much that they overwhelm the True Positives."
      ]
    },
    {
      "cell_type": "markdown",
      "metadata": {
        "id": "9Pvnh_w4WVlo"
      },
      "source": [
        "We can get a better view of how things are going in the test dataset:"
      ]
    },
    {
      "cell_type": "code",
      "metadata": {
        "id": "mg7v_UxGU0vM"
      },
      "source": [
        "def get_genres(entry, predict):\n",
        "  entry = vectorizer.transform([entry])\n",
        "  predict_prob = ovrc.predict_proba(entry)\n",
        "  predict = (predict_prob >= 0.3).astype(int)\n",
        "  return mlb.inverse_transform(predict)"
      ],
      "execution_count": 19,
      "outputs": []
    },
    {
      "cell_type": "code",
      "metadata": {
        "colab": {
          "base_uri": "https://localhost:8080/"
        },
        "id": "Ut3_TPV3VWtL",
        "outputId": "67548592-b1eb-421f-9e10-4d04fc1c024b"
      },
      "source": [
        "for i in range(5): \n",
        "  k = tdf.sample(1).index[0] \n",
        "  print(\"Movie: \", tdf.iloc[k,1], \"\\nPredicted genre: \",\n",
        "        get_genres(tdf.iloc[k,2]), predict)\n",
        "  print(\"Actual genre: \",tdf.iloc[k,0], \"\\n\")\n"
      ],
      "execution_count": null,
      "outputs": [
        {
          "output_type": "stream",
          "text": [
            "Movie:  A young woman, recently released from a mental hospital, gets a job as a secretary to a demanding lawyer, where their employer-employee relationship turns into a sexual, sadomasochistic one. \n",
            "Predicted genre:  [('Comedy', 'Drama', 'Thriller')]\n",
            "Actual genre:  ['Comedy', 'Drama', 'Romance'] \n",
            "\n",
            "Movie:  A young, aspiring filmmaker falls in love with a girl who moves into the house above his, but her sophisticated nature does more harm than good to him. \n",
            "Predicted genre:  [('Comedy', 'Drama', 'Romance')]\n",
            "Actual genre:  ['Drama', 'Romance'] \n",
            "\n",
            "Movie:  Officer Alex Kearney patrols an upscale neighborhood in Philadelphia, where he pulls over a well-connected white collar executive who promises to get even with the policeman. Soon, Kearney learns that he is off the cushy suburban beat and must now work in the deadliest precinct in Philly, where he is partnered with tough veteran cop Dennis Curran. Tensions are high between them, but Kearney soon proves he can play just as rough as the crooks. \n",
            "Predicted genre:  [('Comedy', 'Drama', 'Thriller')]\n",
            "Actual genre:  ['Action', 'Adventure', 'Comedy', 'Thriller'] \n",
            "\n",
            "Movie:  A quiet teenage artist Rafe Katchadorian has a wild imagination and is sick of middle school and the rules that have been put before him. Rafe and his best friend Leo have come up with a plan: break every rule in the school hand book and as you expect trouble follows. \n",
            "Predicted genre:  [('Comedy', 'Drama')]\n",
            "Actual genre:  ['Family', 'Comedy'] \n",
            "\n",
            "Movie:  As the Roman empire crumbles, young Romulus Augustus flees the city and embarks on a perilous voyage to Britain to track down a legion of supporters. \n",
            "Predicted genre:  [('Action', 'Comedy', 'Drama')]\n",
            "Actual genre:  ['Action', 'Adventure', 'Fantasy', 'War'] \n",
            "\n"
          ],
          "name": "stdout"
        }
      ]
    },
    {
      "cell_type": "markdown",
      "metadata": {
        "id": "ZvpulweP9iQD"
      },
      "source": [
        "### Other Classifiers\n",
        "So far, we only used a Logistic Regression classifier. But there are other options, e.g. Random Forest and Support Vector classifiers.\n",
        "\n",
        "Let's start with an **SVC**. We use the general version of SVC with probability enabled and kernel set to linear."
      ]
    },
    {
      "cell_type": "code",
      "metadata": {
        "colab": {
          "base_uri": "https://localhost:8080/"
        },
        "id": "SOVLu5Et_w8S",
        "outputId": "fbd9b982-1adc-40a2-ac6d-a51d217a302d"
      },
      "source": [
        "from sklearn.svm import SVC\n",
        "random_state = np.random.RandomState(0)\n",
        "ovrc = OneVsRestClassifier(SVC(class_weight='balanced',\n",
        "    random_state=random_state, kernel='linear', probability=True))\n",
        "ovrc.fit(tfidf_x_train, y_train)"
      ],
      "execution_count": null,
      "outputs": [
        {
          "output_type": "execute_result",
          "data": {
            "text/plain": [
              "OneVsRestClassifier(estimator=SVC(C=1.0, break_ties=False, cache_size=200,\n",
              "                                  class_weight='balanced', coef0=0.0,\n",
              "                                  decision_function_shape='ovr', degree=3,\n",
              "                                  gamma='scale', kernel='linear', max_iter=-1,\n",
              "                                  probability=True,\n",
              "                                  random_state=RandomState(MT19937) at 0x7F7963A3C160,\n",
              "                                  shrinking=True, tol=0.001, verbose=False),\n",
              "                    n_jobs=None)"
            ]
          },
          "metadata": {
            "tags": []
          },
          "execution_count": 128
        }
      ]
    },
    {
      "cell_type": "code",
      "metadata": {
        "id": "uAFEHOqJF979"
      },
      "source": [
        "predict = ovrc.predict(tfidf_x_test)"
      ],
      "execution_count": null,
      "outputs": []
    },
    {
      "cell_type": "code",
      "metadata": {
        "colab": {
          "base_uri": "https://localhost:8080/"
        },
        "id": "QNe_NsGTGIKr",
        "outputId": "6702f30a-dbe7-4b90-d948-43ae82bbb0ac"
      },
      "source": [
        "get_prediction_samples(predict)"
      ],
      "execution_count": null,
      "outputs": [
        {
          "output_type": "stream",
          "text": [
            "Predicted genre[s]: ('Crime', 'Drama', 'Thriller')\n",
            "True genre[s]: ['Drama']\n",
            "\n",
            "\n",
            "Predicted genre[s]: ('Action', 'Crime', 'Drama', 'Thriller')\n",
            "True genre[s]: ['Crime', 'Drama', 'Comedy']\n",
            "\n",
            "\n",
            "Predicted genre[s]: ('Drama', 'History', 'Romance', 'War')\n",
            "True genre[s]: ['History', 'Drama', 'War']\n",
            "\n",
            "\n",
            "Predicted genre[s]: ('Comedy', 'Romance')\n",
            "True genre[s]: ['Action', 'Comedy']\n",
            "\n",
            "\n",
            "Predicted genre[s]: ('Crime', 'Horror', 'Thriller')\n",
            "True genre[s]: ['Drama', 'Horror']\n",
            "\n",
            "\n"
          ],
          "name": "stdout"
        }
      ]
    },
    {
      "cell_type": "markdown",
      "metadata": {
        "id": "K03TpN6nGMJQ"
      },
      "source": [
        "So far so very good! Let's take measures."
      ]
    },
    {
      "cell_type": "code",
      "metadata": {
        "colab": {
          "base_uri": "https://localhost:8080/"
        },
        "id": "DNPq6Q-VGQet",
        "outputId": "12405c80-fd31-4a19-d274-67aa6f1a3cd2"
      },
      "source": [
        "stats = get_stats(y_test, predict, 'SVC', '0.5')"
      ],
      "execution_count": null,
      "outputs": [
        {
          "output_type": "stream",
          "text": [
            "+----+--------+-------------+------------+-------------+----------+----------+\n",
            "|    | name   |   threshold |   accuracy |   precision |   recall |       F1 |\n",
            "|----+--------+-------------+------------+-------------+----------+----------|\n",
            "|  0 | SVC    |         0.5 |      0.093 |    0.542212 | 0.477535 | 0.507822 |\n",
            "+----+--------+-------------+------------+-------------+----------+----------+\n"
          ],
          "name": "stdout"
        }
      ]
    },
    {
      "cell_type": "markdown",
      "metadata": {
        "id": "w61V1cs5LHq9"
      },
      "source": [
        "It is performing much better than LR with similar properties (although admittedly, balanced class weights might have helped too)."
      ]
    },
    {
      "cell_type": "code",
      "metadata": {
        "colab": {
          "base_uri": "https://localhost:8080/"
        },
        "id": "rpdXbJcSLXA1",
        "outputId": "ddd6aea9-0dc5-422a-ea19-b30b4bd5b0a4"
      },
      "source": [
        "threshold = 0.3\n",
        "predict_prob = ovrc.predict_proba(tfidf_x_test)\n",
        "predict_lt = (predict_prob >= threshold).astype(int)\n",
        "stats = get_stats(y_test, predict_lt, 'SVC', 0.3)"
      ],
      "execution_count": null,
      "outputs": [
        {
          "output_type": "stream",
          "text": [
            "+----+--------+-------------+------------+-------------+----------+---------+\n",
            "|    | name   |   threshold |   accuracy |   precision |   recall |      F1 |\n",
            "|----+--------+-------------+------------+-------------+----------+---------|\n",
            "|  0 | SVC    |         0.3 |      0.069 |    0.499355 | 0.615507 | 0.55138 |\n",
            "+----+--------+-------------+------------+-------------+----------+---------+\n"
          ],
          "name": "stdout"
        }
      ]
    },
    {
      "cell_type": "code",
      "metadata": {
        "colab": {
          "base_uri": "https://localhost:8080/"
        },
        "id": "n6MLm85JT-Oz",
        "outputId": "f441e597-51fe-4389-9d72-33f64392d36d"
      },
      "source": [
        "get_prediction_samples(predict_lt)"
      ],
      "execution_count": null,
      "outputs": [
        {
          "output_type": "stream",
          "text": [
            "Predicted genre[s]: ('Action', 'Adventure', 'Documentary', 'Science Fiction')\n",
            "True genre[s]: ['Action', 'Drama', 'Horror', 'Science Fiction', 'Thriller']\n",
            "\n",
            "\n",
            "Predicted genre[s]: ('Comedy', 'Drama')\n",
            "True genre[s]: ['Horror', 'Thriller']\n",
            "\n",
            "\n",
            "Predicted genre[s]: ('Action', 'Crime', 'Drama', 'Thriller')\n",
            "True genre[s]: ['Action', 'Thriller']\n",
            "\n",
            "\n",
            "Predicted genre[s]: ('Crime', 'Drama', 'Thriller')\n",
            "True genre[s]: ['Horror']\n",
            "\n",
            "\n",
            "Predicted genre[s]: ('Adventure', 'Drama', 'Horror', 'Science Fiction', 'Thriller')\n",
            "True genre[s]: ['Science Fiction', 'Action', 'Horror']\n",
            "\n",
            "\n"
          ],
          "name": "stdout"
        }
      ]
    },
    {
      "cell_type": "code",
      "metadata": {
        "colab": {
          "base_uri": "https://localhost:8080/"
        },
        "id": "NDEeiftaTSc8",
        "outputId": "e308c8ad-8985-4038-9707-6e0124e61aae"
      },
      "source": [
        "threshold = 0.7\n",
        "predict_prob = ovrc.predict_proba(tfidf_x_test)\n",
        "predict_ht = (predict_prob >= threshold).astype(int)\n",
        "stats = get_stats(y_test, predict_ht, 'SVC', 0.7)"
      ],
      "execution_count": null,
      "outputs": [
        {
          "output_type": "stream",
          "text": [
            "+----+--------+-------------+------------+-------------+----------+----------+\n",
            "|    | name   |   threshold |   accuracy |   precision |   recall |       F1 |\n",
            "|----+--------+-------------+------------+-------------+----------+----------|\n",
            "|  0 | SVC    |         0.7 |      0.076 |    0.728376 | 0.190855 | 0.302457 |\n",
            "+----+--------+-------------+------------+-------------+----------+----------+\n"
          ],
          "name": "stdout"
        }
      ]
    },
    {
      "cell_type": "markdown",
      "metadata": {
        "id": "T2D6yyfSTe2P"
      },
      "source": [
        "Again, 0.3 offers better preformance."
      ]
    },
    {
      "cell_type": "code",
      "metadata": {
        "colab": {
          "base_uri": "https://localhost:8080/",
          "height": 254
        },
        "id": "aPLgqeclL2FX",
        "outputId": "4a959f3d-1131-44f6-a7af-3f3a97a8979d"
      },
      "source": [
        "stats"
      ],
      "execution_count": null,
      "outputs": [
        {
          "output_type": "execute_result",
          "data": {
            "text/html": [
              "<div>\n",
              "<style scoped>\n",
              "    .dataframe tbody tr th:only-of-type {\n",
              "        vertical-align: middle;\n",
              "    }\n",
              "\n",
              "    .dataframe tbody tr th {\n",
              "        vertical-align: top;\n",
              "    }\n",
              "\n",
              "    .dataframe thead th {\n",
              "        text-align: right;\n",
              "    }\n",
              "</style>\n",
              "<table border=\"1\" class=\"dataframe\">\n",
              "  <thead>\n",
              "    <tr style=\"text-align: right;\">\n",
              "      <th></th>\n",
              "      <th>name</th>\n",
              "      <th>threshold</th>\n",
              "      <th>accuracy</th>\n",
              "      <th>precision</th>\n",
              "      <th>recall</th>\n",
              "      <th>F1</th>\n",
              "    </tr>\n",
              "  </thead>\n",
              "  <tbody>\n",
              "    <tr>\n",
              "      <th>0</th>\n",
              "      <td>Logistic Regression</td>\n",
              "      <td>0.5</td>\n",
              "      <td>0.094</td>\n",
              "      <td>0.6950867052023122</td>\n",
              "      <td>0.19125248508946321</td>\n",
              "      <td>0.29996881821016524</td>\n",
              "    </tr>\n",
              "    <tr>\n",
              "      <th>0</th>\n",
              "      <td>Logistic Regression</td>\n",
              "      <td>0.7</td>\n",
              "      <td>0.014</td>\n",
              "      <td>0.9019607843137255</td>\n",
              "      <td>0.018290258449304174</td>\n",
              "      <td>0.03585346843335931</td>\n",
              "    </tr>\n",
              "    <tr>\n",
              "      <th>0</th>\n",
              "      <td>Logistic Regression</td>\n",
              "      <td>0.3</td>\n",
              "      <td>0.08</td>\n",
              "      <td>0.5349036402569594</td>\n",
              "      <td>0.49662027833001987</td>\n",
              "      <td>0.5150515463917524</td>\n",
              "    </tr>\n",
              "    <tr>\n",
              "      <th>0</th>\n",
              "      <td>Logistic Regression</td>\n",
              "      <td>0.1</td>\n",
              "      <td>0.0</td>\n",
              "      <td>0.2879170543666091</td>\n",
              "      <td>0.8612326043737575</td>\n",
              "      <td>0.4315600717274357</td>\n",
              "    </tr>\n",
              "    <tr>\n",
              "      <th>0</th>\n",
              "      <td>SVC</td>\n",
              "      <td>0.5</td>\n",
              "      <td>0.093</td>\n",
              "      <td>0.5422121896162528</td>\n",
              "      <td>0.4775347912524851</td>\n",
              "      <td>0.5078224101479917</td>\n",
              "    </tr>\n",
              "    <tr>\n",
              "      <th>0</th>\n",
              "      <td>SVC</td>\n",
              "      <td>0.3</td>\n",
              "      <td>0.069</td>\n",
              "      <td>0.4993548387096774</td>\n",
              "      <td>0.6155069582504971</td>\n",
              "      <td>0.5513802315227071</td>\n",
              "    </tr>\n",
              "    <tr>\n",
              "      <th>0</th>\n",
              "      <td>SVC</td>\n",
              "      <td>0.7</td>\n",
              "      <td>0.076</td>\n",
              "      <td>0.7283763277693475</td>\n",
              "      <td>0.1908548707753479</td>\n",
              "      <td>0.3024574669187145</td>\n",
              "    </tr>\n",
              "  </tbody>\n",
              "</table>\n",
              "</div>"
            ],
            "text/plain": [
              "                  name threshold  ...                recall                   F1\n",
              "0  Logistic Regression       0.5  ...   0.19125248508946321  0.29996881821016524\n",
              "0  Logistic Regression       0.7  ...  0.018290258449304174  0.03585346843335931\n",
              "0  Logistic Regression       0.3  ...   0.49662027833001987   0.5150515463917524\n",
              "0  Logistic Regression       0.1  ...    0.8612326043737575   0.4315600717274357\n",
              "0                  SVC       0.5  ...    0.4775347912524851   0.5078224101479917\n",
              "0                  SVC       0.3  ...    0.6155069582504971   0.5513802315227071\n",
              "0                  SVC       0.7  ...    0.1908548707753479   0.3024574669187145\n",
              "\n",
              "[7 rows x 6 columns]"
            ]
          },
          "metadata": {
            "tags": []
          },
          "execution_count": 298
        }
      ]
    },
    {
      "cell_type": "markdown",
      "metadata": {
        "id": "QNe0mJU0Tq3-"
      },
      "source": [
        "Next, we use a **Random Forest** classifier."
      ]
    },
    {
      "cell_type": "code",
      "metadata": {
        "colab": {
          "base_uri": "https://localhost:8080/"
        },
        "id": "86rLsiP3TpRT",
        "outputId": "f91d127e-7957-47a2-ca51-1bf9810ea6be"
      },
      "source": [
        "from sklearn.ensemble import RandomForestClassifier\n",
        "\n",
        "rfc = RandomForestClassifier(max_depth=10, random_state=0, class_weight='balanced')\n",
        "ovrc = OneVsRestClassifier(rfc)\n",
        "ovrc.fit(tfidf_x_train, y_train)"
      ],
      "execution_count": null,
      "outputs": [
        {
          "output_type": "execute_result",
          "data": {
            "text/plain": [
              "OneVsRestClassifier(estimator=RandomForestClassifier(bootstrap=True,\n",
              "                                                     ccp_alpha=0.0,\n",
              "                                                     class_weight='balanced',\n",
              "                                                     criterion='gini',\n",
              "                                                     max_depth=10,\n",
              "                                                     max_features='auto',\n",
              "                                                     max_leaf_nodes=None,\n",
              "                                                     max_samples=None,\n",
              "                                                     min_impurity_decrease=0.0,\n",
              "                                                     min_impurity_split=None,\n",
              "                                                     min_samples_leaf=1,\n",
              "                                                     min_samples_split=2,\n",
              "                                                     min_weight_fraction_leaf=0.0,\n",
              "                                                     n_estimators=100,\n",
              "                                                     n_jobs=None,\n",
              "                                                     oob_score=False,\n",
              "                                                     random_state=0, verbose=0,\n",
              "                                                     warm_start=False),\n",
              "                    n_jobs=None)"
            ]
          },
          "metadata": {
            "tags": []
          },
          "execution_count": 132
        }
      ]
    },
    {
      "cell_type": "code",
      "metadata": {
        "id": "uNPqgLKfbajx"
      },
      "source": [
        "predict = ovrc.predict(tfidf_x_test)"
      ],
      "execution_count": null,
      "outputs": []
    },
    {
      "cell_type": "code",
      "metadata": {
        "colab": {
          "base_uri": "https://localhost:8080/"
        },
        "id": "3x736NFzbmck",
        "outputId": "d53e44ae-b352-4edf-a934-d3408d24d01d"
      },
      "source": [
        "get_prediction_samples(predict)"
      ],
      "execution_count": null,
      "outputs": [
        {
          "output_type": "stream",
          "text": [
            "Predicted genre[s]: ()\n",
            "True genre[s]: ['Fantasy', 'Animation', 'Family']\n",
            "\n",
            "\n",
            "Predicted genre[s]: ('Drama',)\n",
            "True genre[s]: ['Drama']\n",
            "\n",
            "\n",
            "Predicted genre[s]: ()\n",
            "True genre[s]: ['Horror', 'Thriller']\n",
            "\n",
            "\n",
            "Predicted genre[s]: ('Drama', 'Romance')\n",
            "True genre[s]: ['History', 'Drama', 'War']\n",
            "\n",
            "\n",
            "Predicted genre[s]: ('Comedy',)\n",
            "True genre[s]: ['Comedy']\n",
            "\n",
            "\n"
          ],
          "name": "stdout"
        }
      ]
    },
    {
      "cell_type": "markdown",
      "metadata": {
        "id": "8Zv-RJ4SbyEz"
      },
      "source": [
        "This seems to do worse than the others regarding F1, however, it has a higher accuracy."
      ]
    },
    {
      "cell_type": "code",
      "metadata": {
        "colab": {
          "base_uri": "https://localhost:8080/"
        },
        "id": "xVFhSuf0b9RD",
        "outputId": "20759f94-7d5b-4657-df7f-941a7072cd9f"
      },
      "source": [
        "stats = get_stats(y_test, predict, 'Random Forest', 0.5)"
      ],
      "execution_count": null,
      "outputs": [
        {
          "output_type": "stream",
          "text": [
            "+----+---------------+-------------+------------+-------------+----------+----------+\n",
            "|    | name          |   threshold |   accuracy |   precision |   recall |       F1 |\n",
            "|----+---------------+-------------+------------+-------------+----------+----------|\n",
            "|  0 | Random Forest |         0.5 |      0.101 |    0.584423 | 0.408748 | 0.481048 |\n",
            "+----+---------------+-------------+------------+-------------+----------+----------+\n"
          ],
          "name": "stdout"
        }
      ]
    },
    {
      "cell_type": "markdown",
      "metadata": {
        "id": "AdpQBL-UdTEp"
      },
      "source": [
        "Since we are already getting to many False Positives, we could try lowering the threshold."
      ]
    },
    {
      "cell_type": "code",
      "metadata": {
        "colab": {
          "base_uri": "https://localhost:8080/"
        },
        "id": "7XrtmYWHdghe",
        "outputId": "6255613f-7ffa-44cb-acf5-974c82ccad33"
      },
      "source": [
        "threshold = 0.7\n",
        "predict_prob = ovrc.predict_proba(tfidf_x_test)\n",
        "predict_ht = (predict_prob >= threshold).astype(int)\n",
        "stats = get_stats(y_test, predict_ht, 'Random Forest', 0.7)"
      ],
      "execution_count": null,
      "outputs": [
        {
          "output_type": "stream",
          "text": [
            "+----+---------------+-------------+------------+-------------+----------+------+\n",
            "|    | name          |   threshold |   accuracy |   precision |   recall |   F1 |\n",
            "|----+---------------+-------------+------------+-------------+----------+------|\n",
            "|  0 | Random Forest |         0.7 |          0 |           1 |        0 |    0 |\n",
            "+----+---------------+-------------+------------+-------------+----------+------+\n"
          ],
          "name": "stdout"
        }
      ]
    },
    {
      "cell_type": "markdown",
      "metadata": {
        "id": "Sh2NBpMRrxyf"
      },
      "source": [
        "That might have been a terrible idea...\n"
      ]
    },
    {
      "cell_type": "markdown",
      "metadata": {
        "id": "vxJat7xariSO"
      },
      "source": [
        "For the last attempt, we use **AdaBoost** classifier."
      ]
    },
    {
      "cell_type": "code",
      "metadata": {
        "colab": {
          "base_uri": "https://localhost:8080/"
        },
        "id": "91Jgg2xNqw0F",
        "outputId": "80b714a0-6727-4c91-cf75-718a91fa9deb"
      },
      "source": [
        "from sklearn.ensemble import AdaBoostClassifier\n",
        "ovrc = OneVsRestClassifier(AdaBoostClassifier(n_estimators=100, random_state=0))\n",
        "ovrc.fit(tfidf_x_train, y_train)\n",
        "predict = ovrc.predict(tfidf_x_test)\n",
        "stats = get_stats(y_test, predict, 'Ada Boost', 0.5)"
      ],
      "execution_count": null,
      "outputs": [
        {
          "output_type": "stream",
          "text": [
            "+----+-----------+-------------+------------+-------------+----------+----------+\n",
            "|    | name      |   threshold |   accuracy |   precision |   recall |       F1 |\n",
            "|----+-----------+-------------+------------+-------------+----------+----------|\n",
            "|  0 | Ada Boost |         0.5 |      0.067 |    0.499729 | 0.366203 | 0.422671 |\n",
            "+----+-----------+-------------+------------+-------------+----------+----------+\n"
          ],
          "name": "stdout"
        }
      ]
    },
    {
      "cell_type": "markdown",
      "metadata": {
        "id": "yNHNGGrvr0H0"
      },
      "source": [
        "Better than LR, but still SVC is the best. Just in case, we alter the threshold."
      ]
    },
    {
      "cell_type": "code",
      "metadata": {
        "colab": {
          "base_uri": "https://localhost:8080/"
        },
        "id": "cIkzHoqUr8mC",
        "outputId": "a972457e-c710-447c-b2eb-18a1ee2c9345"
      },
      "source": [
        "threshold = 0.3\n",
        "predict_prob = ovrc.predict_proba(tfidf_x_test)\n",
        "predict_lt = (predict_prob >= threshold).astype(int)\n",
        "stats = get_stats(y_test, predict_lt, 'Ada Boost', 0.3)"
      ],
      "execution_count": null,
      "outputs": [
        {
          "output_type": "stream",
          "text": [
            "+----+-----------+-------------+------------+-------------+----------+----------+\n",
            "|    | name      |   threshold |   accuracy |   precision |   recall |       F1 |\n",
            "|----+-----------+-------------+------------+-------------+----------+----------|\n",
            "|  0 | Ada Boost |         0.3 |          0 |     0.13248 |        1 | 0.233964 |\n",
            "+----+-----------+-------------+------------+-------------+----------+----------+\n"
          ],
          "name": "stdout"
        }
      ]
    },
    {
      "cell_type": "markdown",
      "metadata": {
        "id": "eNWutFHesGZq"
      },
      "source": [
        "Not good."
      ]
    },
    {
      "cell_type": "markdown",
      "metadata": {
        "id": "vKzPmm9odntE"
      },
      "source": [
        "\n",
        "So far, the best classifier has been SVC with `threshold = 0.3`, closely followed by Logistic Regression classifier with similar threshold."
      ]
    },
    {
      "cell_type": "code",
      "metadata": {
        "colab": {
          "base_uri": "https://localhost:8080/",
          "height": 373
        },
        "id": "X8nEQshWmkQN",
        "outputId": "efa55fff-3352-4bcb-f46b-9909247cb198"
      },
      "source": [
        "stats"
      ],
      "execution_count": null,
      "outputs": [
        {
          "output_type": "execute_result",
          "data": {
            "text/html": [
              "<div>\n",
              "<style scoped>\n",
              "    .dataframe tbody tr th:only-of-type {\n",
              "        vertical-align: middle;\n",
              "    }\n",
              "\n",
              "    .dataframe tbody tr th {\n",
              "        vertical-align: top;\n",
              "    }\n",
              "\n",
              "    .dataframe thead th {\n",
              "        text-align: right;\n",
              "    }\n",
              "</style>\n",
              "<table border=\"1\" class=\"dataframe\">\n",
              "  <thead>\n",
              "    <tr style=\"text-align: right;\">\n",
              "      <th></th>\n",
              "      <th>name</th>\n",
              "      <th>threshold</th>\n",
              "      <th>accuracy</th>\n",
              "      <th>precision</th>\n",
              "      <th>recall</th>\n",
              "      <th>F1</th>\n",
              "    </tr>\n",
              "  </thead>\n",
              "  <tbody>\n",
              "    <tr>\n",
              "      <th>0</th>\n",
              "      <td>Logistic Regression</td>\n",
              "      <td>0.5</td>\n",
              "      <td>0.094</td>\n",
              "      <td>0.6950867052023122</td>\n",
              "      <td>0.19125248508946321</td>\n",
              "      <td>0.29996881821016524</td>\n",
              "    </tr>\n",
              "    <tr>\n",
              "      <th>0</th>\n",
              "      <td>Logistic Regression</td>\n",
              "      <td>0.7</td>\n",
              "      <td>0.014</td>\n",
              "      <td>0.9019607843137255</td>\n",
              "      <td>0.018290258449304174</td>\n",
              "      <td>0.03585346843335931</td>\n",
              "    </tr>\n",
              "    <tr>\n",
              "      <th>0</th>\n",
              "      <td>Logistic Regression</td>\n",
              "      <td>0.3</td>\n",
              "      <td>0.08</td>\n",
              "      <td>0.5349036402569594</td>\n",
              "      <td>0.49662027833001987</td>\n",
              "      <td>0.5150515463917524</td>\n",
              "    </tr>\n",
              "    <tr>\n",
              "      <th>0</th>\n",
              "      <td>Logistic Regression</td>\n",
              "      <td>0.1</td>\n",
              "      <td>0.0</td>\n",
              "      <td>0.2879170543666091</td>\n",
              "      <td>0.8612326043737575</td>\n",
              "      <td>0.4315600717274357</td>\n",
              "    </tr>\n",
              "    <tr>\n",
              "      <th>0</th>\n",
              "      <td>SVC</td>\n",
              "      <td>0.5</td>\n",
              "      <td>0.093</td>\n",
              "      <td>0.5422121896162528</td>\n",
              "      <td>0.4775347912524851</td>\n",
              "      <td>0.5078224101479917</td>\n",
              "    </tr>\n",
              "    <tr>\n",
              "      <th>0</th>\n",
              "      <td>SVC</td>\n",
              "      <td>0.3</td>\n",
              "      <td>0.069</td>\n",
              "      <td>0.4993548387096774</td>\n",
              "      <td>0.6155069582504971</td>\n",
              "      <td>0.5513802315227071</td>\n",
              "    </tr>\n",
              "    <tr>\n",
              "      <th>0</th>\n",
              "      <td>SVC</td>\n",
              "      <td>0.7</td>\n",
              "      <td>0.076</td>\n",
              "      <td>0.7283763277693475</td>\n",
              "      <td>0.1908548707753479</td>\n",
              "      <td>0.3024574669187145</td>\n",
              "    </tr>\n",
              "    <tr>\n",
              "      <th>0</th>\n",
              "      <td>Random Forest</td>\n",
              "      <td>0.5</td>\n",
              "      <td>0.101</td>\n",
              "      <td>0.5844229675952246</td>\n",
              "      <td>0.4087475149105368</td>\n",
              "      <td>0.48104819840898455</td>\n",
              "    </tr>\n",
              "    <tr>\n",
              "      <th>0</th>\n",
              "      <td>Random Forest</td>\n",
              "      <td>0.7</td>\n",
              "      <td>0.0</td>\n",
              "      <td>1.0</td>\n",
              "      <td>0.0</td>\n",
              "      <td>0.0</td>\n",
              "    </tr>\n",
              "    <tr>\n",
              "      <th>0</th>\n",
              "      <td>Ada Boost</td>\n",
              "      <td>0.5</td>\n",
              "      <td>0.067</td>\n",
              "      <td>0.49972870320130225</td>\n",
              "      <td>0.3662027833001988</td>\n",
              "      <td>0.4226709499770537</td>\n",
              "    </tr>\n",
              "    <tr>\n",
              "      <th>0</th>\n",
              "      <td>Ada Boost</td>\n",
              "      <td>0.3</td>\n",
              "      <td>0.0</td>\n",
              "      <td>0.13247998314369996</td>\n",
              "      <td>1.0</td>\n",
              "      <td>0.23396437043583423</td>\n",
              "    </tr>\n",
              "  </tbody>\n",
              "</table>\n",
              "</div>"
            ],
            "text/plain": [
              "                  name threshold  ...                recall                   F1\n",
              "0  Logistic Regression       0.5  ...   0.19125248508946321  0.29996881821016524\n",
              "0  Logistic Regression       0.7  ...  0.018290258449304174  0.03585346843335931\n",
              "0  Logistic Regression       0.3  ...   0.49662027833001987   0.5150515463917524\n",
              "0  Logistic Regression       0.1  ...    0.8612326043737575   0.4315600717274357\n",
              "0                  SVC       0.5  ...    0.4775347912524851   0.5078224101479917\n",
              "0                  SVC       0.3  ...    0.6155069582504971   0.5513802315227071\n",
              "0                  SVC       0.7  ...    0.1908548707753479   0.3024574669187145\n",
              "0        Random Forest       0.5  ...    0.4087475149105368  0.48104819840898455\n",
              "0        Random Forest       0.7  ...                   0.0                  0.0\n",
              "0            Ada Boost       0.5  ...    0.3662027833001988   0.4226709499770537\n",
              "0            Ada Boost       0.3  ...                   1.0  0.23396437043583423\n",
              "\n",
              "[11 rows x 6 columns]"
            ]
          },
          "metadata": {
            "tags": []
          },
          "execution_count": 347
        }
      ]
    },
    {
      "cell_type": "markdown",
      "metadata": {
        "id": "EO0E2uJgk4Dp"
      },
      "source": [
        "# 3. Word2Vec\n"
      ]
    },
    {
      "cell_type": "markdown",
      "metadata": {
        "id": "xvtF02bRza72"
      },
      "source": [
        "## 3.1. Basics"
      ]
    },
    {
      "cell_type": "markdown",
      "metadata": {
        "id": "mOU6D8FD3JU-"
      },
      "source": [
        "Thanks to the Google pre-trained model on thousands of news articles, we have a trained model for Word2Vec."
      ]
    },
    {
      "cell_type": "code",
      "metadata": {
        "id": "h5_C_RoRS4oS"
      },
      "source": [
        "wv = gensim.models.KeyedVectors.load_word2vec_format(\n",
        "    \"/content/drive/MyDrive/Colab Notebooks/GoogleNews-vectors-negative300.bin.gz\",\n",
        "    binary=True)\n",
        "wv.init_sims(replace=True)"
      ],
      "execution_count": 15,
      "outputs": []
    },
    {
      "cell_type": "markdown",
      "metadata": {
        "id": "bzZhVAVRjLrb"
      },
      "source": [
        "Now that the pretrained model has been loaded, we can sneak a peek at some relevant words."
      ]
    },
    {
      "cell_type": "code",
      "metadata": {
        "colab": {
          "base_uri": "https://localhost:8080/"
        },
        "id": "glJyLJXFirNi",
        "outputId": "2039d688-8209-44f3-887f-09dfe7313ec0"
      },
      "source": [
        "print(tabulate(wv.most_similar('documentary'), headers=['word', 'similarity'], tablefmt='psql'))\n",
        "print(tabulate(wv.most_similar('adventure'), headers=['word', 'similarity'], tablefmt='psql'))"
      ],
      "execution_count": 16,
      "outputs": [
        {
          "output_type": "stream",
          "text": [
            "+-----------------------+--------------+\n",
            "| word                  |   similarity |\n",
            "|-----------------------+--------------|\n",
            "| documentaries         |     0.800146 |\n",
            "| docu                  |     0.790808 |\n",
            "| Documentary           |     0.755609 |\n",
            "| PBS_documentary       |     0.726439 |\n",
            "| docu_drama            |     0.708184 |\n",
            "| docudrama             |     0.691389 |\n",
            "| documentarian         |     0.682752 |\n",
            "| doco                  |     0.676336 |\n",
            "| documentary_filmmaker |     0.675116 |\n",
            "| film                  |     0.634542 |\n",
            "+-----------------------+--------------+\n",
            "+-------------------------+--------------+\n",
            "| word                    |   similarity |\n",
            "|-------------------------+--------------|\n",
            "| adventures              |     0.76892  |\n",
            "| adventuring             |     0.652959 |\n",
            "| Adventure               |     0.628476 |\n",
            "| adventurers             |     0.609639 |\n",
            "| adventurer              |     0.601769 |\n",
            "| swashbuckling_adventure |     0.599607 |\n",
            "| intrepid_adventurer     |     0.565611 |\n",
            "| excursion               |     0.561815 |\n",
            "| treasure_hunt           |     0.5577   |\n",
            "| adventurous             |     0.547831 |\n",
            "+-------------------------+--------------+\n"
          ],
          "name": "stdout"
        }
      ]
    },
    {
      "cell_type": "markdown",
      "metadata": {
        "id": "DLKQOYnn6jqd"
      },
      "source": [
        "And a general view at the vocab:"
      ]
    },
    {
      "cell_type": "code",
      "metadata": {
        "colab": {
          "base_uri": "https://localhost:8080/"
        },
        "id": "eJ8O8dQMfkrw",
        "outputId": "53e80c99-6c58-443f-9e7b-e54c8bdb8e8e"
      },
      "source": [
        "from itertools import islice\n",
        "print(list(islice(wv.vocab, 1000, 1020)))"
      ],
      "execution_count": 96,
      "outputs": [
        {
          "output_type": "stream",
          "text": [
            "['Paul', 'store', 'gets', 'filed', 'huge', 'moving', 'seems', 'met', '####s', 'thousands', 'CEO', 'solutions', 'score', 'content', 'treatment', 'offered', 'built', 'hits', 'present', 'Chicago']\n"
          ],
          "name": "stdout"
        }
      ]
    },
    {
      "cell_type": "markdown",
      "metadata": {
        "id": "rFaPn_pLkLih"
      },
      "source": [
        "We also need to get average representation of each movie overview."
      ]
    },
    {
      "cell_type": "code",
      "metadata": {
        "id": "IFuFCC7IjucY"
      },
      "source": [
        "def average_words(wv, words):\n",
        "  allw, mean = set(), []\n",
        "  \n",
        "  for word in words:\n",
        "    if isinstance(word, np.ndarray):\n",
        "      mean.append(word)\n",
        "    elif word in wv.vocab:\n",
        "      mean.append(wv.vectors_norm[wv.vocab[word].index])\n",
        "      allw.add(wv.vocab[word].index)\n",
        "  # those faulty entries without anything of semantic use\n",
        "  if not mean:\n",
        "        return np.zeros(wv.vector_size,)\n",
        "  mean = gensim.matutils.unitvec(np.array(mean).mean(axis=0)).astype(np.float32)\n",
        "  return mean\n",
        "\n",
        "def average_list(wv, tlist):\n",
        "  avg_stack = np.vstack([average_words(wv, text) for text in tlist])\n",
        "  return avg_stack"
      ],
      "execution_count": 17,
      "outputs": []
    },
    {
      "cell_type": "markdown",
      "metadata": {
        "id": "cBKB7OWP607j"
      },
      "source": [
        "The text must also be tokenised into words. Note that we use the pre-cleaned text from preprocessing section."
      ]
    },
    {
      "cell_type": "code",
      "metadata": {
        "colab": {
          "base_uri": "https://localhost:8080/"
        },
        "id": "UrHsMcY7pimX",
        "outputId": "c5e53a04-e4fa-4aed-e378-7da944ecb298"
      },
      "source": [
        "nltk.download('punkt')\n",
        "def tokenize_text(text):\n",
        "  tokens = []\n",
        "  for sent in nltk.sent_tokenize(text, language='english'):\n",
        "    for word in nltk.word_tokenize(sent, language='english'):\n",
        "      # useless words\n",
        "      if len(word) < 2:\n",
        "        continue\n",
        "      tokens.append(word)\n",
        "  return tokens"
      ],
      "execution_count": 18,
      "outputs": [
        {
          "output_type": "stream",
          "text": [
            "[nltk_data] Downloading package punkt to /root/nltk_data...\n",
            "[nltk_data]   Unzipping tokenizers/punkt.zip.\n"
          ],
          "name": "stdout"
        }
      ]
    },
    {
      "cell_type": "code",
      "metadata": {
        "id": "zUQe8mvukKaC"
      },
      "source": [
        "tok_train = df.apply(lambda x: tokenize_text(str(x['clean'])), axis=1).values\n",
        "tok_test = tdf.apply(lambda x: tokenize_text(str(x['clean'])), axis=1).values"
      ],
      "execution_count": 19,
      "outputs": []
    },
    {
      "cell_type": "code",
      "metadata": {
        "id": "KZNJ_WGQpwet"
      },
      "source": [
        "x_train_avg = average_list(wv,tok_train)\n",
        "x_test_avg = average_list(wv,tok_test)"
      ],
      "execution_count": 20,
      "outputs": []
    },
    {
      "cell_type": "markdown",
      "metadata": {
        "id": "FBV2PM5W_kic"
      },
      "source": [
        "Remember the MLB from section 2? We need it here, as well, to use with the classifiers."
      ]
    },
    {
      "cell_type": "code",
      "metadata": {
        "id": "GP7E7yxLzkvQ"
      },
      "source": [
        "from sklearn.preprocessing import MultiLabelBinarizer\n",
        "\n",
        "mlb = MultiLabelBinarizer()\n",
        "mlb.fit(df['y'])\n",
        "y_train = mlb.transform(df['y'])\n",
        "y_test = mlb.transform(tdf['y'])"
      ],
      "execution_count": 22,
      "outputs": []
    },
    {
      "cell_type": "markdown",
      "metadata": {
        "id": "5dEkDXJCyutI"
      },
      "source": [
        "The first classifier is a logistic regression similar to BoW."
      ]
    },
    {
      "cell_type": "code",
      "metadata": {
        "id": "pLnONqADyrDi"
      },
      "source": [
        "from sklearn.linear_model import LogisticRegression\n",
        "from sklearn.multiclass import OneVsRestClassifier\n",
        "from sklearn.metrics import f1_score, accuracy_score, precision_score, recall_score\n",
        "\n",
        "lr = LogisticRegression(n_jobs=1, solver='saga', max_iter=1200, C=1)\n",
        "ovrc = OneVsRestClassifier(lr)\n",
        "ovrc.fit(x_train_avg, y_train)\n",
        "predict = ovrc.predict(x_test_avg)"
      ],
      "execution_count": 49,
      "outputs": []
    },
    {
      "cell_type": "code",
      "metadata": {
        "id": "gmJAh0I5_xGf"
      },
      "source": [
        "w2v_stats = pd.DataFrame(columns = ['name', 'threshold', 'accuracy','precision', 'recall','F1'])"
      ],
      "execution_count": 50,
      "outputs": []
    },
    {
      "cell_type": "code",
      "metadata": {
        "colab": {
          "base_uri": "https://localhost:8080/"
        },
        "id": "8gQzVqpgAAGq",
        "outputId": "0ee4ecc6-80d0-47c3-8ab1-78e012a93e5f"
      },
      "source": [
        "w2v_stats = get_stats(y_test, predict, 'Logistic Regression', 0.5, w2v_stats)"
      ],
      "execution_count": 51,
      "outputs": [
        {
          "output_type": "stream",
          "text": [
            "+----+---------------------+-------------+------------+-------------+----------+----------+\n",
            "|    | name                |   threshold |   accuracy |   precision |   recall |       F1 |\n",
            "|----+---------------------+-------------+------------+-------------+----------+----------|\n",
            "|  0 | Logistic Regression |         0.5 |      0.114 |    0.683587 | 0.321272 | 0.437111 |\n",
            "+----+---------------------+-------------+------------+-------------+----------+----------+\n"
          ],
          "name": "stdout"
        }
      ]
    },
    {
      "cell_type": "markdown",
      "metadata": {
        "id": "aJ2S3UV-fkC2"
      },
      "source": [
        "The F1 score is higher than what we got in default BoW."
      ]
    },
    {
      "cell_type": "code",
      "metadata": {
        "colab": {
          "base_uri": "https://localhost:8080/"
        },
        "id": "gIxJ8deMKoPU",
        "outputId": "5a2c5ce5-6126-4e09-d50c-bc30212cd814"
      },
      "source": [
        "import random\n",
        "get_prediction_samples(predict)"
      ],
      "execution_count": null,
      "outputs": [
        {
          "output_type": "stream",
          "text": [
            "Predicted genre[s]: ('Action', 'Science Fiction', 'Thriller')\n",
            "True genre[s]: ['Adventure', 'Horror', 'Action', 'Thriller', 'Science Fiction']\n",
            "\n",
            "\n",
            "Predicted genre[s]: ('Comedy', 'Drama')\n",
            "True genre[s]: ['Comedy']\n",
            "\n",
            "\n",
            "Predicted genre[s]: ('Horror',)\n",
            "True genre[s]: ['Comedy']\n",
            "\n",
            "\n",
            "Predicted genre[s]: ()\n",
            "True genre[s]: ['Action', 'Science Fiction', 'Adventure']\n",
            "\n",
            "\n",
            "Predicted genre[s]: ('Action',)\n",
            "True genre[s]: ['Action', 'Adventure', 'Crime', 'Drama', 'Thriller']\n",
            "\n",
            "\n"
          ],
          "name": "stdout"
        }
      ]
    },
    {
      "cell_type": "markdown",
      "metadata": {
        "id": "RaOryr2_MaxL"
      },
      "source": [
        "Meh."
      ]
    },
    {
      "cell_type": "markdown",
      "metadata": {
        "id": "ZTPRv-7wNCEO"
      },
      "source": [
        "## 3.2. Improvements"
      ]
    },
    {
      "cell_type": "markdown",
      "metadata": {
        "id": "Q8XDL5WnNF_2"
      },
      "source": [
        "We found out in section 2.2 that the best threshold is 0.3 in  LR and SVC classifiers. Let's apply that here."
      ]
    },
    {
      "cell_type": "code",
      "metadata": {
        "colab": {
          "base_uri": "https://localhost:8080/"
        },
        "id": "DXPTLlULFGnE",
        "outputId": "45f60a5a-4763-4f51-afb8-1a1c35defe3c"
      },
      "source": [
        "threshold = 0.3\n",
        "predict_prob = ovrc.predict_proba(x_test_avg)\n",
        "predict_lt = (predict_prob >= threshold).astype(int)\n",
        "w2v_stats = get_stats(y_test, predict_lt, 'Logistic Regression', 0.3, w2v_stats)"
      ],
      "execution_count": 52,
      "outputs": [
        {
          "output_type": "stream",
          "text": [
            "+----+---------------------+-------------+------------+-------------+----------+----------+\n",
            "|    | name                |   threshold |   accuracy |   precision |   recall |       F1 |\n",
            "|----+---------------------+-------------+------------+-------------+----------+----------|\n",
            "|  0 | Logistic Regression |         0.3 |      0.095 |    0.557047 | 0.594036 | 0.574947 |\n",
            "+----+---------------------+-------------+------------+-------------+----------+----------+\n"
          ],
          "name": "stdout"
        }
      ]
    },
    {
      "cell_type": "markdown",
      "metadata": {
        "id": "OmBikSvjMvR-"
      },
      "source": [
        "We just got our best results thus far!"
      ]
    },
    {
      "cell_type": "code",
      "metadata": {
        "colab": {
          "base_uri": "https://localhost:8080/"
        },
        "id": "BQBfI1SgMyUC",
        "outputId": "0ab5df21-00e1-4b36-c26e-07c6e6516393"
      },
      "source": [
        "get_prediction_samples(predict_lt)"
      ],
      "execution_count": 55,
      "outputs": [
        {
          "output_type": "stream",
          "text": [
            "Predicted genre[s]: ('Drama', 'Thriller')\n",
            "True genre[s]: ['Drama', 'Thriller']\n",
            "\n",
            "\n",
            "Predicted genre[s]: ('Action', 'Crime', 'Drama', 'Thriller')\n",
            "True genre[s]: ['Horror', 'Thriller']\n",
            "\n",
            "\n",
            "Predicted genre[s]: ('Drama', 'Horror', 'Science Fiction', 'Thriller')\n",
            "True genre[s]: ['Science Fiction', 'Thriller']\n",
            "\n",
            "\n",
            "Predicted genre[s]: ('Action', 'Adventure', 'Horror', 'Science Fiction', 'Thriller')\n",
            "True genre[s]: ['Action', 'Adventure', 'Horror', 'Science Fiction']\n",
            "\n",
            "\n",
            "Predicted genre[s]: ('Drama', 'Horror', 'Thriller')\n",
            "True genre[s]: ['Horror']\n",
            "\n",
            "\n"
          ],
          "name": "stdout"
        }
      ]
    },
    {
      "cell_type": "markdown",
      "metadata": {
        "id": "DGdiuL-jDt8j"
      },
      "source": [
        "Let's try again with a different classifier, Random Forest."
      ]
    },
    {
      "cell_type": "code",
      "metadata": {
        "id": "K0ru-8E2G0vz"
      },
      "source": [
        "from sklearn.ensemble import RandomForestClassifier\n",
        "\n",
        "rfc = RandomForestClassifier(max_depth=10, random_state=0)\n",
        "ovrc = OneVsRestClassifier(rfc)\n",
        "ovrc.fit(x_train_avg, y_train)\n",
        "predict = ovrc.predict(x_test_avg)"
      ],
      "execution_count": 56,
      "outputs": []
    },
    {
      "cell_type": "code",
      "metadata": {
        "colab": {
          "base_uri": "https://localhost:8080/"
        },
        "id": "NEs5Rc11O2n3",
        "outputId": "3a9f8f08-9da7-4438-cc99-487fa22c12dc"
      },
      "source": [
        "w2v_stats = get_stats(y_test, predict, 'Random Forest', 0.5, w2v_stats)"
      ],
      "execution_count": 57,
      "outputs": [
        {
          "output_type": "stream",
          "text": [
            "+----+---------------+-------------+------------+-------------+----------+----------+\n",
            "|    | name          |   threshold |   accuracy |   precision |   recall |       F1 |\n",
            "|----+---------------+-------------+------------+-------------+----------+----------|\n",
            "|  0 | Random Forest |         0.5 |      0.084 |     0.68414 | 0.202386 | 0.312366 |\n",
            "+----+---------------+-------------+------------+-------------+----------+----------+\n"
          ],
          "name": "stdout"
        }
      ]
    },
    {
      "cell_type": "markdown",
      "metadata": {
        "id": "dJjcxPXtHgRw"
      },
      "source": [
        "Not at all impressive. A quick representation shows us the problem is, again, in the imbalance of samples. Drama genre consists of almost half the entries, hence it includes the greatest number of vocabulary, and a lot of test samples will be labelled drama."
      ]
    },
    {
      "cell_type": "code",
      "metadata": {
        "colab": {
          "base_uri": "https://localhost:8080/"
        },
        "id": "Phnvkto5BxHZ",
        "outputId": "10321946-1420-4e11-ac64-d845e46eecdf"
      },
      "source": [
        "get_prediction_samples(predict)"
      ],
      "execution_count": null,
      "outputs": [
        {
          "output_type": "stream",
          "text": [
            "Predicted genre[s]: ('Drama',)\n",
            "True genre[s]: ['Action', 'Thriller', 'Crime']\n",
            "\n",
            "\n",
            "Predicted genre[s]: ('Drama', 'Thriller')\n",
            "True genre[s]: ['Drama', 'Thriller']\n",
            "\n",
            "\n",
            "Predicted genre[s]: ('Action',)\n",
            "True genre[s]: ['Action', 'Crime', 'Thriller']\n",
            "\n",
            "\n",
            "Predicted genre[s]: ('Drama', 'Thriller')\n",
            "True genre[s]: ['Family', 'Animation', 'Adventure']\n",
            "\n",
            "\n",
            "Predicted genre[s]: ()\n",
            "True genre[s]: ['Horror', 'Thriller']\n",
            "\n",
            "\n"
          ],
          "name": "stdout"
        }
      ]
    },
    {
      "cell_type": "markdown",
      "metadata": {
        "id": "opsZ_T7nPuDG"
      },
      "source": [
        "With BoW + RFC we got very poor results when changing he threshold, but let's lower it to 0.3 here."
      ]
    },
    {
      "cell_type": "code",
      "metadata": {
        "colab": {
          "base_uri": "https://localhost:8080/"
        },
        "id": "C_DrgNmjPZfV",
        "outputId": "6d12383e-e5f8-464c-98ca-9fa07e98054e"
      },
      "source": [
        "threshold = 0.3\n",
        "predict_prob = ovrc.predict_proba(x_test_avg)\n",
        "predict_lt = (predict_prob >= threshold).astype(int)\n",
        "w2v_stats = get_stats(y_test, predict_lt, 'Random Forest', 0.3, w2v_stats)"
      ],
      "execution_count": 58,
      "outputs": [
        {
          "output_type": "stream",
          "text": [
            "+----+---------------+-------------+------------+-------------+----------+----------+\n",
            "|    | name          |   threshold |   accuracy |   precision |   recall |       F1 |\n",
            "|----+---------------+-------------+------------+-------------+----------+----------|\n",
            "|  0 | Random Forest |         0.3 |      0.073 |    0.521442 | 0.546322 | 0.533592 |\n",
            "+----+---------------+-------------+------------+-------------+----------+----------+\n"
          ],
          "name": "stdout"
        }
      ]
    },
    {
      "cell_type": "markdown",
      "metadata": {
        "id": "cLjSLHvlP9iG"
      },
      "source": [
        "Ha! Not as well as LR, but much better than BoW version."
      ]
    },
    {
      "cell_type": "markdown",
      "metadata": {
        "id": "_8I_J6SJQG8F"
      },
      "source": [
        "Moving on to SVC."
      ]
    },
    {
      "cell_type": "code",
      "metadata": {
        "colab": {
          "base_uri": "https://localhost:8080/"
        },
        "id": "ZUay0wbMPjgm",
        "outputId": "55cdf802-a6ec-4edc-a0df-ce7117cbd69b"
      },
      "source": [
        "from sklearn.svm import SVC\n",
        "random_state = np.random.RandomState(0)\n",
        "ovrc = OneVsRestClassifier(SVC(class_weight='balanced',\n",
        "    random_state=random_state, kernel='linear', probability=True))\n",
        "ovrc.fit(x_train_avg, y_train)"
      ],
      "execution_count": 59,
      "outputs": [
        {
          "output_type": "execute_result",
          "data": {
            "text/plain": [
              "OneVsRestClassifier(estimator=SVC(C=1.0, break_ties=False, cache_size=200,\n",
              "                                  class_weight='balanced', coef0=0.0,\n",
              "                                  decision_function_shape='ovr', degree=3,\n",
              "                                  gamma='scale', kernel='linear', max_iter=-1,\n",
              "                                  probability=True,\n",
              "                                  random_state=RandomState(MT19937) at 0x7F014669E380,\n",
              "                                  shrinking=True, tol=0.001, verbose=False),\n",
              "                    n_jobs=None)"
            ]
          },
          "metadata": {
            "tags": []
          },
          "execution_count": 59
        }
      ]
    },
    {
      "cell_type": "code",
      "metadata": {
        "id": "XkBvFBvrQsTa"
      },
      "source": [
        "predict = ovrc.predict(x_test_avg)"
      ],
      "execution_count": 60,
      "outputs": []
    },
    {
      "cell_type": "code",
      "metadata": {
        "colab": {
          "base_uri": "https://localhost:8080/"
        },
        "id": "on4jf2W-Q3Hr",
        "outputId": "85c8d44c-b8ca-477d-a0c3-897891e170fe"
      },
      "source": [
        "w2v_stats = get_stats(y_test, predict, 'SVC', 0.5, w2v_stats)"
      ],
      "execution_count": 61,
      "outputs": [
        {
          "output_type": "stream",
          "text": [
            "+----+--------+-------------+------------+-------------+----------+----------+\n",
            "|    | name   |   threshold |   accuracy |   precision |   recall |       F1 |\n",
            "|----+--------+-------------+------------+-------------+----------+----------|\n",
            "|  0 | SVC    |         0.5 |       0.04 |     0.41872 | 0.702584 | 0.524722 |\n",
            "+----+--------+-------------+------------+-------------+----------+----------+\n"
          ],
          "name": "stdout"
        }
      ]
    },
    {
      "cell_type": "code",
      "metadata": {
        "colab": {
          "base_uri": "https://localhost:8080/"
        },
        "id": "I7pAwGn8Q-Tn",
        "outputId": "3b18a790-1517-446f-da62-8e7f956933ac"
      },
      "source": [
        "threshold = 0.3\n",
        "predict_prob = ovrc.predict_proba(x_test_avg)\n",
        "predict_lt = (predict_prob >= threshold).astype(int)\n",
        "w2v_stats = get_stats(y_test, predict_lt, 'SVC', 0.3, w2v_stats)"
      ],
      "execution_count": 62,
      "outputs": [
        {
          "output_type": "stream",
          "text": [
            "+----+--------+-------------+------------+-------------+----------+----------+\n",
            "|    | name   |   threshold |   accuracy |   precision |   recall |       F1 |\n",
            "|----+--------+-------------+------------+-------------+----------+----------|\n",
            "|  0 | SVC    |         0.3 |      0.089 |    0.540684 | 0.647316 | 0.589215 |\n",
            "+----+--------+-------------+------------+-------------+----------+----------+\n"
          ],
          "name": "stdout"
        }
      ]
    },
    {
      "cell_type": "markdown",
      "metadata": {
        "id": "rfIM2Q_CRUqr"
      },
      "source": [
        "*Gasp!* This is the best so far. SVC has proven itself with two methods. (And the golden 0.3 threshold.)"
      ]
    },
    {
      "cell_type": "code",
      "metadata": {
        "colab": {
          "base_uri": "https://localhost:8080/"
        },
        "id": "09DA90_iRHfO",
        "outputId": "a0158fbd-a964-431a-df1b-1c0072092aab"
      },
      "source": [
        "get_prediction_samples(predict_lt)"
      ],
      "execution_count": null,
      "outputs": [
        {
          "output_type": "stream",
          "text": [
            "Predicted genre[s]: ('Action', 'Crime', 'Drama', 'Horror', 'Thriller')\n",
            "True genre[s]: ['Action', 'Horror', 'Thriller']\n",
            "\n",
            "\n",
            "Predicted genre[s]: ('Comedy', 'Drama', 'Romance')\n",
            "True genre[s]: ['Drama', 'History', 'Romance']\n",
            "\n",
            "\n",
            "Predicted genre[s]: ('Fantasy', 'Horror', 'Science Fiction', 'Thriller')\n",
            "True genre[s]: ['Drama', 'Fantasy', 'Romance', 'Science Fiction']\n",
            "\n",
            "\n",
            "Predicted genre[s]: ('Comedy', 'Drama', 'Thriller')\n",
            "True genre[s]: ['Comedy']\n",
            "\n",
            "\n",
            "Predicted genre[s]: ('Comedy', 'Drama')\n",
            "True genre[s]: ['Drama']\n",
            "\n",
            "\n"
          ],
          "name": "stdout"
        }
      ]
    },
    {
      "cell_type": "markdown",
      "metadata": {
        "id": "IJ6lvs1nT0Dn"
      },
      "source": [
        "It probably won't act any better, but for the let's take Ada Boost."
      ]
    },
    {
      "cell_type": "code",
      "metadata": {
        "colab": {
          "base_uri": "https://localhost:8080/"
        },
        "id": "NqPBhFCSSP0K",
        "outputId": "ef04a602-bea6-43a1-9794-0f7e8d71601a"
      },
      "source": [
        "from sklearn.ensemble import AdaBoostClassifier\n",
        "ovrc = OneVsRestClassifier(AdaBoostClassifier(n_estimators=100, random_state=0))\n",
        "ovrc.fit(x_train_avg, y_train)\n",
        "predict = ovrc.predict(x_test_avg)\n",
        "w2v_stats = get_stats(y_test, predict, 'Ada Boost', 0.5, w2v_stats)"
      ],
      "execution_count": 63,
      "outputs": [
        {
          "output_type": "stream",
          "text": [
            "+----+-----------+-------------+------------+-------------+----------+----------+\n",
            "|    | name      |   threshold |   accuracy |   precision |   recall |       F1 |\n",
            "|----+-----------+-------------+------------+-------------+----------+----------|\n",
            "|  0 | Ada Boost |         0.5 |      0.076 |    0.540832 | 0.418688 | 0.471986 |\n",
            "+----+-----------+-------------+------------+-------------+----------+----------+\n"
          ],
          "name": "stdout"
        }
      ]
    },
    {
      "cell_type": "markdown",
      "metadata": {
        "id": "XhMw-5e5z3ZM"
      },
      "source": [
        "What about a Naive Bayes classifier? A Guassian one is not multilabel, but there's a MultiOutputClassifier wrapper for it."
      ]
    },
    {
      "cell_type": "code",
      "metadata": {
        "colab": {
          "base_uri": "https://localhost:8080/"
        },
        "id": "_KLsUeofz14e",
        "outputId": "54f80c05-e578-4616-d945-fa871c9ee9e8"
      },
      "source": [
        "from sklearn.multiclass import OneVsRestClassifier\n",
        "from sklearn.multioutput import MultiOutputClassifier\n",
        "from sklearn.naive_bayes import GaussianNB\n",
        "\n",
        "gnb = GaussianNB()\n",
        "moc = MultiOutputClassifier(gnb)\n",
        "moc.fit(x_train_avg, y_train)"
      ],
      "execution_count": 64,
      "outputs": [
        {
          "output_type": "execute_result",
          "data": {
            "text/plain": [
              "MultiOutputClassifier(estimator=GaussianNB(priors=None, var_smoothing=1e-09),\n",
              "                      n_jobs=None)"
            ]
          },
          "metadata": {
            "tags": []
          },
          "execution_count": 64
        }
      ]
    },
    {
      "cell_type": "code",
      "metadata": {
        "colab": {
          "base_uri": "https://localhost:8080/"
        },
        "id": "gAGI2Sdy0Rd1",
        "outputId": "6ce48aaf-6b3c-42f6-872c-f7b674bdc1c3"
      },
      "source": [
        "predict = moc.predict(x_test_avg)\n",
        "w2v_stats = get_stats(y_test, predict, 'Gaussian NB', 0.5, w2v_stats)"
      ],
      "execution_count": 65,
      "outputs": [
        {
          "output_type": "stream",
          "text": [
            "+----+-------------+-------------+------------+-------------+----------+----------+\n",
            "|    | name        |   threshold |   accuracy |   precision |   recall |       F1 |\n",
            "|----+-------------+-------------+------------+-------------+----------+----------|\n",
            "|  0 | Gaussian NB |         0.5 |      0.036 |    0.402956 | 0.650497 | 0.497643 |\n",
            "+----+-------------+-------------+------------+-------------+----------+----------+\n"
          ],
          "name": "stdout"
        }
      ]
    },
    {
      "cell_type": "markdown",
      "metadata": {
        "id": "En4ExVNg5IEo"
      },
      "source": [
        "Sadly, this one doesn't natively support thresholding. It might've ben better. :(\n",
        "\n",
        "\n",
        "---\n",
        "\n",
        "\n",
        "Now let's get an overview"
      ]
    },
    {
      "cell_type": "code",
      "metadata": {
        "colab": {
          "base_uri": "https://localhost:8080/",
          "height": 284
        },
        "id": "Y-fnbNttUDJH",
        "outputId": "426e3991-6800-4ca0-d5b2-b3c9f87f277e"
      },
      "source": [
        "w2v_stats.sort_values(by=['F1'], ignore_index=True, ascending=False)"
      ],
      "execution_count": 66,
      "outputs": [
        {
          "output_type": "execute_result",
          "data": {
            "text/html": [
              "<div>\n",
              "<style scoped>\n",
              "    .dataframe tbody tr th:only-of-type {\n",
              "        vertical-align: middle;\n",
              "    }\n",
              "\n",
              "    .dataframe tbody tr th {\n",
              "        vertical-align: top;\n",
              "    }\n",
              "\n",
              "    .dataframe thead th {\n",
              "        text-align: right;\n",
              "    }\n",
              "</style>\n",
              "<table border=\"1\" class=\"dataframe\">\n",
              "  <thead>\n",
              "    <tr style=\"text-align: right;\">\n",
              "      <th></th>\n",
              "      <th>name</th>\n",
              "      <th>threshold</th>\n",
              "      <th>accuracy</th>\n",
              "      <th>precision</th>\n",
              "      <th>recall</th>\n",
              "      <th>F1</th>\n",
              "    </tr>\n",
              "  </thead>\n",
              "  <tbody>\n",
              "    <tr>\n",
              "      <th>0</th>\n",
              "      <td>SVC</td>\n",
              "      <td>0.3</td>\n",
              "      <td>0.089</td>\n",
              "      <td>0.5406841580870143</td>\n",
              "      <td>0.6473161033797217</td>\n",
              "      <td>0.5892146217879117</td>\n",
              "    </tr>\n",
              "    <tr>\n",
              "      <th>1</th>\n",
              "      <td>Logistic Regression</td>\n",
              "      <td>0.3</td>\n",
              "      <td>0.095</td>\n",
              "      <td>0.5570469798657718</td>\n",
              "      <td>0.5940357852882704</td>\n",
              "      <td>0.574947084856648</td>\n",
              "    </tr>\n",
              "    <tr>\n",
              "      <th>2</th>\n",
              "      <td>Random Forest</td>\n",
              "      <td>0.3</td>\n",
              "      <td>0.073</td>\n",
              "      <td>0.5214421252371917</td>\n",
              "      <td>0.5463220675944334</td>\n",
              "      <td>0.5335922330097087</td>\n",
              "    </tr>\n",
              "    <tr>\n",
              "      <th>3</th>\n",
              "      <td>SVC</td>\n",
              "      <td>0.5</td>\n",
              "      <td>0.04</td>\n",
              "      <td>0.41872037914691945</td>\n",
              "      <td>0.7025844930417495</td>\n",
              "      <td>0.5247216035634744</td>\n",
              "    </tr>\n",
              "    <tr>\n",
              "      <th>4</th>\n",
              "      <td>Gaussian NB</td>\n",
              "      <td>0.5</td>\n",
              "      <td>0.036</td>\n",
              "      <td>0.40295566502463054</td>\n",
              "      <td>0.6504970178926441</td>\n",
              "      <td>0.49764258555133073</td>\n",
              "    </tr>\n",
              "    <tr>\n",
              "      <th>5</th>\n",
              "      <td>Ada Boost</td>\n",
              "      <td>0.5</td>\n",
              "      <td>0.076</td>\n",
              "      <td>0.5408320493066255</td>\n",
              "      <td>0.4186878727634195</td>\n",
              "      <td>0.471985656656208</td>\n",
              "    </tr>\n",
              "    <tr>\n",
              "      <th>6</th>\n",
              "      <td>Logistic Regression</td>\n",
              "      <td>0.5</td>\n",
              "      <td>0.114</td>\n",
              "      <td>0.6835871404399323</td>\n",
              "      <td>0.321272365805169</td>\n",
              "      <td>0.43711117121990806</td>\n",
              "    </tr>\n",
              "    <tr>\n",
              "      <th>7</th>\n",
              "      <td>Random Forest</td>\n",
              "      <td>0.5</td>\n",
              "      <td>0.084</td>\n",
              "      <td>0.6841397849462365</td>\n",
              "      <td>0.20238568588469186</td>\n",
              "      <td>0.3123657563669837</td>\n",
              "    </tr>\n",
              "  </tbody>\n",
              "</table>\n",
              "</div>"
            ],
            "text/plain": [
              "                  name threshold  ...               recall                   F1\n",
              "0                  SVC       0.3  ...   0.6473161033797217   0.5892146217879117\n",
              "1  Logistic Regression       0.3  ...   0.5940357852882704    0.574947084856648\n",
              "2        Random Forest       0.3  ...   0.5463220675944334   0.5335922330097087\n",
              "3                  SVC       0.5  ...   0.7025844930417495   0.5247216035634744\n",
              "4          Gaussian NB       0.5  ...   0.6504970178926441  0.49764258555133073\n",
              "5            Ada Boost       0.5  ...   0.4186878727634195    0.471985656656208\n",
              "6  Logistic Regression       0.5  ...    0.321272365805169  0.43711117121990806\n",
              "7        Random Forest       0.5  ...  0.20238568588469186   0.3123657563669837\n",
              "\n",
              "[8 rows x 6 columns]"
            ]
          },
          "metadata": {
            "tags": []
          },
          "execution_count": 66
        }
      ]
    },
    {
      "cell_type": "markdown",
      "metadata": {
        "id": "CU3HuGShYqp3"
      },
      "source": [
        "# 4. Bag of Concepts\n",
        "The problem with bag of words is that semantic relations cannot be taken into account. What we can do is to grab a clustering algorithm and use on our Word2Vec model to get clusters of 'concepts' instead of single words. Then, we can use these clusters to create a 'bag of concepts' which now has semantical value as well as lexical."
      ]
    },
    {
      "cell_type": "markdown",
      "metadata": {
        "id": "Vg86x6xHahVK"
      },
      "source": [
        "First step is training a Word2Vec model over our cleaned document and save it somewhere (good for future use)."
      ]
    },
    {
      "cell_type": "code",
      "metadata": {
        "id": "uG2EjTA7vb3b"
      },
      "source": [
        "toks = df.clean.to_list()\n",
        "tok_train = []\n",
        "for tok in toks:\n",
        "  tok_train.append(tok.rstrip().split(\" \"))"
      ],
      "execution_count": 21,
      "outputs": []
    },
    {
      "cell_type": "code",
      "metadata": {
        "id": "vF5gxMQyl7_h"
      },
      "source": [
        "def train_w2v(tok_train, embedding_dim=6000, con_size=8,\n",
        "              min_freq=10, itrs=5):\n",
        "  model = gensim.models.Word2Vec(size=embedding_dim,\n",
        "                                 window=con_size, min_count=min_freq, sg=1)\n",
        "  model.build_vocab(tok_train)\n",
        "  model.train(tok_train, total_examples=model.corpus_count, epochs=itrs)\n",
        "  print(model.wv.vocab)\n",
        "\n",
        "  return model.wv.vectors, model.wv.index2word"
      ],
      "execution_count": 28,
      "outputs": []
    },
    {
      "cell_type": "code",
      "metadata": {
        "colab": {
          "base_uri": "https://localhost:8080/"
        },
        "id": "1cAHeKxPq3l7",
        "outputId": "29408253-39b2-4030-918d-82c7e40375a3"
      },
      "source": [
        "wv, i2w = train_w2v(tok_train)"
      ],
      "execution_count": 29,
      "outputs": [
        {
          "output_type": "stream",
          "text": [
            "{'become': <gensim.models.keyedvectors.Vocab object at 0x7f248f016e90>, 'father': <gensim.models.keyedvectors.Vocab object at 0x7f248f016c10>, 'shot': <gensim.models.keyedvectors.Vocab object at 0x7f248f016e50>, 'unknown': <gensim.models.keyedvectors.Vocab object at 0x7f248f029210>, 'nick': <gensim.models.keyedvectors.Vocab object at 0x7f248f029fd0>, 'fire': <gensim.models.keyedvectors.Vocab object at 0x7f248f0294d0>, 'time': <gensim.models.keyedvectors.Vocab object at 0x7f248f029910>, 'machine': <gensim.models.keyedvectors.Vocab object at 0x7f248f029bd0>, 'save': <gensim.models.keyedvectors.Vocab object at 0x7f248f029b50>, 'friend': <gensim.models.keyedvectors.Vocab object at 0x7f248f029e50>, 'college': <gensim.models.keyedvectors.Vocab object at 0x7f248f029390>, 'way': <gensim.models.keyedvectors.Vocab object at 0x7f248f029490>, 'take': <gensim.models.keyedvectors.Vocab object at 0x7f248f029410>, 'princess': <gensim.models.keyedvectors.Vocab object at 0x7f248f029450>, 'best': <gensim.models.keyedvectors.Vocab object at 0x7f248f029850>, 'also': <gensim.models.keyedvectors.Vocab object at 0x7f248f029710>, 'join': <gensim.models.keyedvectors.Vocab object at 0x7f248f029a10>, 'summer': <gensim.models.keyedvectors.Vocab object at 0x7f248f029a90>, 'continues': <gensim.models.keyedvectors.Vocab object at 0x7f248f029e90>, 'lesson': <gensim.models.keyedvectors.Vocab object at 0x7f248f029050>, 'horse': <gensim.models.keyedvectors.Vocab object at 0x7f248f0291d0>, 'complicated': <gensim.models.keyedvectors.Vocab object at 0x7f248f029510>, 'life': <gensim.models.keyedvectors.Vocab object at 0x7f248f029790>, 'turned': <gensim.models.keyedvectors.Vocab object at 0x7f248f029310>, 'upside': <gensim.models.keyedvectors.Vocab object at 0x7f248f029610>, 'learns': <gensim.models.keyedvectors.Vocab object at 0x7f248f029290>, 'queen': <gensim.models.keyedvectors.Vocab object at 0x7f248f0295d0>, 'ruthless': <gensim.models.keyedvectors.Vocab object at 0x7f248f029d50>, 'talented': <gensim.models.keyedvectors.Vocab object at 0x7f248f0290d0>, 'young': <gensim.models.keyedvectors.Vocab object at 0x7f248f029f90>, 'begin': <gensim.models.keyedvectors.Vocab object at 0x7f248f018050>, 'even': <gensim.models.keyedvectors.Vocab object at 0x7f248f018090>, 'humanity': <gensim.models.keyedvectors.Vocab object at 0x7f248f0180d0>, 'arrives': <gensim.models.keyedvectors.Vocab object at 0x7f248f018110>, 'london': <gensim.models.keyedvectors.Vocab object at 0x7f248f018150>, 'find': <gensim.models.keyedvectors.Vocab object at 0x7f248f018190>, 'missing': <gensim.models.keyedvectors.Vocab object at 0x7f248f0181d0>, 'husband': <gensim.models.keyedvectors.Vocab object at 0x7f248f018210>, 'seven': <gensim.models.keyedvectors.Vocab object at 0x7f248f018250>, 'month': <gensim.models.keyedvectors.Vocab object at 0x7f248f018290>, 'pregnant': <gensim.models.keyedvectors.Vocab object at 0x7f248f0182d0>, 'alone': <gensim.models.keyedvectors.Vocab object at 0x7f248f018310>, 'city': <gensim.models.keyedvectors.Vocab object at 0x7f248f018350>, 'search': <gensim.models.keyedvectors.Vocab object at 0x7f248f018390>, 'nothing': <gensim.models.keyedvectors.Vocab object at 0x7f248f0183d0>, 'memory': <gensim.models.keyedvectors.Vocab object at 0x7f248f018410>, 'clue': <gensim.models.keyedvectors.Vocab object at 0x7f248f018450>, 'reach': <gensim.models.keyedvectors.Vocab object at 0x7f248f018490>, 'dead': <gensim.models.keyedvectors.Vocab object at 0x7f248f0184d0>, 'end': <gensim.models.keyedvectors.Vocab object at 0x7f248f018510>, 'everyone': <gensim.models.keyedvectors.Vocab object at 0x7f248f018550>, 'try': <gensim.models.keyedvectors.Vocab object at 0x7f248f018590>, 'convince': <gensim.models.keyedvectors.Vocab object at 0x7f248f0185d0>, 'slowly': <gensim.models.keyedvectors.Vocab object at 0x7f248f018610>, 'seems': <gensim.models.keyedvectors.Vocab object at 0x7f248f018650>, 'lie': <gensim.models.keyedvectors.Vocab object at 0x7f248f018690>, 'determined': <gensim.models.keyedvectors.Vocab object at 0x7f248f0186d0>, 'truth': <gensim.models.keyedvectors.Vocab object at 0x7f248f018710>, 'child': <gensim.models.keyedvectors.Vocab object at 0x7f248f018750>, 'marine': <gensim.models.keyedvectors.Vocab object at 0x7f248f018790>, 'boy': <gensim.models.keyedvectors.Vocab object at 0x7f248f0187d0>, 'story': <gensim.models.keyedvectors.Vocab object at 0x7f248f018810>, 'former': <gensim.models.keyedvectors.Vocab object at 0x7f248f018850>, 'national': <gensim.models.keyedvectors.Vocab object at 0x7f248f018890>, 'gangster': <gensim.models.keyedvectors.Vocab object at 0x7f248f0188d0>, 'bos': <gensim.models.keyedvectors.Vocab object at 0x7f248f018910>, 'drug': <gensim.models.keyedvectors.Vocab object at 0x7f248f018950>, 'sea': <gensim.models.keyedvectors.Vocab object at 0x7f248f018990>, 'magic': <gensim.models.keyedvectors.Vocab object at 0x7f248f0189d0>, 'music': <gensim.models.keyedvectors.Vocab object at 0x7f248f018a10>, 'however': <gensim.models.keyedvectors.Vocab object at 0x7f248f018a50>, 'evil': <gensim.models.keyedvectors.Vocab object at 0x7f248f018a90>, 'night': <gensim.models.keyedvectors.Vocab object at 0x7f248f018ad0>, 'girl': <gensim.models.keyedvectors.Vocab object at 0x7f248f018b10>, 'sale': <gensim.models.keyedvectors.Vocab object at 0x7f248f018b50>, 'inside': <gensim.models.keyedvectors.Vocab object at 0x7f248f018b90>, 'ancient': <gensim.models.keyedvectors.Vocab object at 0x7f248f018bd0>, 'spirit': <gensim.models.keyedvectors.Vocab object at 0x7f248f018c10>, 'team': <gensim.models.keyedvectors.Vocab object at 0x7f248f018c50>, 'upon': <gensim.models.keyedvectors.Vocab object at 0x7f248f018c90>, 'international': <gensim.models.keyedvectors.Vocab object at 0x7f248f018cd0>, 'war': <gensim.models.keyedvectors.Vocab object at 0x7f248f018d10>, 'world': <gensim.models.keyedvectors.Vocab object at 0x7f248f018d50>, 'popular': <gensim.models.keyedvectors.Vocab object at 0x7f248f018d90>, 'news': <gensim.models.keyedvectors.Vocab object at 0x7f248f018dd0>, 'member': <gensim.models.keyedvectors.Vocab object at 0x7f248f018e10>, 'official': <gensim.models.keyedvectors.Vocab object at 0x7f248f018e50>, 'well': <gensim.models.keyedvectors.Vocab object at 0x7f248f0160d0>, 'footage': <gensim.models.keyedvectors.Vocab object at 0x7f248f0161d0>, 'american': <gensim.models.keyedvectors.Vocab object at 0x7f248f0164d0>, 'show': <gensim.models.keyedvectors.Vocab object at 0x7f248f016490>, 'everything': <gensim.models.keyedvectors.Vocab object at 0x7f248f016450>, 'want': <gensim.models.keyedvectors.Vocab object at 0x7f248f016410>, 'see': <gensim.models.keyedvectors.Vocab object at 0x7f248f016310>, 'last': <gensim.models.keyedvectors.Vocab object at 0x7f248f0162d0>, 'journey': <gensim.models.keyedvectors.Vocab object at 0x7f248f016250>, 'jim': <gensim.models.keyedvectors.Vocab object at 0x7f248f016210>, 'billy': <gensim.models.keyedvectors.Vocab object at 0x7f248f016290>, 'heart': <gensim.models.keyedvectors.Vocab object at 0x7f248f016190>, 'attack': <gensim.models.keyedvectors.Vocab object at 0x7f248f016150>, 'dy': <gensim.models.keyedvectors.Vocab object at 0x7f248f016110>, 'attacked': <gensim.models.keyedvectors.Vocab object at 0x7f248f016090>, 'pirate': <gensim.models.keyedvectors.Vocab object at 0x7f248f016050>, 'gang': <gensim.models.keyedvectors.Vocab object at 0x7f248f0299d0>, 'escape': <gensim.models.keyedvectors.Vocab object at 0x7f248f029d10>, 'town': <gensim.models.keyedvectors.Vocab object at 0x7f248f029ed0>, 'hire': <gensim.models.keyedvectors.Vocab object at 0x7f248f029dd0>, 'crew': <gensim.models.keyedvectors.Vocab object at 0x7f248f029650>, 'hidden': <gensim.models.keyedvectors.Vocab object at 0x7f248f029d90>, 'died': <gensim.models.keyedvectors.Vocab object at 0x7f248f029cd0>, 'across': <gensim.models.keyedvectors.Vocab object at 0x7f248f029b90>, 'soon': <gensim.models.keyedvectors.Vocab object at 0x7f248f029c10>, 'board': <gensim.models.keyedvectors.Vocab object at 0x7f248f0296d0>, 'wind': <gensim.models.keyedvectors.Vocab object at 0x7f248f029190>, 'director': <gensim.models.keyedvectors.Vocab object at 0x7f248f029350>, 'guest': <gensim.models.keyedvectors.Vocab object at 0x7f248f0297d0>, 'waiting': <gensim.models.keyedvectors.Vocab object at 0x7f248f029a50>, 'tell': <gensim.models.keyedvectors.Vocab object at 0x7f248f029150>, 'musician': <gensim.models.keyedvectors.Vocab object at 0x7f248f0293d0>, 'inspired': <gensim.models.keyedvectors.Vocab object at 0x7f248f0292d0>, 'death': <gensim.models.keyedvectors.Vocab object at 0x7f248f029090>, 'manager': <gensim.models.keyedvectors.Vocab object at 0x7f248f45b290>, 'get': <gensim.models.keyedvectors.Vocab object at 0x7f248f45bf90>, 'back': <gensim.models.keyedvectors.Vocab object at 0x7f248f45bdd0>, 'stage': <gensim.models.keyedvectors.Vocab object at 0x7f248f45b390>, 'one': <gensim.models.keyedvectors.Vocab object at 0x7f248f45bf10>, 'new': <gensim.models.keyedvectors.Vocab object at 0x7f248f45b410>, 'york': <gensim.models.keyedvectors.Vocab object at 0x7f248f45b190>, 'hall': <gensim.models.keyedvectors.Vocab object at 0x7f248f45b690>, 'champion': <gensim.models.keyedvectors.Vocab object at 0x7f248f45b910>, 'give': <gensim.models.keyedvectors.Vocab object at 0x7f248f45b490>, 'fighter': <gensim.models.keyedvectors.Vocab object at 0x7f248f45b090>, 'rocky': <gensim.models.keyedvectors.Vocab object at 0x7f248f45b050>, 'shark': <gensim.models.keyedvectors.Vocab object at 0x7f248f45b210>, 'make': <gensim.models.keyedvectors.Vocab object at 0x7f248f45b6d0>, 'break': <gensim.models.keyedvectors.Vocab object at 0x7f248f45b250>, 'travel': <gensim.models.keyedvectors.Vocab object at 0x7f248f45b710>, 'rival': <gensim.models.keyedvectors.Vocab object at 0x7f248f45b990>, 'course': <gensim.models.keyedvectors.Vocab object at 0x7f248d7e37d0>, 'crisis': <gensim.models.keyedvectors.Vocab object at 0x7f248d7feb50>, 'decides': <gensim.models.keyedvectors.Vocab object at 0x7f248d7fead0>, 'turn': <gensim.models.keyedvectors.Vocab object at 0x7f248d7fe590>, 'around': <gensim.models.keyedvectors.Vocab object at 0x7f248d7fef10>, 'daughter': <gensim.models.keyedvectors.Vocab object at 0x7f248d7fe8d0>, 'movie': <gensim.models.keyedvectors.Vocab object at 0x7f248d7fe290>, 'meeting': <gensim.models.keyedvectors.Vocab object at 0x7f248d7fef90>, 'widow': <gensim.models.keyedvectors.Vocab object at 0x7f248d7fea10>, 'john': <gensim.models.keyedvectors.Vocab object at 0x7f248d7fea50>, 'top': <gensim.models.keyedvectors.Vocab object at 0x7f248d7fe490>, 'cop': <gensim.models.keyedvectors.Vocab object at 0x7f248d7fe550>, 'century': <gensim.models.keyedvectors.Vocab object at 0x7f248d7fec90>, 'crime': <gensim.models.keyedvectors.Vocab object at 0x7f248d7febd0>, 'theyre': <gensim.models.keyedvectors.Vocab object at 0x7f248d7fe090>, 'becomes': <gensim.models.keyedvectors.Vocab object at 0x7f248d7fea90>, 'another': <gensim.models.keyedvectors.Vocab object at 0x7f248d7fe990>, 'target': <gensim.models.keyedvectors.Vocab object at 0x7f248d7fe890>, 'murder': <gensim.models.keyedvectors.Vocab object at 0x7f248d7fe850>, 'charge': <gensim.models.keyedvectors.Vocab object at 0x7f248d7fe5d0>, 'high': <gensim.models.keyedvectors.Vocab object at 0x7f248d7fee10>, 'school': <gensim.models.keyedvectors.Vocab object at 0x7f248d7fed10>, 'attempt': <gensim.models.keyedvectors.Vocab object at 0x7f248d7fed50>, 'overcome': <gensim.models.keyedvectors.Vocab object at 0x7f248d7fe250>, 'violence': <gensim.models.keyedvectors.Vocab object at 0x7f248d7fe9d0>, 'funeral': <gensim.models.keyedvectors.Vocab object at 0x7f248d7fec50>, 'hotel': <gensim.models.keyedvectors.Vocab object at 0x7f248d7fe510>, 'flight': <gensim.models.keyedvectors.Vocab object at 0x7f248d7fe7d0>, 'miami': <gensim.models.keyedvectors.Vocab object at 0x7f248d7fed90>, 'due': <gensim.models.keyedvectors.Vocab object at 0x7f248d7fe190>, 'bad': <gensim.models.keyedvectors.Vocab object at 0x7f248d7feb10>, 'meet': <gensim.models.keyedvectors.Vocab object at 0x7f248d7feb90>, 'bar': <gensim.models.keyedvectors.Vocab object at 0x7f248d7fef50>, 'jack': <gensim.models.keyedvectors.Vocab object at 0x7f248d7fec10>, 'together': <gensim.models.keyedvectors.Vocab object at 0x7f248d7feed0>, 'plane': <gensim.models.keyedvectors.Vocab object at 0x7f248d7fecd0>, 'reveals': <gensim.models.keyedvectors.Vocab object at 0x7f248d7fee50>, 'change': <gensim.models.keyedvectors.Vocab object at 0x7f248d7fe310>, 'important': <gensim.models.keyedvectors.Vocab object at 0x7f248d7fe650>, 'politician': <gensim.models.keyedvectors.Vocab object at 0x7f248d7d60d0>, 'terrorist': <gensim.models.keyedvectors.Vocab object at 0x7f248d7d6810>, 'killed': <gensim.models.keyedvectors.Vocab object at 0x7f248f079f10>, 'hit': <gensim.models.keyedvectors.Vocab object at 0x7f248f079690>, 'man': <gensim.models.keyedvectors.Vocab object at 0x7f248f0794d0>, 'decide': <gensim.models.keyedvectors.Vocab object at 0x7f248f079890>, 'side': <gensim.models.keyedvectors.Vocab object at 0x7f248f4f2490>, 'fortune': <gensim.models.keyedvectors.Vocab object at 0x7f248f4f2250>, 'social': <gensim.models.keyedvectors.Vocab object at 0x7f24940e6250>, 'fall': <gensim.models.keyedvectors.Vocab object at 0x7f248f03b090>, 'love': <gensim.models.keyedvectors.Vocab object at 0x7f248f03b610>, 'teenage': <gensim.models.keyedvectors.Vocab object at 0x7f248f03b250>, 'focus': <gensim.models.keyedvectors.Vocab object at 0x7f248f03b650>, 'mind': <gensim.models.keyedvectors.Vocab object at 0x7f248f03ba90>, 'must': <gensim.models.keyedvectors.Vocab object at 0x7f248f03bcd0>, 'working': <gensim.models.keyedvectors.Vocab object at 0x7f248f03bed0>, 'job': <gensim.models.keyedvectors.Vocab object at 0x7f248f03bfd0>, 'resort': <gensim.models.keyedvectors.Vocab object at 0x7f248f03bb50>, 'support': <gensim.models.keyedvectors.Vocab object at 0x7f248f03b990>, 'dad': <gensim.models.keyedvectors.Vocab object at 0x7f248f03bb90>, 'good': <gensim.models.keyedvectors.Vocab object at 0x7f248f03bf90>, 'enters': <gensim.models.keyedvectors.Vocab object at 0x7f248f03b950>, 'competition': <gensim.models.keyedvectors.Vocab object at 0x7f248f03b490>, 'huge': <gensim.models.keyedvectors.Vocab object at 0x7f248f03bc10>, 'cash': <gensim.models.keyedvectors.Vocab object at 0x7f248f03bc90>, 'deep': <gensim.models.keyedvectors.Vocab object at 0x7f248f03b5d0>, 'fear': <gensim.models.keyedvectors.Vocab object at 0x7f248f03b290>, 'professional': <gensim.models.keyedvectors.Vocab object at 0x7f248f03be10>, 'driver': <gensim.models.keyedvectors.Vocab object at 0x7f248f03b690>, 'frank': <gensim.models.keyedvectors.Vocab object at 0x7f248f03bd90>, 'martin': <gensim.models.keyedvectors.Vocab object at 0x7f248f03b6d0>, 'living': <gensim.models.keyedvectors.Vocab object at 0x7f248f03bf50>, 'government': <gensim.models.keyedvectors.Vocab object at 0x7f248f03be90>, 'control': <gensim.models.keyedvectors.Vocab object at 0x7f248f03b7d0>, 'family': <gensim.models.keyedvectors.Vocab object at 0x7f248f03bdd0>, 'immediately': <gensim.models.keyedvectors.Vocab object at 0x7f248f03bd50>, 'involved': <gensim.models.keyedvectors.Vocab object at 0x7f248f03b9d0>, 'earth': <gensim.models.keyedvectors.Vocab object at 0x7f248f03bc50>, 'year': <gensim.models.keyedvectors.Vocab object at 0x7f248f03b890>, 'space': <gensim.models.keyedvectors.Vocab object at 0x7f248f03b190>, 'prime': <gensim.models.keyedvectors.Vocab object at 0x7f248f03bb10>, 'planet': <gensim.models.keyedvectors.Vocab object at 0x7f248f03b790>, 'mission': <gensim.models.keyedvectors.Vocab object at 0x7f248f03b750>, 'nightmare': <gensim.models.keyedvectors.Vocab object at 0x7f248f03b8d0>, 'yet': <gensim.models.keyedvectors.Vocab object at 0x7f248f03b3d0>, 'group': <gensim.models.keyedvectors.Vocab object at 0x7f248f03b850>, 'camp': <gensim.models.keyedvectors.Vocab object at 0x7f248f03b410>, 'bloody': <gensim.models.keyedvectors.Vocab object at 0x7f248f03b310>, 'victim': <gensim.models.keyedvectors.Vocab object at 0x7f248f03b1d0>, 'jason': <gensim.models.keyedvectors.Vocab object at 0x7f248f03b050>, 'every': <gensim.models.keyedvectors.Vocab object at 0x7f248f03b0d0>, 'hired': <gensim.models.keyedvectors.Vocab object at 0x7f248d7c44d0>, 'third': <gensim.models.keyedvectors.Vocab object at 0x7f248d7c4950>, 'party': <gensim.models.keyedvectors.Vocab object at 0x7f248d7c4290>, 'house': <gensim.models.keyedvectors.Vocab object at 0x7f248d7c4990>, 'discover': <gensim.models.keyedvectors.Vocab object at 0x7f248d7c4d90>, 'found': <gensim.models.keyedvectors.Vocab object at 0x7f248d7c4810>, 'accidentally': <gensim.models.keyedvectors.Vocab object at 0x7f248d7c4fd0>, 'used': <gensim.models.keyedvectors.Vocab object at 0x7f248d7c49d0>, 'effort': <gensim.models.keyedvectors.Vocab object at 0x7f248d7c4a50>, 'woman': <gensim.models.keyedvectors.Vocab object at 0x7f248d7c43d0>, 'almost': <gensim.models.keyedvectors.Vocab object at 0x7f248d7c4f50>, 'start': <gensim.models.keyedvectors.Vocab object at 0x7f248d7c4650>, 'experience': <gensim.models.keyedvectors.Vocab object at 0x7f248d7c4710>, 'police': <gensim.models.keyedvectors.Vocab object at 0x7f248d7c4350>, 'solve': <gensim.models.keyedvectors.Vocab object at 0x7f248d7c4ad0>, 'risk': <gensim.models.keyedvectors.Vocab object at 0x7f248d7c4890>, 'terrifying': <gensim.models.keyedvectors.Vocab object at 0x7f248d7c4c10>, 'stake': <gensim.models.keyedvectors.Vocab object at 0x7f248d7c4e50>, 'ultimately': <gensim.models.keyedvectors.Vocab object at 0x7f248d7c4550>, 'detective': <gensim.models.keyedvectors.Vocab object at 0x7f248d7c4610>, 'case': <gensim.models.keyedvectors.Vocab object at 0x7f248d7c45d0>, 'past': <gensim.models.keyedvectors.Vocab object at 0x7f248d7c4f90>, 'brutal': <gensim.models.keyedvectors.Vocab object at 0x7f248d7c4e10>, 'unexpected': <gensim.models.keyedvectors.Vocab object at 0x7f248d7c46d0>, 'along': <gensim.models.keyedvectors.Vocab object at 0x7f248d7c4690>, 'experiment': <gensim.models.keyedvectors.Vocab object at 0x7f248d7c4dd0>, 'gone': <gensim.models.keyedvectors.Vocab object at 0x7f248d7c4910>, 'large': <gensim.models.keyedvectors.Vocab object at 0x7f248d7c4850>, 'killing': <gensim.models.keyedvectors.Vocab object at 0x7f248d7c4ed0>, 'horror': <gensim.models.keyedvectors.Vocab object at 0x7f248d7c4050>, 'comedy': <gensim.models.keyedvectors.Vocab object at 0x7f248f030cd0>, 'directed': <gensim.models.keyedvectors.Vocab object at 0x7f248f030c90>, 'jonathan': <gensim.models.keyedvectors.Vocab object at 0x7f248f030f90>, 'king': <gensim.models.keyedvectors.Vocab object at 0x7f248f030e50>, 'featuring': <gensim.models.keyedvectors.Vocab object at 0x7f248f030e10>, 'special': <gensim.models.keyedvectors.Vocab object at 0x7f248f030bd0>, 'patient': <gensim.models.keyedvectors.Vocab object at 0x7f248f030c10>, 'wife': <gensim.models.keyedvectors.Vocab object at 0x7f248f030e90>, 'mental': <gensim.models.keyedvectors.Vocab object at 0x7f248f030ed0>, 'return': <gensim.models.keyedvectors.Vocab object at 0x7f248f030a50>, 'revenge': <gensim.models.keyedvectors.Vocab object at 0x7f248f030d90>, 'resident': <gensim.models.keyedvectors.Vocab object at 0x7f248f030950>, 'mother': <gensim.models.keyedvectors.Vocab object at 0x7f248f030910>, 'final': <gensim.models.keyedvectors.Vocab object at 0x7f248f030390>, 'employee': <gensim.models.keyedvectors.Vocab object at 0x7f248f030310>, 'corporation': <gensim.models.keyedvectors.Vocab object at 0x7f248f030850>, 'secret': <gensim.models.keyedvectors.Vocab object at 0x7f248f030710>, 'process': <gensim.models.keyedvectors.Vocab object at 0x7f248f030b50>, 'there': <gensim.models.keyedvectors.Vocab object at 0x7f248f030b90>, 'medical': <gensim.models.keyedvectors.Vocab object at 0x7f248f030810>, 'relationship': <gensim.models.keyedvectors.Vocab object at 0x7f248f030c50>, 'including': <gensim.models.keyedvectors.Vocab object at 0x7f248f030b10>, 'finding': <gensim.models.keyedvectors.Vocab object at 0x7f248f0307d0>, 'perfect': <gensim.models.keyedvectors.Vocab object at 0x7f248f030a90>, 'partner': <gensim.models.keyedvectors.Vocab object at 0x7f248f0308d0>, 'put': <gensim.models.keyedvectors.Vocab object at 0x7f248f0309d0>, 'hold': <gensim.models.keyedvectors.Vocab object at 0x7f248f030a10>, 'long': <gensim.models.keyedvectors.Vocab object at 0x7f248f030990>, 'term': <gensim.models.keyedvectors.Vocab object at 0x7f248f030890>, 'boyfriend': <gensim.models.keyedvectors.Vocab object at 0x7f248f030d50>, 'ben': <gensim.models.keyedvectors.Vocab object at 0x7f248f018e90>, 'form': <gensim.models.keyedvectors.Vocab object at 0x7f248f018ed0>, 'connection': <gensim.models.keyedvectors.Vocab object at 0x7f248f018f10>, 'close': <gensim.models.keyedvectors.Vocab object at 0x7f248f018f50>, 'friendship': <gensim.models.keyedvectors.Vocab object at 0x7f248f018f90>, 'leading': <gensim.models.keyedvectors.Vocab object at 0x7f248f018fd0>, 'pair': <gensim.models.keyedvectors.Vocab object at 0x7f248f022050>, 'wonder': <gensim.models.keyedvectors.Vocab object at 0x7f248f022090>, 'actually': <gensim.models.keyedvectors.Vocab object at 0x7f248f0220d0>, 'stop': <gensim.models.keyedvectors.Vocab object at 0x7f248f022110>, 'robot': <gensim.models.keyedvectors.Vocab object at 0x7f248f022150>, 'go': <gensim.models.keyedvectors.Vocab object at 0x7f248f022190>, 'defend': <gensim.models.keyedvectors.Vocab object at 0x7f248f0221d0>, 'drive': <gensim.models.keyedvectors.Vocab object at 0x7f248f022210>, 'set': <gensim.models.keyedvectors.Vocab object at 0x7f248f022250>, 'could': <gensim.models.keyedvectors.Vocab object at 0x7f248f022290>, 'two': <gensim.models.keyedvectors.Vocab object at 0x7f248f0222d0>, 'people': <gensim.models.keyedvectors.Vocab object at 0x7f248f022310>, 'day': <gensim.models.keyedvectors.Vocab object at 0x7f248f022350>, 'complete': <gensim.models.keyedvectors.Vocab object at 0x7f248f022390>, 'stranger': <gensim.models.keyedvectors.Vocab object at 0x7f248f0223d0>, 'vicious': <gensim.models.keyedvectors.Vocab object at 0x7f248f022410>, 'mean': <gensim.models.keyedvectors.Vocab object at 0x7f248f022450>, 'might': <gensim.models.keyedvectors.Vocab object at 0x7f248f022490>, 'different': <gensim.models.keyedvectors.Vocab object at 0x7f248f0224d0>, 'goal': <gensim.models.keyedvectors.Vocab object at 0x7f248f022510>, 'others': <gensim.models.keyedvectors.Vocab object at 0x7f248f022550>, 'something': <gensim.models.keyedvectors.Vocab object at 0x7f248f022590>, 'lost': <gensim.models.keyedvectors.Vocab object at 0x7f248f0225d0>, 'true': <gensim.models.keyedvectors.Vocab object at 0x7f248f022610>, 'men': <gensim.models.keyedvectors.Vocab object at 0x7f248f022650>, 'never': <gensim.models.keyedvectors.Vocab object at 0x7f248f022690>, 'met': <gensim.models.keyedvectors.Vocab object at 0x7f248f0226d0>, 'accident': <gensim.models.keyedvectors.Vocab object at 0x7f248f022710>, 'project': <gensim.models.keyedvectors.Vocab object at 0x7f248f022750>, 'married': <gensim.models.keyedvectors.Vocab object at 0x7f248f022790>, 'couple': <gensim.models.keyedvectors.Vocab object at 0x7f248f0227d0>, 'series': <gensim.models.keyedvectors.Vocab object at 0x7f248f022810>, 'front': <gensim.models.keyedvectors.Vocab object at 0x7f248f022850>, 'modern': <gensim.models.keyedvectors.Vocab object at 0x7f248f022890>, 'many': <gensim.models.keyedvectors.Vocab object at 0x7f248f0228d0>, 'far': <gensim.models.keyedvectors.Vocab object at 0x7f248f022910>, 'witch': <gensim.models.keyedvectors.Vocab object at 0x7f248f022950>, 'still': <gensim.models.keyedvectors.Vocab object at 0x7f248f022990>, 'live': <gensim.models.keyedvectors.Vocab object at 0x7f248f0229d0>, 'among': <gensim.models.keyedvectors.Vocab object at 0x7f248f022a10>, 'u': <gensim.models.keyedvectors.Vocab object at 0x7f248f022a50>, 'supernatural': <gensim.models.keyedvectors.Vocab object at 0x7f248f022a90>, 'creature': <gensim.models.keyedvectors.Vocab object at 0x7f248f022ad0>, 'black': <gensim.models.keyedvectors.Vocab object at 0x7f248f022b10>, 'human': <gensim.models.keyedvectors.Vocab object at 0x7f248f022b50>, 'race': <gensim.models.keyedvectors.Vocab object at 0x7f248f022b90>, 'army': <gensim.models.keyedvectors.Vocab object at 0x7f248f022bd0>, 'hunter': <gensim.models.keyedvectors.Vocab object at 0x7f248f022c10>, 'enemy': <gensim.models.keyedvectors.Vocab object at 0x7f248f022c50>, 'warrior': <gensim.models.keyedvectors.Vocab object at 0x7f248f022c90>, 'ago': <gensim.models.keyedvectors.Vocab object at 0x7f248f022cd0>, 'moment': <gensim.models.keyedvectors.Vocab object at 0x7f248f022d10>, 'right': <gensim.models.keyedvectors.Vocab object at 0x7f248f022d50>, 'forever': <gensim.models.keyedvectors.Vocab object at 0x7f248f022d90>, 'beloved': <gensim.models.keyedvectors.Vocab object at 0x7f248f022dd0>, 'taking': <gensim.models.keyedvectors.Vocab object at 0x7f248f022e10>, 'great': <gensim.models.keyedvectors.Vocab object at 0x7f248f022e50>, 'first': <gensim.models.keyedvectors.Vocab object at 0x7f248f022e90>, 'assassination': <gensim.models.keyedvectors.Vocab object at 0x7f248f022ed0>, 'inspector': <gensim.models.keyedvectors.Vocab object at 0x7f248f022f10>, 'lee': <gensim.models.keyedvectors.Vocab object at 0x7f248f022f50>, 'carter': <gensim.models.keyedvectors.Vocab object at 0x7f248f022f90>, 'action': <gensim.models.keyedvectors.Vocab object at 0x7f248f022fd0>, 'head': <gensim.models.keyedvectors.Vocab object at 0x7f248f037050>, 'paris': <gensim.models.keyedvectors.Vocab object at 0x7f248f037090>, 'protect': <gensim.models.keyedvectors.Vocab object at 0x7f248f0370d0>, 'french': <gensim.models.keyedvectors.Vocab object at 0x7f248f037110>, 'knowledge': <gensim.models.keyedvectors.Vocab object at 0x7f248f037150>, 'leader': <gensim.models.keyedvectors.Vocab object at 0x7f248f037190>, 'united': <gensim.models.keyedvectors.Vocab object at 0x7f248f0371d0>, 'nation': <gensim.models.keyedvectors.Vocab object at 0x7f248f037210>, 'personal': <gensim.models.keyedvectors.Vocab object at 0x7f248f037250>, 'struggle': <gensim.models.keyedvectors.Vocab object at 0x7f248f037290>, 'chinese': <gensim.models.keyedvectors.Vocab object at 0x7f248f0372d0>, 'criminal': <gensim.models.keyedvectors.Vocab object at 0x7f248f037310>, 'named': <gensim.models.keyedvectors.Vocab object at 0x7f248f037350>, 'elite': <gensim.models.keyedvectors.Vocab object at 0x7f248f037390>, 'agent': <gensim.models.keyedvectors.Vocab object at 0x7f248f0373d0>, 'rescue': <gensim.models.keyedvectors.Vocab object at 0x7f248f037410>, 'who': <gensim.models.keyedvectors.Vocab object at 0x7f248f037450>, 'middle': <gensim.models.keyedvectors.Vocab object at 0x7f248f037490>, 'russian': <gensim.models.keyedvectors.Vocab object at 0x7f248f0374d0>, 'mafia': <gensim.models.keyedvectors.Vocab object at 0x7f248f037510>, 'corrupt': <gensim.models.keyedvectors.Vocab object at 0x7f248f037550>, 'handsome': <gensim.models.keyedvectors.Vocab object at 0x7f248f037590>, 'sister': <gensim.models.keyedvectors.Vocab object at 0x7f248f0375d0>, 'brother': <gensim.models.keyedvectors.Vocab object at 0x7f248f037610>, 'girlfriend': <gensim.models.keyedvectors.Vocab object at 0x7f248f037650>, 'deadly': <gensim.models.keyedvectors.Vocab object at 0x7f248f037690>, 'sam': <gensim.models.keyedvectors.Vocab object at 0x7f248f0376d0>, 'small': <gensim.models.keyedvectors.Vocab object at 0x7f248f037710>, 'prevent': <gensim.models.keyedvectors.Vocab object at 0x7f248f037750>, 'white': <gensim.models.keyedvectors.Vocab object at 0x7f248f037790>, 'tale': <gensim.models.keyedvectors.Vocab object at 0x7f248f0377d0>, 'four': <gensim.models.keyedvectors.Vocab object at 0x7f248f037810>, 'separate': <gensim.models.keyedvectors.Vocab object at 0x7f248f037850>, 'common': <gensim.models.keyedvectors.Vocab object at 0x7f248f037890>, 'winter': <gensim.models.keyedvectors.Vocab object at 0x7f248f0378d0>, 'civil': <gensim.models.keyedvectors.Vocab object at 0x7f248f037910>, 'officer': <gensim.models.keyedvectors.Vocab object at 0x7f248f037950>, 'lead': <gensim.models.keyedvectors.Vocab object at 0x7f248f037990>, 'prisoner': <gensim.models.keyedvectors.Vocab object at 0x7f248f0379d0>, 'expedition': <gensim.models.keyedvectors.Vocab object at 0x7f248f037a10>, 'mexico': <gensim.models.keyedvectors.Vocab object at 0x7f248f037a50>, 'destroy': <gensim.models.keyedvectors.Vocab object at 0x7f248f037a90>, 'band': <gensim.models.keyedvectors.Vocab object at 0x7f248f037ad0>, 'texas': <gensim.models.keyedvectors.Vocab object at 0x7f248f037b10>, '1980s': <gensim.models.keyedvectors.Vocab object at 0x7f248f037b50>, 'country': <gensim.models.keyedvectors.Vocab object at 0x7f248f037b90>, 'since': <gensim.models.keyedvectors.Vocab object at 0x7f248f037bd0>, 'chicago': <gensim.models.keyedvectors.Vocab object at 0x7f248f037c10>, 'became': <gensim.models.keyedvectors.Vocab object at 0x7f248f037c50>, 'state': <gensim.models.keyedvectors.Vocab object at 0x7f248f037c90>, 'told': <gensim.models.keyedvectors.Vocab object at 0x7f248f037cd0>, 'made': <gensim.models.keyedvectors.Vocab object at 0x7f248f037d10>, 'jackson': <gensim.models.keyedvectors.Vocab object at 0x7f248f037d50>, 'prison': <gensim.models.keyedvectors.Vocab object at 0x7f248f037d90>, 'farm': <gensim.models.keyedvectors.Vocab object at 0x7f248f037dd0>, 'doesnt': <gensim.models.keyedvectors.Vocab object at 0x7f248f037e10>, 'play': <gensim.models.keyedvectors.Vocab object at 0x7f248f037e50>, 'rule': <gensim.models.keyedvectors.Vocab object at 0x7f248f037e90>, 'guy': <gensim.models.keyedvectors.Vocab object at 0x7f248f037ed0>, 'face': <gensim.models.keyedvectors.Vocab object at 0x7f248f037f10>, 'rebel': <gensim.models.keyedvectors.Vocab object at 0x7f248f037f50>, 'hero': <gensim.models.keyedvectors.Vocab object at 0x7f248f037f90>, 'fellow': <gensim.models.keyedvectors.Vocab object at 0x7f248f037fd0>, 'convict': <gensim.models.keyedvectors.Vocab object at 0x7f248f00e050>, 'straight': <gensim.models.keyedvectors.Vocab object at 0x7f248f00e090>, 'gay': <gensim.models.keyedvectors.Vocab object at 0x7f248f00e0d0>, 'robert': <gensim.models.keyedvectors.Vocab object at 0x7f248f00e110>, 'five': <gensim.models.keyedvectors.Vocab object at 0x7f248f00e150>, 'later': <gensim.models.keyedvectors.Vocab object at 0x7f248f00e190>, 'move': <gensim.models.keyedvectors.Vocab object at 0x7f248f00e1d0>, 'away': <gensim.models.keyedvectors.Vocab object at 0x7f248f00e210>, 'little': <gensim.models.keyedvectors.Vocab object at 0x7f248f00e250>, 'battle': <gensim.models.keyedvectors.Vocab object at 0x7f248f00e290>, 'apartment': <gensim.models.keyedvectors.Vocab object at 0x7f248f00e2d0>, 'real': <gensim.models.keyedvectors.Vocab object at 0x7f248f00e310>, 'plan': <gensim.models.keyedvectors.Vocab object at 0x7f248f00e350>, 'wedding': <gensim.models.keyedvectors.Vocab object at 0x7f248f00e390>, 'younger': <gensim.models.keyedvectors.Vocab object at 0x7f248f00e3d0>, 'traveling': <gensim.models.keyedvectors.Vocab object at 0x7f248f00e410>, 'enough': <gensim.models.keyedvectors.Vocab object at 0x7f248f00e450>, 'left': <gensim.models.keyedvectors.Vocab object at 0x7f248f00e490>, 'closer': <gensim.models.keyedvectors.Vocab object at 0x7f248f00e4d0>, 'marriage': <gensim.models.keyedvectors.Vocab object at 0x7f248f00e510>, 'happens': <gensim.models.keyedvectors.Vocab object at 0x7f248f00e550>, 'romantic': <gensim.models.keyedvectors.Vocab object at 0x7f248f00e590>, 'full': <gensim.models.keyedvectors.Vocab object at 0x7f248f00e5d0>, 'ever': <gensim.models.keyedvectors.Vocab object at 0x7f248f00e610>, 'male': <gensim.models.keyedvectors.Vocab object at 0x7f248f00e650>, 'date': <gensim.models.keyedvectors.Vocab object at 0x7f248f00e690>, 'event': <gensim.models.keyedvectors.Vocab object at 0x7f248f00e6d0>, 'romance': <gensim.models.keyedvectors.Vocab object at 0x7f248f00e710>, 'thing': <gensim.models.keyedvectors.Vocab object at 0x7f248f00e750>, 'suddenly': <gensim.models.keyedvectors.Vocab object at 0x7f248f00e790>, 'mysterious': <gensim.models.keyedvectors.Vocab object at 0x7f248f00e7d0>, 'sequel': <gensim.models.keyedvectors.Vocab object at 0x7f248f00e810>, 'animated': <gensim.models.keyedvectors.Vocab object at 0x7f248f00e850>, 'ice': <gensim.models.keyedvectors.Vocab object at 0x7f248f00e890>, 'age': <gensim.models.keyedvectors.Vocab object at 0x7f248f00e8d0>, 'disaster': <gensim.models.keyedvectors.Vocab object at 0x7f248f00e910>, 'reunite': <gensim.models.keyedvectors.Vocab object at 0x7f248f00e950>, 'beast': <gensim.models.keyedvectors.Vocab object at 0x7f248f00e990>, 'desperate': <gensim.models.keyedvectors.Vocab object at 0x7f248f00e9d0>, 'situation': <gensim.models.keyedvectors.Vocab object at 0x7f248f00ea10>, 'seek': <gensim.models.keyedvectors.Vocab object at 0x7f248f00ea50>, 'caught': <gensim.models.keyedvectors.Vocab object at 0x7f248f00ea90>, 'plot': <gensim.models.keyedvectors.Vocab object at 0x7f248f00ead0>, 'betrayal': <gensim.models.keyedvectors.Vocab object at 0x7f248f00eb10>, 'lonely': <gensim.models.keyedvectors.Vocab object at 0x7f248f00eb50>, 'obsessed': <gensim.models.keyedvectors.Vocab object at 0x7f248f00eb90>, 'captain': <gensim.models.keyedvectors.Vocab object at 0x7f248f00ebd0>, 'odds': <gensim.models.keyedvectors.Vocab object at 0x7f248f00ec10>, 'scientist': <gensim.models.keyedvectors.Vocab object at 0x7f248f00ec50>, 'entire': <gensim.models.keyedvectors.Vocab object at 0x7f248f00ec90>, 'star': <gensim.models.keyedvectors.Vocab object at 0x7f248f00ecd0>, 'system': <gensim.models.keyedvectors.Vocab object at 0x7f248f00ed10>, 'help': <gensim.models.keyedvectors.Vocab object at 0x7f248f00ed50>, 'he': <gensim.models.keyedvectors.Vocab object at 0x7f248f00ed90>, 'class': <gensim.models.keyedvectors.Vocab object at 0x7f248f00edd0>, 'three': <gensim.models.keyedvectors.Vocab object at 0x7f248f00ee10>, 'car': <gensim.models.keyedvectors.Vocab object at 0x7f248f00ee50>, 'lot': <gensim.models.keyedvectors.Vocab object at 0x7f248f00ee90>, 'johnny': <gensim.models.keyedvectors.Vocab object at 0x7f248f00eed0>, 'cabin': <gensim.models.keyedvectors.Vocab object at 0x7f248f00ef10>, 'although': <gensim.models.keyedvectors.Vocab object at 0x7f248f00ef50>, 'fight': <gensim.models.keyedvectors.Vocab object at 0x7f248f00ef90>, 'home': <gensim.models.keyedvectors.Vocab object at 0x7f248f00efd0>, 'hot': <gensim.models.keyedvectors.Vocab object at 0x7f248f00a050>, 'phone': <gensim.models.keyedvectors.Vocab object at 0x7f248f00a090>, 'ring': <gensim.models.keyedvectors.Vocab object at 0x7f248f00a0d0>, 'stay': <gensim.models.keyedvectors.Vocab object at 0x7f248f00a110>, 'whose': <gensim.models.keyedvectors.Vocab object at 0x7f248f00a150>, 'soul': <gensim.models.keyedvectors.Vocab object at 0x7f248f00a190>, 'leslie': <gensim.models.keyedvectors.Vocab object at 0x7f248f00a1d0>, 'convinces': <gensim.models.keyedvectors.Vocab object at 0x7f248f00a210>, 'america': <gensim.models.keyedvectors.Vocab object at 0x7f248f00a250>, 'professor': <gensim.models.keyedvectors.Vocab object at 0x7f248f00a290>, 'fate': <gensim.models.keyedvectors.Vocab object at 0x7f248f00a2d0>, 'vow': <gensim.models.keyedvectors.Vocab object at 0x7f248f00a310>, 'finish': <gensim.models.keyedvectors.Vocab object at 0x7f248f00a350>, 'line': <gensim.models.keyedvectors.Vocab object at 0x7f248f00a390>, 'chance': <gensim.models.keyedvectors.Vocab object at 0x7f248f00a3d0>, 'desert': <gensim.models.keyedvectors.Vocab object at 0x7f248f00a410>, 'island': <gensim.models.keyedvectors.Vocab object at 0x7f248f00a450>, 'animal': <gensim.models.keyedvectors.Vocab object at 0x7f248f00a490>, 'already': <gensim.models.keyedvectors.Vocab object at 0x7f248f00a4d0>, 'place': <gensim.models.keyedvectors.Vocab object at 0x7f248f00a510>, 'recently': <gensim.models.keyedvectors.Vocab object at 0x7f248f00a550>, 'surprise': <gensim.models.keyedvectors.Vocab object at 0x7f248f00a590>, 'bring': <gensim.models.keyedvectors.Vocab object at 0x7f248f00a5d0>, 'parent': <gensim.models.keyedvectors.Vocab object at 0x7f248f00a610>, 'follows': <gensim.models.keyedvectors.Vocab object at 0x7f248f00a650>, 'epic': <gensim.models.keyedvectors.Vocab object at 0x7f248f00a690>, 'eye': <gensim.models.keyedvectors.Vocab object at 0x7f248f00a6d0>, 'powerful': <gensim.models.keyedvectors.Vocab object at 0x7f248f00a710>, 'military': <gensim.models.keyedvectors.Vocab object at 0x7f248f00a750>, 'mystery': <gensim.models.keyedvectors.Vocab object at 0x7f248f00a790>, 'happened': <gensim.models.keyedvectors.Vocab object at 0x7f248f00a7d0>, 'week': <gensim.models.keyedvectors.Vocab object at 0x7f248f00a810>, 'following': <gensim.models.keyedvectors.Vocab object at 0x7f248f00a850>, 'order': <gensim.models.keyedvectors.Vocab object at 0x7f248f00a890>, 'south': <gensim.models.keyedvectors.Vocab object at 0x7f248f00a8d0>, 'los': <gensim.models.keyedvectors.Vocab object at 0x7f248f00a910>, 'angeles': <gensim.models.keyedvectors.Vocab object at 0x7f248f00a950>, 'feel': <gensim.models.keyedvectors.Vocab object at 0x7f248f00a990>, 'innocent': <gensim.models.keyedvectors.Vocab object at 0x7f248f00a9d0>, 'invite': <gensim.models.keyedvectors.Vocab object at 0x7f248f00aa10>, 'village': <gensim.models.keyedvectors.Vocab object at 0x7f248f00aa50>, 'ordinary': <gensim.models.keyedvectors.Vocab object at 0x7f248f00aa90>, 'single': <gensim.models.keyedvectors.Vocab object at 0x7f248f00aad0>, 'work': <gensim.models.keyedvectors.Vocab object at 0x7f248f00ab10>, 'game': <gensim.models.keyedvectors.Vocab object at 0x7f248f00ab50>, 'passionate': <gensim.models.keyedvectors.Vocab object at 0x7f248f00ab90>, 'study': <gensim.models.keyedvectors.Vocab object at 0x7f248f00abd0>, 'count': <gensim.models.keyedvectors.Vocab object at 0x7f248f00ac10>, 'dr': <gensim.models.keyedvectors.Vocab object at 0x7f248f00ac50>, 'without': <gensim.models.keyedvectors.Vocab object at 0x7f248f00ac90>, 'threat': <gensim.models.keyedvectors.Vocab object at 0x7f248f00acd0>, 'mr': <gensim.models.keyedvectors.Vocab object at 0x7f248f00ad10>, 'duo': <gensim.models.keyedvectors.Vocab object at 0x7f248f00ad50>, 'would': <gensim.models.keyedvectors.Vocab object at 0x7f248f00ad90>, 'escaping': <gensim.models.keyedvectors.Vocab object at 0x7f248f00add0>, 'reality': <gensim.models.keyedvectors.Vocab object at 0x7f248f00ae10>, 'musical': <gensim.models.keyedvectors.Vocab object at 0x7f248f00ae50>, 'answer': <gensim.models.keyedvectors.Vocab object at 0x7f248f00ae90>, 'question': <gensim.models.keyedvectors.Vocab object at 0x7f248f00aed0>, 'eccentric': <gensim.models.keyedvectors.Vocab object at 0x7f248f00af10>, 'teacher': <gensim.models.keyedvectors.Vocab object at 0x7f248f00af50>, 'cast': <gensim.models.keyedvectors.Vocab object at 0x7f248f00af90>, 'dream': <gensim.models.keyedvectors.Vocab object at 0x7f248f00afd0>, 'stumble': <gensim.models.keyedvectors.Vocab object at 0x7f248f007050>, 'within': <gensim.models.keyedvectors.Vocab object at 0x7f248f007090>, 'magical': <gensim.models.keyedvectors.Vocab object at 0x7f248f0070d0>, 'interest': <gensim.models.keyedvectors.Vocab object at 0x7f248f007110>, 'bond': <gensim.models.keyedvectors.Vocab object at 0x7f248f007150>, 'hope': <gensim.models.keyedvectors.Vocab object at 0x7f248f007190>, 'open': <gensim.models.keyedvectors.Vocab object at 0x7f248f0071d0>, 'private': <gensim.models.keyedvectors.Vocab object at 0x7f248f007210>, 'investigation': <gensim.models.keyedvectors.Vocab object at 0x7f248f007250>, 'artist': <gensim.models.keyedvectors.Vocab object at 0x7f248f007290>, 'law': <gensim.models.keyedvectors.Vocab object at 0x7f248f0072d0>, 'cat': <gensim.models.keyedvectors.Vocab object at 0x7f248f007310>, 'diamond': <gensim.models.keyedvectors.Vocab object at 0x7f248f007350>, 'heist': <gensim.models.keyedvectors.Vocab object at 0x7f248f007390>, 'hiding': <gensim.models.keyedvectors.Vocab object at 0x7f248f0073d0>, 'thief': <gensim.models.keyedvectors.Vocab object at 0x7f248f007410>, 'van': <gensim.models.keyedvectors.Vocab object at 0x7f248f007450>, 'much': <gensim.models.keyedvectors.Vocab object at 0x7f248f007490>, 'discovers': <gensim.models.keyedvectors.Vocab object at 0x7f248f0074d0>, 'million': <gensim.models.keyedvectors.Vocab object at 0x7f248f007510>, 'unfortunately': <gensim.models.keyedvectors.Vocab object at 0x7f248f007550>, 'le': <gensim.models.keyedvectors.Vocab object at 0x7f248f007590>, 'use': <gensim.models.keyedvectors.Vocab object at 0x7f248f0075d0>, 'winning': <gensim.models.keyedvectors.Vocab object at 0x7f248f007610>, 'sends': <gensim.models.keyedvectors.Vocab object at 0x7f248f007650>, 'dangerous': <gensim.models.keyedvectors.Vocab object at 0x7f248f007690>, 'career': <gensim.models.keyedvectors.Vocab object at 0x7f248f0076d0>, 'act': <gensim.models.keyedvectors.Vocab object at 0x7f248f007710>, 'problem': <gensim.models.keyedvectors.Vocab object at 0x7f248f007750>, 'female': <gensim.models.keyedvectors.Vocab object at 0x7f248f007790>, 'homicide': <gensim.models.keyedvectors.Vocab object at 0x7f248f0077d0>, 'witness': <gensim.models.keyedvectors.Vocab object at 0x7f248f007810>, 'serial': <gensim.models.keyedvectors.Vocab object at 0x7f248f007850>, 'killer': <gensim.models.keyedvectors.Vocab object at 0x7f248f007890>, 'big': <gensim.models.keyedvectors.Vocab object at 0x7f248f0078d0>, 'trouble': <gensim.models.keyedvectors.Vocab object at 0x7f248f007910>, 'road': <gensim.models.keyedvectors.Vocab object at 0x7f248f007950>, 'shocking': <gensim.models.keyedvectors.Vocab object at 0x7f248f007990>, 'beyond': <gensim.models.keyedvectors.Vocab object at 0x7f248f0079d0>, 'ship': <gensim.models.keyedvectors.Vocab object at 0x7f248f007a10>, 'bound': <gensim.models.keyedvectors.Vocab object at 0x7f248f007a50>, 'ultimate': <gensim.models.keyedvectors.Vocab object at 0x7f248f007a90>, 'confront': <gensim.models.keyedvectors.Vocab object at 0x7f248f007ad0>, 'aging': <gensim.models.keyedvectors.Vocab object at 0x7f248f007b10>, 'trip': <gensim.models.keyedvectors.Vocab object at 0x7f248f007b50>, 'estranged': <gensim.models.keyedvectors.Vocab object at 0x7f248f007b90>, 'son': <gensim.models.keyedvectors.Vocab object at 0x7f248f007bd0>, 'claim': <gensim.models.keyedvectors.Vocab object at 0x7f248f007c10>, 'belief': <gensim.models.keyedvectors.Vocab object at 0x7f248f007c50>, 'underground': <gensim.models.keyedvectors.Vocab object at 0x7f248f007c90>, 'sent': <gensim.models.keyedvectors.Vocab object at 0x7f248f007cd0>, 'independent': <gensim.models.keyedvectors.Vocab object at 0x7f248f007d10>, 'china': <gensim.models.keyedvectors.Vocab object at 0x7f248f007d50>, 'lawyer': <gensim.models.keyedvectors.Vocab object at 0x7f248f007d90>, 'agrees': <gensim.models.keyedvectors.Vocab object at 0x7f248f007dd0>, 'tom': <gensim.models.keyedvectors.Vocab object at 0x7f248f007e10>, 'accused': <gensim.models.keyedvectors.Vocab object at 0x7f248f007e50>, 'trial': <gensim.models.keyedvectors.Vocab object at 0x7f248f007e90>, 'surrounding': <gensim.models.keyedvectors.Vocab object at 0x7f248f007ed0>, 'seen': <gensim.models.keyedvectors.Vocab object at 0x7f248f007f10>, 'court': <gensim.models.keyedvectors.Vocab object at 0x7f248f007f50>, 'older': <gensim.models.keyedvectors.Vocab object at 0x7f248f007f90>, 'dog': <gensim.models.keyedvectors.Vocab object at 0x7f248f007fd0>, 'especially': <gensim.models.keyedvectors.Vocab object at 0x7f248f005050>, 'avoid': <gensim.models.keyedvectors.Vocab object at 0x7f248f005090>, 'tokyo': <gensim.models.keyedvectors.Vocab object at 0x7f248f0050d0>, 'racing': <gensim.models.keyedvectors.Vocab object at 0x7f248f005110>, 'veteran': <gensim.models.keyedvectors.Vocab object at 0x7f248f005150>, 'future': <gensim.models.keyedvectors.Vocab object at 0x7f248f005190>, 'based': <gensim.models.keyedvectors.Vocab object at 0x7f248f0051d0>, 'adventure': <gensim.models.keyedvectors.Vocab object at 0x7f248f005210>, 'early': <gensim.models.keyedvectors.Vocab object at 0x7f248f005250>, 'wish': <gensim.models.keyedvectors.Vocab object at 0x7f248f005290>, 'student': <gensim.models.keyedvectors.Vocab object at 0x7f248f0052d0>, 'film': <gensim.models.keyedvectors.Vocab object at 0x7f248f005310>, 'academy': <gensim.models.keyedvectors.Vocab object at 0x7f248f005350>, 'campaign': <gensim.models.keyedvectors.Vocab object at 0x7f248f005390>, 'television': <gensim.models.keyedvectors.Vocab object at 0x7f248f0053d0>, 'song': <gensim.models.keyedvectors.Vocab object at 0x7f248f005410>, 'believe': <gensim.models.keyedvectors.Vocab object at 0x7f248f005450>, 'drama': <gensim.models.keyedvectors.Vocab object at 0x7f248f005490>, 'land': <gensim.models.keyedvectors.Vocab object at 0x7f248f0054d0>, 'crosscountry': <gensim.models.keyedvectors.Vocab object at 0x7f248f005510>, 'california': <gensim.models.keyedvectors.Vocab object at 0x7f248f005550>, 'teenager': <gensim.models.keyedvectors.Vocab object at 0x7f248f005590>, 'suspect': <gensim.models.keyedvectors.Vocab object at 0x7f248f0055d0>, 'vampire': <gensim.models.keyedvectors.Vocab object at 0x7f248f005610>, 'unable': <gensim.models.keyedvectors.Vocab object at 0x7f248f005650>, 'anyone': <gensim.models.keyedvectors.Vocab object at 0x7f248f005690>, 'classic': <gensim.models.keyedvectors.Vocab object at 0x7f248f0056d0>, 'view': <gensim.models.keyedvectors.Vocab object at 0x7f248f005710>, 'attention': <gensim.models.keyedvectors.Vocab object at 0x7f248f005750>, 'aspiring': <gensim.models.keyedvectors.Vocab object at 0x7f248f005790>, 'meanwhile': <gensim.models.keyedvectors.Vocab object at 0x7f248f0057d0>, 'businessman': <gensim.models.keyedvectors.Vocab object at 0x7f248f005810>, 'prove': <gensim.models.keyedvectors.Vocab object at 0x7f248f005850>, 'business': <gensim.models.keyedvectors.Vocab object at 0x7f248f005890>, 'collapse': <gensim.models.keyedvectors.Vocab object at 0x7f248f0058d0>, 'someone': <gensim.models.keyedvectors.Vocab object at 0x7f248f005910>, 'money': <gensim.models.keyedvectors.Vocab object at 0x7f248f005950>, 'club': <gensim.models.keyedvectors.Vocab object at 0x7f248f005990>, 'ambitious': <gensim.models.keyedvectors.Vocab object at 0x7f248f0059d0>, 'danny': <gensim.models.keyedvectors.Vocab object at 0x7f248f005a10>, 'win': <gensim.models.keyedvectors.Vocab object at 0x7f248f005a50>, 'conspiracy': <gensim.models.keyedvectors.Vocab object at 0x7f248f005a90>, 'involving': <gensim.models.keyedvectors.Vocab object at 0x7f248f005ad0>, 'local': <gensim.models.keyedvectors.Vocab object at 0x7f248f005b10>, 'accompanied': <gensim.models.keyedvectors.Vocab object at 0x7f248f005b50>, 'evidence': <gensim.models.keyedvectors.Vocab object at 0x7f248f005b90>, 'zombie': <gensim.models.keyedvectors.Vocab object at 0x7f248f005bd0>, 'robbery': <gensim.models.keyedvectors.Vocab object at 0x7f248f005c10>, 'cause': <gensim.models.keyedvectors.Vocab object at 0x7f248f005c50>, 'sell': <gensim.models.keyedvectors.Vocab object at 0x7f248f005c90>, 'store': <gensim.models.keyedvectors.Vocab object at 0x7f248f005cd0>, 'wealthy': <gensim.models.keyedvectors.Vocab object at 0x7f248f005d10>, 'ray': <gensim.models.keyedvectors.Vocab object at 0x7f248f005d50>, 'struggling': <gensim.models.keyedvectors.Vocab object at 0x7f248f005d90>, 'eventually': <gensim.models.keyedvectors.Vocab object at 0x7f248f005dd0>, 'realizes': <gensim.models.keyedvectors.Vocab object at 0x7f248f005e10>, 'choice': <gensim.models.keyedvectors.Vocab object at 0x7f248f005e50>, 'dark': <gensim.models.keyedvectors.Vocab object at 0x7f248f005e90>, 'investigate': <gensim.models.keyedvectors.Vocab object at 0x7f248f005ed0>, 'us': <gensim.models.keyedvectors.Vocab object at 0x7f248f005f10>, 'discovery': <gensim.models.keyedvectors.Vocab object at 0x7f248f005f50>, 'crash': <gensim.models.keyedvectors.Vocab object at 0x7f248f005f90>, 'cannot': <gensim.models.keyedvectors.Vocab object at 0x7f248f005fd0>, 'computer': <gensim.models.keyedvectors.Vocab object at 0x7f248cc2d050>, 'force': <gensim.models.keyedvectors.Vocab object at 0x7f248cc2d090>, 'growing': <gensim.models.keyedvectors.Vocab object at 0x7f248cc2d0d0>, 'global': <gensim.models.keyedvectors.Vocab object at 0x7f248cc2d110>, 'seeking': <gensim.models.keyedvectors.Vocab object at 0x7f248cc2d150>, 'several': <gensim.models.keyedvectors.Vocab object at 0x7f248cc2d190>, 'david': <gensim.models.keyedvectors.Vocab object at 0x7f248cc2d1d0>, 'sarah': <gensim.models.keyedvectors.Vocab object at 0x7f248cc2d210>, 'uncle': <gensim.models.keyedvectors.Vocab object at 0x7f248cc2d250>, 'building': <gensim.models.keyedvectors.Vocab object at 0x7f248cc2d290>, 'may': <gensim.models.keyedvectors.Vocab object at 0x7f248cc2d2d0>, 'embark': <gensim.models.keyedvectors.Vocab object at 0x7f248cc2d310>, 'nature': <gensim.models.keyedvectors.Vocab object at 0x7f248cc2d350>, 'come': <gensim.models.keyedvectors.Vocab object at 0x7f248cc2d390>, 'leave': <gensim.models.keyedvectors.Vocab object at 0x7f248cc2d3d0>, 'faced': <gensim.models.keyedvectors.Vocab object at 0x7f248cc2d410>, 'task': <gensim.models.keyedvectors.Vocab object at 0x7f248cc2d450>, 'care': <gensim.models.keyedvectors.Vocab object at 0x7f248cc2d490>, 'hong': <gensim.models.keyedvectors.Vocab object at 0x7f248cc2d4d0>, 'kong': <gensim.models.keyedvectors.Vocab object at 0x7f248cc2d510>, 'visit': <gensim.models.keyedvectors.Vocab object at 0x7f248cc2d550>, 'run': <gensim.models.keyedvectors.Vocab object at 0x7f248cc2d590>, 'offer': <gensim.models.keyedvectors.Vocab object at 0x7f248cc2d5d0>, 'befriends': <gensim.models.keyedvectors.Vocab object at 0x7f248cc2d610>, 'neighbor': <gensim.models.keyedvectors.Vocab object at 0x7f248cc2d650>, 'kid': <gensim.models.keyedvectors.Vocab object at 0x7f248cc2d690>, 'neighborhood': <gensim.models.keyedvectors.Vocab object at 0x7f248cc2d6d0>, 'thug': <gensim.models.keyedvectors.Vocab object at 0x7f248cc2d710>, 'account': <gensim.models.keyedvectors.Vocab object at 0x7f248cc2d750>, 'nazi': <gensim.models.keyedvectors.Vocab object at 0x7f248cc2d790>, 'thus': <gensim.models.keyedvectors.Vocab object at 0x7f248cc2d7d0>, 'emotion': <gensim.models.keyedvectors.Vocab object at 0x7f248cc2d810>, 'appears': <gensim.models.keyedvectors.Vocab object at 0x7f248cc2d850>, 'deal': <gensim.models.keyedvectors.Vocab object at 0x7f248cc2d890>, 'assassin': <gensim.models.keyedvectors.Vocab object at 0x7f248cc2d8d0>, 'bill': <gensim.models.keyedvectors.Vocab object at 0x7f248cc2d910>, 'vengeance': <gensim.models.keyedvectors.Vocab object at 0x7f248cc2d950>, 'hunt': <gensim.models.keyedvectors.Vocab object at 0x7f248cc2d990>, 'affair': <gensim.models.keyedvectors.Vocab object at 0x7f248cc2d9d0>, 'bobby': <gensim.models.keyedvectors.Vocab object at 0x7f248cc2da10>, 'led': <gensim.models.keyedvectors.Vocab object at 0x7f248cc2da50>, 'strike': <gensim.models.keyedvectors.Vocab object at 0x7f248cc2da90>, 'political': <gensim.models.keyedvectors.Vocab object at 0x7f248cc2dad0>, 'six': <gensim.models.keyedvectors.Vocab object at 0x7f248cc2db10>, 'impossible': <gensim.models.keyedvectors.Vocab object at 0x7f248cc2db50>, 'trying': <gensim.models.keyedvectors.Vocab object at 0x7f248cc2db90>, 'making': <gensim.models.keyedvectors.Vocab object at 0x7f248cc2dbd0>, 'better': <gensim.models.keyedvectors.Vocab object at 0x7f248cc2dc10>, 'quickly': <gensim.models.keyedvectors.Vocab object at 0x7f248cc2dc50>, 'wrong': <gensim.models.keyedvectors.Vocab object at 0x7f248cc2dc90>, 'identity': <gensim.models.keyedvectors.Vocab object at 0x7f248cc2dcd0>, 'mob': <gensim.models.keyedvectors.Vocab object at 0x7f248cc2dd10>, 'abandoned': <gensim.models.keyedvectors.Vocab object at 0x7f248cc2dd50>, 'power': <gensim.models.keyedvectors.Vocab object at 0x7f248cc2dd90>, 'celebrity': <gensim.models.keyedvectors.Vocab object at 0x7f248cc2ddd0>, 'like': <gensim.models.keyedvectors.Vocab object at 0x7f248cc2de10>, 'max': <gensim.models.keyedvectors.Vocab object at 0x7f248cc2de50>, 'worker': <gensim.models.keyedvectors.Vocab object at 0x7f248cc2de90>, 'beautiful': <gensim.models.keyedvectors.Vocab object at 0x7f248cc2ded0>, 'famous': <gensim.models.keyedvectors.Vocab object at 0x7f248cc2df10>, 'step': <gensim.models.keyedvectors.Vocab object at 0x7f248cc2df50>, 'culture': <gensim.models.keyedvectors.Vocab object at 0x7f248cc2df90>, 'book': <gensim.models.keyedvectors.Vocab object at 0x7f248cc2dfd0>, 'number': <gensim.models.keyedvectors.Vocab object at 0x7f248cc30050>, 'undercover': <gensim.models.keyedvectors.Vocab object at 0x7f248cc30090>, 'operation': <gensim.models.keyedvectors.Vocab object at 0x7f248cc300d0>, 'sinister': <gensim.models.keyedvectors.Vocab object at 0x7f248cc30110>, 'scene': <gensim.models.keyedvectors.Vocab object at 0x7f248cc30150>, 'university': <gensim.models.keyedvectors.Vocab object at 0x7f248cc30190>, 'finally': <gensim.models.keyedvectors.Vocab object at 0x7f248cc301d0>, 'becoming': <gensim.models.keyedvectors.Vocab object at 0x7f248cc30210>, 'asks': <gensim.models.keyedvectors.Vocab object at 0x7f248cc30250>, 'grows': <gensim.models.keyedvectors.Vocab object at 0x7f248cc30290>, 'able': <gensim.models.keyedvectors.Vocab object at 0x7f248cc302d0>, 'know': <gensim.models.keyedvectors.Vocab object at 0x7f248cc30310>, 'pull': <gensim.models.keyedvectors.Vocab object at 0x7f248cc30350>, 'chief': <gensim.models.keyedvectors.Vocab object at 0x7f248cc30390>, 'though': <gensim.models.keyedvectors.Vocab object at 0x7f248cc303d0>, 'bank': <gensim.models.keyedvectors.Vocab object at 0x7f248cc30410>, 'public': <gensim.models.keyedvectors.Vocab object at 0x7f248cc30450>, 'part': <gensim.models.keyedvectors.Vocab object at 0x7f248cc30490>, 'detail': <gensim.models.keyedvectors.Vocab object at 0x7f248cc304d0>, 'look': <gensim.models.keyedvectors.Vocab object at 0x7f248cc30510>, 'facing': <gensim.models.keyedvectors.Vocab object at 0x7f248cc30550>, 'education': <gensim.models.keyedvectors.Vocab object at 0x7f248cc30590>, 'coach': <gensim.models.keyedvectors.Vocab object at 0x7f248cc305d0>, 'football': <gensim.models.keyedvectors.Vocab object at 0x7f248cc30610>, 'training': <gensim.models.keyedvectors.Vocab object at 0x7f248cc30650>, 'free': <gensim.models.keyedvectors.Vocab object at 0x7f248cc30690>, 'field': <gensim.models.keyedvectors.Vocab object at 0x7f248cc306d0>, 'lord': <gensim.models.keyedvectors.Vocab object at 0x7f248cc30710>, 'role': <gensim.models.keyedvectors.Vocab object at 0x7f248cc30750>, 'justice': <gensim.models.keyedvectors.Vocab object at 0x7f248cc30790>, 'england': <gensim.models.keyedvectors.Vocab object at 0x7f248cc307d0>, 'track': <gensim.models.keyedvectors.Vocab object at 0x7f248cc30810>, 'corporate': <gensim.models.keyedvectors.Vocab object at 0x7f248cc30850>, 'success': <gensim.models.keyedvectors.Vocab object at 0x7f248cc30890>, 'body': <gensim.models.keyedvectors.Vocab object at 0x7f248cc308d0>, 'company': <gensim.models.keyedvectors.Vocab object at 0x7f248cc30910>, 'develop': <gensim.models.keyedvectors.Vocab object at 0x7f248cc30950>, 'community': <gensim.models.keyedvectors.Vocab object at 0x7f248cc30990>, 'unlikely': <gensim.models.keyedvectors.Vocab object at 0x7f248cc309d0>, 'ally': <gensim.models.keyedvectors.Vocab object at 0x7f248cc30a10>, 'childhood': <gensim.models.keyedvectors.Vocab object at 0x7f248cc30a50>, 'william': <gensim.models.keyedvectors.Vocab object at 0x7f248cc30a90>, 'english': <gensim.models.keyedvectors.Vocab object at 0x7f248cc30ad0>, 'soldier': <gensim.models.keyedvectors.Vocab object at 0x7f248cc30b10>, 'rise': <gensim.models.keyedvectors.Vocab object at 0x7f248cc30b50>, 'sir': <gensim.models.keyedvectors.Vocab object at 0x7f248cc30b90>, 'successful': <gensim.models.keyedvectors.Vocab object at 0x7f248cc30bd0>, 'loving': <gensim.models.keyedvectors.Vocab object at 0x7f248cc30c10>, 'lady': <gensim.models.keyedvectors.Vocab object at 0x7f248cc30c50>, 'old': <gensim.models.keyedvectors.Vocab object at 0x7f248cc30c90>, 'whole': <gensim.models.keyedvectors.Vocab object at 0x7f248cc30cd0>, 'exotic': <gensim.models.keyedvectors.Vocab object at 0x7f248cc30d10>, 'kingdom': <gensim.models.keyedvectors.Vocab object at 0x7f248cc30d50>, 'native': <gensim.models.keyedvectors.Vocab object at 0x7f248cc30d90>, 'instead': <gensim.models.keyedvectors.Vocab object at 0x7f248cc30dd0>, 'tragedy': <gensim.models.keyedvectors.Vocab object at 0x7f248cc30e10>, 'theyve': <gensim.models.keyedvectors.Vocab object at 0x7f248cc30e50>, 'kidnapped': <gensim.models.keyedvectors.Vocab object at 0x7f248cc30e90>, 'learn': <gensim.models.keyedvectors.Vocab object at 0x7f248cc30ed0>, 'colleague': <gensim.models.keyedvectors.Vocab object at 0x7f248cc30f10>, 'name': <gensim.models.keyedvectors.Vocab object at 0x7f248cc30f50>, 'interview': <gensim.models.keyedvectors.Vocab object at 0x7f248cc30f90>, 'encounter': <gensim.models.keyedvectors.Vocab object at 0x7f248cc30fd0>, 'forced': <gensim.models.keyedvectors.Vocab object at 0x7f248cc33050>, 'alive': <gensim.models.keyedvectors.Vocab object at 0x7f248cc33090>, 'storm': <gensim.models.keyedvectors.Vocab object at 0x7f248cc330d0>, 'call': <gensim.models.keyedvectors.Vocab object at 0x7f248cc33110>, 'second': <gensim.models.keyedvectors.Vocab object at 0x7f248cc33150>, 'keep': <gensim.models.keyedvectors.Vocab object at 0x7f248cc33190>, 'falling': <gensim.models.keyedvectors.Vocab object at 0x7f248cc331d0>, 'hand': <gensim.models.keyedvectors.Vocab object at 0x7f248cc33210>, 'destroyed': <gensim.models.keyedvectors.Vocab object at 0x7f248cc33250>, 'organization': <gensim.models.keyedvectors.Vocab object at 0x7f248cc33290>, 'north': <gensim.models.keyedvectors.Vocab object at 0x7f248cc332d0>, 'potential': <gensim.models.keyedvectors.Vocab object at 0x7f248cc33310>, 'tragic': <gensim.models.keyedvectors.Vocab object at 0x7f248cc33350>, 'history': <gensim.models.keyedvectors.Vocab object at 0x7f248cc33390>, 'ready': <gensim.models.keyedvectors.Vocab object at 0x7f248cc333d0>, 'safety': <gensim.models.keyedvectors.Vocab object at 0x7f248cc33410>, 'cross': <gensim.models.keyedvectors.Vocab object at 0x7f248cc33450>, 'path': <gensim.models.keyedvectors.Vocab object at 0x7f248cc33490>, 'known': <gensim.models.keyedvectors.Vocab object at 0x7f248cc334d0>, 'need': <gensim.models.keyedvectors.Vocab object at 0x7f248cc33510>, 'idea': <gensim.models.keyedvectors.Vocab object at 0x7f248cc33550>, 'leaf': <gensim.models.keyedvectors.Vocab object at 0x7f248cc33590>, 'bizarre': <gensim.models.keyedvectors.Vocab object at 0x7f248cc335d0>, 'reporter': <gensim.models.keyedvectors.Vocab object at 0x7f248cc33610>, 'video': <gensim.models.keyedvectors.Vocab object at 0x7f248cc33650>, 'vacation': <gensim.models.keyedvectors.Vocab object at 0x7f248cc33690>, 'responsible': <gensim.models.keyedvectors.Vocab object at 0x7f248cc336d0>, 'onto': <gensim.models.keyedvectors.Vocab object at 0x7f248cc33710>, 'orphan': <gensim.models.keyedvectors.Vocab object at 0x7f248cc33750>, 'jane': <gensim.models.keyedvectors.Vocab object at 0x7f248cc33790>, 'decision': <gensim.models.keyedvectors.Vocab object at 0x7f248cc337d0>, 'difficult': <gensim.models.keyedvectors.Vocab object at 0x7f248cc33810>, 'uncover': <gensim.models.keyedvectors.Vocab object at 0x7f248cc33850>, 'trail': <gensim.models.keyedvectors.Vocab object at 0x7f248cc33890>, 'joseph': <gensim.models.keyedvectors.Vocab object at 0x7f248cc338d0>, 'writer': <gensim.models.keyedvectors.Vocab object at 0x7f248cc33910>, 'figure': <gensim.models.keyedvectors.Vocab object at 0x7f248cc33950>, 'british': <gensim.models.keyedvectors.Vocab object at 0x7f248cc33990>, 'journalist': <gensim.models.keyedvectors.Vocab object at 0x7f248cc339d0>, 'george': <gensim.models.keyedvectors.Vocab object at 0x7f248cc33a10>, 'australian': <gensim.models.keyedvectors.Vocab object at 0x7f248cc33a50>, 'japanese': <gensim.models.keyedvectors.Vocab object at 0x7f248cc33a90>, 'build': <gensim.models.keyedvectors.Vocab object at 0x7f248cc33ad0>, 'shop': <gensim.models.keyedvectors.Vocab object at 0x7f248cc33b10>, 'stolen': <gensim.models.keyedvectors.Vocab object at 0x7f248cc33b50>, 'la': <gensim.models.keyedvectors.Vocab object at 0x7f248cc33b90>, 'vega': <gensim.models.keyedvectors.Vocab object at 0x7f248cc33bd0>, 'prostitute': <gensim.models.keyedvectors.Vocab object at 0x7f248cc33c10>, 'cant': <gensim.models.keyedvectors.Vocab object at 0x7f248cc33c50>, 'poor': <gensim.models.keyedvectors.Vocab object at 0x7f248cc33c90>, 'really': <gensim.models.keyedvectors.Vocab object at 0x7f248cc33cd0>, 'trapped': <gensim.models.keyedvectors.Vocab object at 0x7f248cc33d10>, 'bus': <gensim.models.keyedvectors.Vocab object at 0x7f248cc33d50>, 'character': <gensim.models.keyedvectors.Vocab object at 0x7f248cc33d90>, 'hollywood': <gensim.models.keyedvectors.Vocab object at 0x7f248cc33dd0>, 'actor': <gensim.models.keyedvectors.Vocab object at 0x7f248cc33e10>, 'tv': <gensim.models.keyedvectors.Vocab object at 0x7f248cc33e50>, 'greatest': <gensim.models.keyedvectors.Vocab object at 0x7f248cc33e90>, 'violent': <gensim.models.keyedvectors.Vocab object at 0x7f248cc33ed0>, 'looking': <gensim.models.keyedvectors.Vocab object at 0x7f248cc33f10>, 'diane': <gensim.models.keyedvectors.Vocab object at 0x7f248cc33f50>, 'suffering': <gensim.models.keyedvectors.Vocab object at 0x7f248cc33f90>, 'losing': <gensim.models.keyedvectors.Vocab object at 0x7f248cc33fd0>, 'hospital': <gensim.models.keyedvectors.Vocab object at 0x7f248cc37050>, 'next': <gensim.models.keyedvectors.Vocab object at 0x7f248cc37090>, 'documentary': <gensim.models.keyedvectors.Vocab object at 0x7f248cc370d0>, 'ocean': <gensim.models.keyedvectors.Vocab object at 0x7f248cc37110>, 'peter': <gensim.models.keyedvectors.Vocab object at 0x7f248cc37150>, 'present': <gensim.models.keyedvectors.Vocab object at 0x7f248cc37190>, 'ride': <gensim.models.keyedvectors.Vocab object at 0x7f248cc371d0>, 'havoc': <gensim.models.keyedvectors.Vocab object at 0x7f248cc37210>, 'wild': <gensim.models.keyedvectors.Vocab object at 0x7f248cc37250>, 'pal': <gensim.models.keyedvectors.Vocab object at 0x7f248cc37290>, 'president': <gensim.models.keyedvectors.Vocab object at 0x7f248cc372d0>, 'throw': <gensim.models.keyedvectors.Vocab object at 0x7f248cc37310>, 'various': <gensim.models.keyedvectors.Vocab object at 0x7f248cc37350>, 'stranded': <gensim.models.keyedvectors.Vocab object at 0x7f248cc37390>, 'jean': <gensim.models.keyedvectors.Vocab object at 0x7f248cc373d0>, 'nemesis': <gensim.models.keyedvectors.Vocab object at 0x7f248cc37410>, 'scheme': <gensim.models.keyedvectors.Vocab object at 0x7f248cc37450>, 'happiness': <gensim.models.keyedvectors.Vocab object at 0x7f248cc37490>, 'master': <gensim.models.keyedvectors.Vocab object at 0x7f248cc374d0>, 'assistant': <gensim.models.keyedvectors.Vocab object at 0x7f248cc37510>, 'shes': <gensim.models.keyedvectors.Vocab object at 0x7f248cc37550>, 'hometown': <gensim.models.keyedvectors.Vocab object at 0x7f248cc37590>, 'threatens': <gensim.models.keyedvectors.Vocab object at 0x7f248cc375d0>, 'short': <gensim.models.keyedvectors.Vocab object at 0x7f248cc37610>, 'sex': <gensim.models.keyedvectors.Vocab object at 0x7f248cc37650>, 'retrieve': <gensim.models.keyedvectors.Vocab object at 0x7f248cc37690>, 'blind': <gensim.models.keyedvectors.Vocab object at 0x7f248cc376d0>, 'obsession': <gensim.models.keyedvectors.Vocab object at 0x7f248cc37710>, 'redemption': <gensim.models.keyedvectors.Vocab object at 0x7f248cc37750>, 'award': <gensim.models.keyedvectors.Vocab object at 0x7f248cc37790>, 'jewel': <gensim.models.keyedvectors.Vocab object at 0x7f248cc377d0>, 'failed': <gensim.models.keyedvectors.Vocab object at 0x7f248cc37810>, 'kill': <gensim.models.keyedvectors.Vocab object at 0x7f248cc37850>, 'train': <gensim.models.keyedvectors.Vocab object at 0x7f248cc37890>, 'walk': <gensim.models.keyedvectors.Vocab object at 0x7f248cc378d0>, 'giant': <gensim.models.keyedvectors.Vocab object at 0x7f248cc37910>, 'doctor': <gensim.models.keyedvectors.Vocab object at 0x7f248cc37950>, 'expert': <gensim.models.keyedvectors.Vocab object at 0x7f248cc37990>, 'water': <gensim.models.keyedvectors.Vocab object at 0x7f248cc379d0>, 'indian': <gensim.models.keyedvectors.Vocab object at 0x7f248cc37a10>, 'brought': <gensim.models.keyedvectors.Vocab object at 0x7f248cc37a50>, 'unique': <gensim.models.keyedvectors.Vocab object at 0x7f248cc37a90>, 'west': <gensim.models.keyedvectors.Vocab object at 0x7f248cc37ad0>, 'anna': <gensim.models.keyedvectors.Vocab object at 0x7f248cc37b10>, 'drawn': <gensim.models.keyedvectors.Vocab object at 0x7f248cc37b50>, 'fantasy': <gensim.models.keyedvectors.Vocab object at 0x7f248cc37b90>, 'eddie': <gensim.models.keyedvectors.Vocab object at 0x7f248cc37bd0>, 'oscar': <gensim.models.keyedvectors.Vocab object at 0x7f248cc37c10>, 'citizen': <gensim.models.keyedvectors.Vocab object at 0x7f248cc37c50>, 'street': <gensim.models.keyedvectors.Vocab object at 0x7f248cc37c90>, 'ii': <gensim.models.keyedvectors.Vocab object at 0x7f248cc37cd0>, 'nuclear': <gensim.models.keyedvectors.Vocab object at 0x7f248cc37d10>, 'intelligence': <gensim.models.keyedvectors.Vocab object at 0x7f248cc37d50>, 'danger': <gensim.models.keyedvectors.Vocab object at 0x7f248cc37d90>, 'survive': <gensim.models.keyedvectors.Vocab object at 0x7f248cc37dd0>, 'michael': <gensim.models.keyedvectors.Vocab object at 0x7f248cc37e10>, 'compete': <gensim.models.keyedvectors.Vocab object at 0x7f248cc37e50>, 'taken': <gensim.models.keyedvectors.Vocab object at 0x7f248cc37e90>, 'notorious': <gensim.models.keyedvectors.Vocab object at 0x7f248cc37ed0>, 'letter': <gensim.models.keyedvectors.Vocab object at 0x7f248cc37f10>, 'holiday': <gensim.models.keyedvectors.Vocab object at 0x7f248cc37f50>, 'general': <gensim.models.keyedvectors.Vocab object at 0x7f248cc37f90>, 'remote': <gensim.models.keyedvectors.Vocab object at 0x7f248cc37fd0>, 'christian': <gensim.models.keyedvectors.Vocab object at 0x7f248cc3b050>, 'behind': <gensim.models.keyedvectors.Vocab object at 0x7f248cc3b090>, 'elderly': <gensim.models.keyedvectors.Vocab object at 0x7f248cc3b0d0>, 'ghost': <gensim.models.keyedvectors.Vocab object at 0x7f248cc3b110>, 'kate': <gensim.models.keyedvectors.Vocab object at 0x7f248cc3b150>, 'called': <gensim.models.keyedvectors.Vocab object at 0x7f248cc3b190>, 'emily': <gensim.models.keyedvectors.Vocab object at 0x7f248cc3b1d0>, 'rose': <gensim.models.keyedvectors.Vocab object at 0x7f248cc3b210>, 'priest': <gensim.models.keyedvectors.Vocab object at 0x7f248cc3b250>, 'arrested': <gensim.models.keyedvectors.Vocab object at 0x7f248cc3b290>, 'going': <gensim.models.keyedvectors.Vocab object at 0x7f248cc3b2d0>, 'easy': <gensim.models.keyedvectors.Vocab object at 0x7f248cc3b310>, 'catch': <gensim.models.keyedvectors.Vocab object at 0x7f248cc3b350>, 'landscape': <gensim.models.keyedvectors.Vocab object at 0x7f248cc3b390>, 'assignment': <gensim.models.keyedvectors.Vocab object at 0x7f248cc3b3d0>, 'dont': <gensim.models.keyedvectors.Vocab object at 0x7f248cc3b410>, 'blue': <gensim.models.keyedvectors.Vocab object at 0x7f248cc3b450>, 'aid': <gensim.models.keyedvectors.Vocab object at 0x7f248cc3b490>, 'baby': <gensim.models.keyedvectors.Vocab object at 0x7f248cc3b4d0>, 'getting': <gensim.models.keyedvectors.Vocab object at 0x7f248cc3b510>, 'adult': <gensim.models.keyedvectors.Vocab object at 0x7f248cc3b550>, 'simple': <gensim.models.keyedvectors.Vocab object at 0x7f248cc3b590>, 'brian': <gensim.models.keyedvectors.Vocab object at 0x7f248cc3b5d0>, 'survivor': <gensim.models.keyedvectors.Vocab object at 0x7f248cc3b610>, 'mark': <gensim.models.keyedvectors.Vocab object at 0x7f248cc3b650>, 'green': <gensim.models.keyedvectors.Vocab object at 0x7f248cc3b690>, 'vietnam': <gensim.models.keyedvectors.Vocab object at 0x7f248cc3b6d0>, 'sheriff': <gensim.models.keyedvectors.Vocab object at 0x7f248cc3b710>, 'james': <gensim.models.keyedvectors.Vocab object at 0x7f248cc3b750>, 'given': <gensim.models.keyedvectors.Vocab object at 0x7f248cc3b790>, 'policeman': <gensim.models.keyedvectors.Vocab object at 0x7f248cc3b7d0>, 'throne': <gensim.models.keyedvectors.Vocab object at 0x7f248cc3b810>, 'always': <gensim.models.keyedvectors.Vocab object at 0x7f248cc3b850>, 'enter': <gensim.models.keyedvectors.Vocab object at 0x7f248cc3b890>, 'park': <gensim.models.keyedvectors.Vocab object at 0x7f248cc3b8d0>, 'spend': <gensim.models.keyedvectors.Vocab object at 0x7f248cc3b910>, 'steal': <gensim.models.keyedvectors.Vocab object at 0x7f248cc3b950>, 'think': <gensim.models.keyedvectors.Vocab object at 0x7f248cc3b990>, 'mom': <gensim.models.keyedvectors.Vocab object at 0x7f248cc3b9d0>, 'incident': <gensim.models.keyedvectors.Vocab object at 0x7f248cc3ba10>, 'hell': <gensim.models.keyedvectors.Vocab object at 0x7f248cc3ba50>, 'challenge': <gensim.models.keyedvectors.Vocab object at 0x7f248cc3ba90>, 'demand': <gensim.models.keyedvectors.Vocab object at 0x7f248cc3bad0>, 'twin': <gensim.models.keyedvectors.Vocab object at 0x7f248cc3bb10>, 'photographer': <gensim.models.keyedvectors.Vocab object at 0x7f248cc3bb50>, 'isnt': <gensim.models.keyedvectors.Vocab object at 0x7f248cc3bb90>, 'result': <gensim.models.keyedvectors.Vocab object at 0x7f248cc3bbd0>, 'owner': <gensim.models.keyedvectors.Vocab object at 0x7f248cc3bc10>, 'major': <gensim.models.keyedvectors.Vocab object at 0x7f248cc3bc50>, 'medium': <gensim.models.keyedvectors.Vocab object at 0x7f248cc3bc90>, 'unwittingly': <gensim.models.keyedvectors.Vocab object at 0x7f248cc3bcd0>, 'lover': <gensim.models.keyedvectors.Vocab object at 0x7f248cc3bd10>, 'alien': <gensim.models.keyedvectors.Vocab object at 0x7f248cc3bd50>, 'opportunity': <gensim.models.keyedvectors.Vocab object at 0x7f248cc3bd90>, 'honor': <gensim.models.keyedvectors.Vocab object at 0x7f248cc3bdd0>, 'release': <gensim.models.keyedvectors.Vocab object at 0x7f248cc3be10>, 'service': <gensim.models.keyedvectors.Vocab object at 0x7f248cc3be50>, 'clear': <gensim.models.keyedvectors.Vocab object at 0x7f248cc3be90>, 'fbi': <gensim.models.keyedvectors.Vocab object at 0x7f248cc3bed0>, 'fan': <gensim.models.keyedvectors.Vocab object at 0x7f248cc3bf10>, 'center': <gensim.models.keyedvectors.Vocab object at 0x7f248cc3bf50>, 'dealing': <gensim.models.keyedvectors.Vocab object at 0x7f248cc3bf90>, 'hilarious': <gensim.models.keyedvectors.Vocab object at 0x7f248cc3bfd0>, 'jimmy': <gensim.models.keyedvectors.Vocab object at 0x7f248cc3e050>, 'opposite': <gensim.models.keyedvectors.Vocab object at 0x7f248cc3e090>, 'lose': <gensim.models.keyedvectors.Vocab object at 0x7f248cc3e0d0>, 'purpose': <gensim.models.keyedvectors.Vocab object at 0x7f248cc3e110>, 'driven': <gensim.models.keyedvectors.Vocab object at 0x7f248cc3e150>, 'peaceful': <gensim.models.keyedvectors.Vocab object at 0x7f248cc3e190>, 'contact': <gensim.models.keyedvectors.Vocab object at 0x7f248cc3e1d0>, 'area': <gensim.models.keyedvectors.Vocab object at 0x7f248cc3e210>, 'teen': <gensim.models.keyedvectors.Vocab object at 0x7f248cc3e250>, 'defeat': <gensim.models.keyedvectors.Vocab object at 0x7f248cc3e290>, 'ranger': <gensim.models.keyedvectors.Vocab object at 0x7f248cc3e2d0>, 'monster': <gensim.models.keyedvectors.Vocab object at 0x7f248cc3e310>, 'massive': <gensim.models.keyedvectors.Vocab object at 0x7f248cc3e350>, 'foster': <gensim.models.keyedvectors.Vocab object at 0x7f248cc3e390>, 'richard': <gensim.models.keyedvectors.Vocab object at 0x7f248cc3e3d0>, 'generation': <gensim.models.keyedvectors.Vocab object at 0x7f248cc3e410>, 'happy': <gensim.models.keyedvectors.Vocab object at 0x7f248cc3e450>, 'program': <gensim.models.keyedvectors.Vocab object at 0x7f248cc3e490>, '30': <gensim.models.keyedvectors.Vocab object at 0x7f248cc3e4d0>, 'christmas': <gensim.models.keyedvectors.Vocab object at 0x7f248cc3e510>, 'legend': <gensim.models.keyedvectors.Vocab object at 0x7f248cc3e550>, 'sport': <gensim.models.keyedvectors.Vocab object at 0x7f248cc3e590>, 'captured': <gensim.models.keyedvectors.Vocab object at 0x7f248cc3e5d0>, 'paul': <gensim.models.keyedvectors.Vocab object at 0x7f248cc3e610>, 'hour': <gensim.models.keyedvectors.Vocab object at 0x7f248cc3e650>, 'test': <gensim.models.keyedvectors.Vocab object at 0x7f248cc3e690>, 'realize': <gensim.models.keyedvectors.Vocab object at 0x7f248cc3e6d0>, 'quite': <gensim.models.keyedvectors.Vocab object at 0x7f248cc3e710>, 'mile': <gensim.models.keyedvectors.Vocab object at 0x7f248cc3e750>, 'comic': <gensim.models.keyedvectors.Vocab object at 0x7f248cc3e790>, 'tour': <gensim.models.keyedvectors.Vocab object at 0x7f248cc3e7d0>, 'murdered': <gensim.models.keyedvectors.Vocab object at 0x7f248cc3e810>, 'capture': <gensim.models.keyedvectors.Vocab object at 0x7f248cc3e850>, 'arrival': <gensim.models.keyedvectors.Vocab object at 0x7f248cc3e890>, 'nearly': <gensim.models.keyedvectors.Vocab object at 0x7f248cc3e8d0>, 'bishop': <gensim.models.keyedvectors.Vocab object at 0x7f248cc3e910>, 'ryan': <gensim.models.keyedvectors.Vocab object at 0x7f248cc3e950>, 'fierce': <gensim.models.keyedvectors.Vocab object at 0x7f248cc3e990>, 'thomas': <gensim.models.keyedvectors.Vocab object at 0x7f248cc3e9d0>, 'france': <gensim.models.keyedvectors.Vocab object at 0x7f248cc3ea10>, 'increasingly': <gensim.models.keyedvectors.Vocab object at 0x7f248cc3ea50>, 'mike': <gensim.models.keyedvectors.Vocab object at 0x7f248cc3ea90>, 'often': <gensim.models.keyedvectors.Vocab object at 0x7f248cc3ead0>, 'mountain': <gensim.models.keyedvectors.Vocab object at 0x7f248cc3eb10>, 'despite': <gensim.models.keyedvectors.Vocab object at 0x7f248cc3eb50>, 'jungle': <gensim.models.keyedvectors.Vocab object at 0x7f248cc3eb90>, 'sibling': <gensim.models.keyedvectors.Vocab object at 0x7f248cc3ebd0>, 'talent': <gensim.models.keyedvectors.Vocab object at 0x7f248cc3ec10>, 'strange': <gensim.models.keyedvectors.Vocab object at 0x7f248cc3ec50>, 'organized': <gensim.models.keyedvectors.Vocab object at 0x7f248cc3ec90>, 'society': <gensim.models.keyedvectors.Vocab object at 0x7f248cc3ecd0>, 'seemingly': <gensim.models.keyedvectors.Vocab object at 0x7f248cc3ed10>, 'dealer': <gensim.models.keyedvectors.Vocab object at 0x7f248cc3ed50>, 'wake': <gensim.models.keyedvectors.Vocab object at 0x7f248cc3ed90>, 'lion': <gensim.models.keyedvectors.Vocab object at 0x7f248cc3edd0>, 'latest': <gensim.models.keyedvectors.Vocab object at 0x7f248cc3ee10>, 'restore': <gensim.models.keyedvectors.Vocab object at 0x7f248cc3ee50>, 'spends': <gensim.models.keyedvectors.Vocab object at 0x7f248cc3ee90>, 'using': <gensim.models.keyedvectors.Vocab object at 0x7f248cc3eed0>, 'crazy': <gensim.models.keyedvectors.Vocab object at 0x7f248cc3ef10>, 'dracula': <gensim.models.keyedvectors.Vocab object at 0x7f248cc3ef50>, 'god': <gensim.models.keyedvectors.Vocab object at 0x7f248cc3ef90>, 'singer': <gensim.models.keyedvectors.Vocab object at 0x7f248cc3efd0>, 'germany': <gensim.models.keyedvectors.Vocab object at 0x7f248cc41050>, 'stand': <gensim.models.keyedvectors.Vocab object at 0x7f248cc41090>, 'east': <gensim.models.keyedvectors.Vocab object at 0x7f248cc410d0>, 'arm': <gensim.models.keyedvectors.Vocab object at 0x7f248cc41110>, 'skill': <gensim.models.keyedvectors.Vocab object at 0x7f248cc41150>, 'anything': <gensim.models.keyedvectors.Vocab object at 0x7f248cc41190>, 'de': <gensim.models.keyedvectors.Vocab object at 0x7f248cc411d0>, 'adam': <gensim.models.keyedvectors.Vocab object at 0x7f248cc41210>, 'quest': <gensim.models.keyedvectors.Vocab object at 0x7f248cc41250>, 'ability': <gensim.models.keyedvectors.Vocab object at 0x7f248cc41290>, 'fun': <gensim.models.keyedvectors.Vocab object at 0x7f248cc412d0>, 'dancer': <gensim.models.keyedvectors.Vocab object at 0x7f248cc41310>, 'late': <gensim.models.keyedvectors.Vocab object at 0x7f248cc41350>, 'attempting': <gensim.models.keyedvectors.Vocab object at 0x7f248cc41390>, 'hard': <gensim.models.keyedvectors.Vocab object at 0x7f248cc413d0>, 'survival': <gensim.models.keyedvectors.Vocab object at 0x7f248cc41410>, 'brings': <gensim.models.keyedvectors.Vocab object at 0x7f248cc41450>, 'suicide': <gensim.models.keyedvectors.Vocab object at 0x7f248cc41490>, 'loses': <gensim.models.keyedvectors.Vocab object at 0x7f248cc414d0>, 'grow': <gensim.models.keyedvectors.Vocab object at 0x7f248cc41510>, 'share': <gensim.models.keyedvectors.Vocab object at 0x7f248cc41550>, 'loss': <gensim.models.keyedvectors.Vocab object at 0x7f248cc41590>, 'chris': <gensim.models.keyedvectors.Vocab object at 0x7f248cc415d0>, 'wood': <gensim.models.keyedvectors.Vocab object at 0x7f248cc41610>, 'troubled': <gensim.models.keyedvectors.Vocab object at 0x7f248cc41650>, 'novel': <gensim.models.keyedvectors.Vocab object at 0x7f248cc41690>, 'freedom': <gensim.models.keyedvectors.Vocab object at 0x7f248cc416d0>, 'wilderness': <gensim.models.keyedvectors.Vocab object at 0x7f248cc41710>, 'alex': <gensim.models.keyedvectors.Vocab object at 0x7f248cc41750>, 'normal': <gensim.models.keyedvectors.Vocab object at 0x7f248cc41790>, 'spy': <gensim.models.keyedvectors.Vocab object at 0x7f248cc417d0>, 'recruited': <gensim.models.keyedvectors.Vocab object at 0x7f248cc41810>, 'continue': <gensim.models.keyedvectors.Vocab object at 0x7f248cc41850>, 'joe': <gensim.models.keyedvectors.Vocab object at 0x7f248cc41890>, 'born': <gensim.models.keyedvectors.Vocab object at 0x7f248cc418d0>, 'pilot': <gensim.models.keyedvectors.Vocab object at 0x7f248cc41910>, 'weekend': <gensim.models.keyedvectors.Vocab object at 0x7f248cc41950>, 'kevin': <gensim.models.keyedvectors.Vocab object at 0x7f248cc41990>, 'apart': <gensim.models.keyedvectors.Vocab object at 0x7f248cc419d0>, 'follow': <gensim.models.keyedvectors.Vocab object at 0x7f248cc41a10>, 'feeling': <gensim.models.keyedvectors.Vocab object at 0x7f248cc41a50>, 'exchange': <gensim.models.keyedvectors.Vocab object at 0x7f248cc41a90>, 'prince': <gensim.models.keyedvectors.Vocab object at 0x7f248cc41ad0>, 'snow': <gensim.models.keyedvectors.Vocab object at 0x7f248cc41b10>, 'unit': <gensim.models.keyedvectors.Vocab object at 0x7f248cc41b50>, 'movement': <gensim.models.keyedvectors.Vocab object at 0x7f248cc41b90>, 'near': <gensim.models.keyedvectors.Vocab object at 0x7f248cc41bd0>, 'tony': <gensim.models.keyedvectors.Vocab object at 0x7f248cc41c10>, 'charlie': <gensim.models.keyedvectors.Vocab object at 0x7f248cc41c50>, 'beauty': <gensim.models.keyedvectors.Vocab object at 0x7f248cc41c90>, 'rich': <gensim.models.keyedvectors.Vocab object at 0x7f248cc41cd0>, 'strong': <gensim.models.keyedvectors.Vocab object at 0x7f248cc41d10>, 'point': <gensim.models.keyedvectors.Vocab object at 0x7f248cc41d50>, 'peace': <gensim.models.keyedvectors.Vocab object at 0x7f248cc41d90>, 'running': <gensim.models.keyedvectors.Vocab object at 0x7f248cc41dd0>, 'baseball': <gensim.models.keyedvectors.Vocab object at 0x7f248cc41e10>, 'person': <gensim.models.keyedvectors.Vocab object at 0x7f248cc41e50>, 'legendary': <gensim.models.keyedvectors.Vocab object at 0x7f248cc41e90>, 'blood': <gensim.models.keyedvectors.Vocab object at 0x7f248cc41ed0>, 'sight': <gensim.models.keyedvectors.Vocab object at 0x7f248cc41f10>, 'rest': <gensim.models.keyedvectors.Vocab object at 0x7f248cc41f50>, 'lifestyle': <gensim.models.keyedvectors.Vocab object at 0x7f248cc41f90>, 'light': <gensim.models.keyedvectors.Vocab object at 0x7f248cc41fd0>, 'murderer': <gensim.models.keyedvectors.Vocab object at 0x7f248cc45050>, 'fact': <gensim.models.keyedvectors.Vocab object at 0x7f248cc45090>, 'marry': <gensim.models.keyedvectors.Vocab object at 0x7f248cc450d0>, 'rebellious': <gensim.models.keyedvectors.Vocab object at 0x7f248cc45110>, 'office': <gensim.models.keyedvectors.Vocab object at 0x7f248cc45150>, 'gun': <gensim.models.keyedvectors.Vocab object at 0x7f248cc45190>, 'gain': <gensim.models.keyedvectors.Vocab object at 0x7f248cc451d0>, 'threaten': <gensim.models.keyedvectors.Vocab object at 0x7f248cc45210>, 'dance': <gensim.models.keyedvectors.Vocab object at 0x7f248cc45250>, 'executive': <gensim.models.keyedvectors.Vocab object at 0x7f248cc45290>, 'luck': <gensim.models.keyedvectors.Vocab object at 0x7f248cc452d0>, 'fighting': <gensim.models.keyedvectors.Vocab object at 0x7f248cc45310>, 'league': <gensim.models.keyedvectors.Vocab object at 0x7f248cc45350>, 'player': <gensim.models.keyedvectors.Vocab object at 0x7f248cc45390>, 'india': <gensim.models.keyedvectors.Vocab object at 0x7f248cc453d0>, 'extraordinary': <gensim.models.keyedvectors.Vocab object at 0x7f248cc45410>, 'report': <gensim.models.keyedvectors.Vocab object at 0x7f248cc45450>, 'escaped': <gensim.models.keyedvectors.Vocab object at 0x7f248cc45490>, 'settle': <gensim.models.keyedvectors.Vocab object at 0x7f248cc454d0>, 'existence': <gensim.models.keyedvectors.Vocab object at 0x7f248cc45510>, 'cia': <gensim.models.keyedvectors.Vocab object at 0x7f248cc45550>, 'arthur': <gensim.models.keyedvectors.Vocab object at 0x7f248cc45590>, 'guard': <gensim.models.keyedvectors.Vocab object at 0x7f248cc455d0>, 'red': <gensim.models.keyedvectors.Vocab object at 0x7f248cc45610>, 'worst': <gensim.models.keyedvectors.Vocab object at 0x7f248cc45650>, 'oil': <gensim.models.keyedvectors.Vocab object at 0x7f248cc45690>, 'castle': <gensim.models.keyedvectors.Vocab object at 0x7f248cc456d0>, 'watch': <gensim.models.keyedvectors.Vocab object at 0x7f248cc45710>, 'air': <gensim.models.keyedvectors.Vocab object at 0x7f248cc45750>, 'trained': <gensim.models.keyedvectors.Vocab object at 0x7f248cc45790>, 'smalltown': <gensim.models.keyedvectors.Vocab object at 0x7f248cc457d0>, 'brilliant': <gensim.models.keyedvectors.Vocab object at 0x7f248cc45810>, 'done': <gensim.models.keyedvectors.Vocab object at 0x7f248cc45850>, 'sweet': <gensim.models.keyedvectors.Vocab object at 0x7f248cc45890>, 'reluctant': <gensim.models.keyedvectors.Vocab object at 0x7f248cc458d0>, 'outside': <gensim.models.keyedvectors.Vocab object at 0x7f248cc45910>, 'thriller': <gensim.models.keyedvectors.Vocab object at 0x7f248cc45950>, 'tommy': <gensim.models.keyedvectors.Vocab object at 0x7f248cc45990>, 'moving': <gensim.models.keyedvectors.Vocab object at 0x7f248cc459d0>, 'cold': <gensim.models.keyedvectors.Vocab object at 0x7f248cc45a10>, 'äì': <gensim.models.keyedvectors.Vocab object at 0x7f248cc45a50>, 'howard': <gensim.models.keyedvectors.Vocab object at 0x7f248cc45a90>, 'salesman': <gensim.models.keyedvectors.Vocab object at 0x7f248cc45ad0>, 'eve': <gensim.models.keyedvectors.Vocab object at 0x7f248cc45b10>, 'alice': <gensim.models.keyedvectors.Vocab object at 0x7f248cc45b50>, 'reluctantly': <gensim.models.keyedvectors.Vocab object at 0x7f248cc45b90>, 'picture': <gensim.models.keyedvectors.Vocab object at 0x7f248cc45bd0>, 'san': <gensim.models.keyedvectors.Vocab object at 0x7f248cc45c10>, 'rock': <gensim.models.keyedvectors.Vocab object at 0x7f248cc45c50>, 'possible': <gensim.models.keyedvectors.Vocab object at 0x7f248cc45c90>, 'leaving': <gensim.models.keyedvectors.Vocab object at 0x7f248cc45cd0>, 'refuse': <gensim.models.keyedvectors.Vocab object at 0x7f248cc45d10>, 'wont': <gensim.models.keyedvectors.Vocab object at 0x7f248cc45d50>, 'pursuit': <gensim.models.keyedvectors.Vocab object at 0x7f248cc45d90>, 'jerry': <gensim.models.keyedvectors.Vocab object at 0x7f248cc45dd0>, 'border': <gensim.models.keyedvectors.Vocab object at 0x7f248cc45e10>, 'teach': <gensim.models.keyedvectors.Vocab object at 0x7f248cc45e50>, 'push': <gensim.models.keyedvectors.Vocab object at 0x7f248cc45e90>, 'coming': <gensim.models.keyedvectors.Vocab object at 0x7f248cc45ed0>, 'original': <gensim.models.keyedvectors.Vocab object at 0x7f248cc45f10>, 'greek': <gensim.models.keyedvectors.Vocab object at 0x7f248cc45f50>, 'destiny': <gensim.models.keyedvectors.Vocab object at 0x7f248cc45f90>, 'writes': <gensim.models.keyedvectors.Vocab object at 0x7f248cc45fd0>, 'beginning': <gensim.models.keyedvectors.Vocab object at 0x7f248cc49050>, 'sexual': <gensim.models.keyedvectors.Vocab object at 0x7f248cc49090>, 'assigned': <gensim.models.keyedvectors.Vocab object at 0x7f248cc490d0>, 'washington': <gensim.models.keyedvectors.Vocab object at 0x7f248cc49110>, 'hunted': <gensim.models.keyedvectors.Vocab object at 0x7f248cc49150>, 'cut': <gensim.models.keyedvectors.Vocab object at 0x7f248cc49190>, 'mary': <gensim.models.keyedvectors.Vocab object at 0x7f248cc491d0>, 'chaos': <gensim.models.keyedvectors.Vocab object at 0x7f248cc49210>, 'extreme': <gensim.models.keyedvectors.Vocab object at 0x7f248cc49250>, 'disappearance': <gensim.models.keyedvectors.Vocab object at 0x7f248cc49290>, 'security': <gensim.models.keyedvectors.Vocab object at 0x7f248cc492d0>, 'producer': <gensim.models.keyedvectors.Vocab object at 0x7f248cc49310>, 'buried': <gensim.models.keyedvectors.Vocab object at 0x7f248cc49350>, 'art': <gensim.models.keyedvectors.Vocab object at 0x7f248cc49390>, 'thought': <gensim.models.keyedvectors.Vocab object at 0x7f248cc493d0>, 'estate': <gensim.models.keyedvectors.Vocab object at 0x7f248cc49410>, 'feature': <gensim.models.keyedvectors.Vocab object at 0x7f248cc49450>, 'youth': <gensim.models.keyedvectors.Vocab object at 0x7f248cc49490>, 'weapon': <gensim.models.keyedvectors.Vocab object at 0x7f248cc494d0>, 'tourist': <gensim.models.keyedvectors.Vocab object at 0x7f248cc49510>, 'francisco': <gensim.models.keyedvectors.Vocab object at 0x7f248cc49550>, 'henry': <gensim.models.keyedvectors.Vocab object at 0x7f248cc49590>, 'tough': <gensim.models.keyedvectors.Vocab object at 0x7f248cc495d0>, 'key': <gensim.models.keyedvectors.Vocab object at 0x7f248cc49610>, 'jewish': <gensim.models.keyedvectors.Vocab object at 0x7f248cc49650>, 'forest': <gensim.models.keyedvectors.Vocab object at 0x7f248cc49690>, 'gold': <gensim.models.keyedvectors.Vocab object at 0x7f248cc496d0>, 'conflict': <gensim.models.keyedvectors.Vocab object at 0x7f248cc49710>, 'version': <gensim.models.keyedvectors.Vocab object at 0x7f248cc49750>, 'martial': <gensim.models.keyedvectors.Vocab object at 0x7f248cc49790>, 'italian': <gensim.models.keyedvectors.Vocab object at 0x7f248cc497d0>, 'äî': <gensim.models.keyedvectors.Vocab object at 0x7f248cc49810>, 'ash': <gensim.models.keyedvectors.Vocab object at 0x7f248cc49850>, 'rome': <gensim.models.keyedvectors.Vocab object at 0x7f248cc49890>, 'expose': <gensim.models.keyedvectors.Vocab object at 0x7f248cc498d0>, 'haunted': <gensim.models.keyedvectors.Vocab object at 0x7f248cc49910>, 'die': <gensim.models.keyedvectors.Vocab object at 0x7f248cc49950>, 'wolf': <gensim.models.keyedvectors.Vocab object at 0x7f248cc49990>, 'harry': <gensim.models.keyedvectors.Vocab object at 0x7f248cc499d0>, 'host': <gensim.models.keyedvectors.Vocab object at 0x7f248cc49a10>}\n"
          ],
          "name": "stdout"
        }
      ]
    },
    {
      "cell_type": "markdown",
      "metadata": {
        "id": "ua2wJ5ojav2K"
      },
      "source": [
        "Now we need a fit function to cluster (using good old Kmeans), initiate a bag of words, word2concept, and tf-idf calculation of our Bag of Concepts."
      ]
    },
    {
      "cell_type": "code",
      "metadata": {
        "id": "ZJq68-abrZoK"
      },
      "source": [
        "from sklearn.cluster import KMeans\n",
        "from scipy.sparse import csr_matrix\n",
        "from sklearn.utils.extmath import safe_sparse_dot\n",
        "\n",
        "def fit_w2v(wv, i2w, src_toks, n_concepts=1000):\n",
        "  kmeans = KMeans(n_clusters=n_concepts)\n",
        "  kmeans.fit(wv)\n",
        "  wv_idx = kmeans.labels_\n",
        "  bow = pack_bow(i2w, src_toks)\n",
        "  w2c = W2C(i2w, wv_idx, n_concepts)\n",
        "  # tf_idf for concepts\n",
        "  boc = get_tfidf(safe_sparse_dot(bow, w2c))\n",
        "\n",
        "  return boc, [x for x in zip(i2w, wv_idx)],i2w\n",
        "\n"
      ],
      "execution_count": 31,
      "outputs": []
    },
    {
      "cell_type": "markdown",
      "metadata": {
        "id": "5GW3CmcSaM5d"
      },
      "source": [
        "And the tf-idf scores, calculated over concepts instead of terms."
      ]
    },
    {
      "cell_type": "code",
      "metadata": {
        "id": "zB4Pwir3u0yF"
      },
      "source": [
        "from collections import Counter\n",
        "\n",
        "def pack_bow(i2w, src_toks):\n",
        "  val = []\n",
        "  c = []\n",
        "  r = []\n",
        "  # reverse the indexing to words\n",
        "  w2i = {w: i for i, w in enumerate(i2w)}\n",
        "  for idx, doc in enumerate(src_toks):\n",
        "    # print(doc)\n",
        "    toks = doc.rstrip().split(\" \")\n",
        "    n_tok = Counter([w2i[tok] for tok in toks if tok in w2i])\n",
        "    for i, n in n_tok.items():\n",
        "      c.append(i)\n",
        "      r.append(idx)\n",
        "      # float conversion for tfidf\n",
        "      val.append(float(n))\n",
        "  return csr_matrix((val, (r, c)), shape=(idx+1, len(w2i)))\n"
      ],
      "execution_count": 32,
      "outputs": []
    },
    {
      "cell_type": "code",
      "metadata": {
        "id": "DHw1bkTJxuhd"
      },
      "source": [
        "import scipy\n",
        "\n",
        "def get_tfidf(mat):\n",
        "  doc_count, n_concepts = mat.shape\n",
        "  _, non_zero_concept_idx = mat.nonzero()\n",
        "  tf = np.bincount(non_zero_concept_idx, minlength=n_concepts)\n",
        "  tf = tf.astype(float)\n",
        "  idf = np.log(doc_count, tf)\n",
        "  # handle infinite/NAN\n",
        "  idf[np.isinf(idf)] = 0\n",
        "  return safe_sparse_dot (mat, scipy.sparse.diags(idf))"
      ],
      "execution_count": 33,
      "outputs": []
    },
    {
      "cell_type": "code",
      "metadata": {
        "id": "agnhbGQiw05s"
      },
      "source": [
        "def W2C (i2w, clabels, n_concepts):\n",
        "  if len(i2w) != len(clabels):\n",
        "    raise Error('Mismatched dims for words/labels')\n",
        "\n",
        "  r = [x for x, i2w in enumerate(i2w)]\n",
        "  c = [x for x in clabels]\n",
        "  val = [1.0 for x in i2w]\n",
        "\n",
        "  return csr_matrix((val, (r, c)),\n",
        "                    shape=(len(i2w), n_concepts))"
      ],
      "execution_count": 34,
      "outputs": []
    },
    {
      "cell_type": "code",
      "metadata": {
        "colab": {
          "base_uri": "https://localhost:8080/"
        },
        "id": "pKhr_hpMeuk0",
        "outputId": "d5798cd8-1a28-4558-bd32-afa2a08a6edc"
      },
      "source": [
        "print(len(i2w))"
      ],
      "execution_count": 35,
      "outputs": [
        {
          "output_type": "stream",
          "text": [
            "1216\n"
          ],
          "name": "stdout"
        }
      ]
    },
    {
      "cell_type": "code",
      "metadata": {
        "id": "AqjgJ144eG7e"
      },
      "source": [
        "boc_x_train, w2c_list, i2w_conv = fit_w2v(wv, i2w, toks,  n_concepts=1000)"
      ],
      "execution_count": 36,
      "outputs": []
    },
    {
      "cell_type": "markdown",
      "metadata": {
        "id": "3zEhkcHJo1B4"
      },
      "source": [
        "Let's see what we have now."
      ]
    },
    {
      "cell_type": "code",
      "metadata": {
        "colab": {
          "base_uri": "https://localhost:8080/"
        },
        "id": "mjgJVXspn6Rh",
        "outputId": "aba845ae-359d-4f95-dfdd-fb80c59a3d5e"
      },
      "source": [
        "from tabulate import tabulate\n",
        "\n",
        "print(tabulate(w2c_list[20:30], headers=['word', 'concept idx'], tablefmt='psql'))\n",
        "# and check indexing of words\n",
        "print(i2w[20:30])"
      ],
      "execution_count": 37,
      "outputs": [
        {
          "output_type": "stream",
          "text": [
            "+--------+---------------+\n",
            "| word   |   concept idx |\n",
            "|--------+---------------|\n",
            "| time   |           249 |\n",
            "| way    |           159 |\n",
            "| war    |            26 |\n",
            "| make   |            61 |\n",
            "| set    |            87 |\n",
            "| go     |           166 |\n",
            "| wife   |            93 |\n",
            "| come   |           142 |\n",
            "| day    |           112 |\n",
            "| school |            10 |\n",
            "+--------+---------------+\n",
            "['time', 'way', 'war', 'make', 'set', 'go', 'wife', 'come', 'day', 'school']\n"
          ],
          "name": "stdout"
        }
      ]
    },
    {
      "cell_type": "code",
      "metadata": {
        "colab": {
          "base_uri": "https://localhost:8080/"
        },
        "id": "njDcgqYkpT-B",
        "outputId": "1a15891a-b45e-424c-96aa-5aa5253ec26d"
      },
      "source": [
        "print(boc_x_train[:30,:20])"
      ],
      "execution_count": 41,
      "outputs": [
        {
          "output_type": "stream",
          "text": [
            "  (15, 10)\t22.802707378626245\n",
            "  (17, 16)\t7.600902459542082\n",
            "  (19, 18)\t7.600902459542082\n",
            "  (25, 5)\t7.600902459542082\n",
            "  (26, 19)\t7.600902459542082\n",
            "  (27, 10)\t7.600902459542082\n"
          ],
          "name": "stdout"
        }
      ]
    },
    {
      "cell_type": "markdown",
      "metadata": {
        "id": "KrMzYI44qJMJ"
      },
      "source": [
        "This is similar to the tf-idf vectorisation we had in 2.1, perfect.\n",
        "Now we move on to the familair SVC and MLB."
      ]
    },
    {
      "cell_type": "code",
      "metadata": {
        "colab": {
          "base_uri": "https://localhost:8080/"
        },
        "id": "Fh0t5uk2yjiN",
        "outputId": "2a12a6c5-24e0-42c8-b873-4395c17ff5e4"
      },
      "source": [
        "mlb = MultiLabelBinarizer()\n",
        "mlb.fit(df['y'])\n",
        "y_train = mlb.transform(df['y'])\n",
        "y_test = mlb.transform(tdf['y'])\n",
        "\n",
        "print('Binary vector representation:', y_train[1])\n",
        "print('Which represents:\\t', mlb.inverse_transform(y_train)[1])\n",
        "print('\\nOriginal data:\\n', df.iloc[1,:])"
      ],
      "execution_count": 42,
      "outputs": [
        {
          "output_type": "stream",
          "text": [
            "Binary vector representation: [0 0 0 1 0 0 1 1 0 0 0 0 0 0 1 0 0 0 0 0]\n",
            "Which represents:\t ('Comedy', 'Drama', 'Family', 'Romance')\n",
            "\n",
            "Original data:\n",
            " y                                     [Comedy, Drama, Family, Romance]\n",
            "text                 Mia Thermopolis is now a college graduate and ...\n",
            "movie_genre_count                                                    4\n",
            "clean                mia thermopolis college graduate way genovia t...\n",
            "Name: 1, dtype: object\n"
          ],
          "name": "stdout"
        }
      ]
    },
    {
      "cell_type": "code",
      "metadata": {
        "colab": {
          "base_uri": "https://localhost:8080/"
        },
        "id": "PQ-hLiixp1OX",
        "outputId": "87971868-25cb-438b-90a7-23288f4ffae4"
      },
      "source": [
        "from sklearn.svm import SVC\n",
        "from sklearn.multiclass import OneVsRestClassifier\n",
        "from sklearn.metrics import f1_score, accuracy_score, precision_score, recall_score\n",
        "\n",
        "random_state = np.random.RandomState(0)\n",
        "ovrc = OneVsRestClassifier(SVC(class_weight='balanced',\n",
        "    random_state=random_state, kernel='linear', probability=True))\n",
        "ovrc.fit(boc_x_train, y_train)"
      ],
      "execution_count": 51,
      "outputs": [
        {
          "output_type": "execute_result",
          "data": {
            "text/plain": [
              "OneVsRestClassifier(estimator=SVC(C=1.0, break_ties=False, cache_size=200,\n",
              "                                  class_weight='balanced', coef0=0.0,\n",
              "                                  decision_function_shape='ovr', degree=3,\n",
              "                                  gamma='scale', kernel='linear', max_iter=-1,\n",
              "                                  probability=True,\n",
              "                                  random_state=RandomState(MT19937) at 0x7FB1DBC556B0,\n",
              "                                  shrinking=True, tol=0.001, verbose=False),\n",
              "                    n_jobs=None)"
            ]
          },
          "metadata": {
            "tags": []
          },
          "execution_count": 51
        }
      ]
    },
    {
      "cell_type": "markdown",
      "metadata": {
        "id": "FFbCF_sQrLz1"
      },
      "source": [
        "We have to fit the test data to boc, as well."
      ]
    },
    {
      "cell_type": "code",
      "metadata": {
        "id": "PrPpGdyrq43c"
      },
      "source": [
        "test_toks = tdf.clean.to_list()"
      ],
      "execution_count": 53,
      "outputs": []
    },
    {
      "cell_type": "code",
      "metadata": {
        "id": "bGymVj3cqp7W"
      },
      "source": [
        "boc_x_test, w2c_list_test, i2w_conv_test = fit_w2v(wv, i2w, test_toks,  n_concepts=1000)"
      ],
      "execution_count": 56,
      "outputs": []
    },
    {
      "cell_type": "code",
      "metadata": {
        "id": "RmIbs8kV6iGA"
      },
      "source": [
        "predict = ovrc.predict(boc_x_test)"
      ],
      "execution_count": 57,
      "outputs": []
    },
    {
      "cell_type": "code",
      "metadata": {
        "colab": {
          "base_uri": "https://localhost:8080/"
        },
        "id": "6tc7Qlkg6ogI",
        "outputId": "b58a680e-68e4-40c6-9348-2ca4c0d94421"
      },
      "source": [
        "import random\n",
        "get_prediction_samples(predict)"
      ],
      "execution_count": 42,
      "outputs": [
        {
          "output_type": "stream",
          "text": [
            "Predicted genre[s]: ('Drama', 'History')\n",
            "True genre[s]: ['History', 'Drama', 'War']\n",
            "\n",
            "\n",
            "Predicted genre[s]: ('Action', 'Adventure', 'Comedy', 'Fantasy')\n",
            "True genre[s]: ['Adventure', 'Fantasy', 'Action']\n",
            "\n",
            "\n",
            "Predicted genre[s]: ('Animation', 'Drama', 'Horror')\n",
            "True genre[s]: ['Thriller', 'Drama', 'Horror']\n",
            "\n",
            "\n",
            "Predicted genre[s]: ('Action', 'Comedy', 'Foreign')\n",
            "True genre[s]: ['Action', 'Drama', 'Thriller']\n",
            "\n",
            "\n",
            "Predicted genre[s]: ('Action', 'Comedy', 'Drama', 'History')\n",
            "True genre[s]: ['Drama', 'Thriller']\n",
            "\n",
            "\n"
          ],
          "name": "stdout"
        }
      ]
    },
    {
      "cell_type": "markdown",
      "metadata": {
        "id": "7T_b5D9g7Kpm"
      },
      "source": [
        "Not too bad! We could later get a context similarity between classes. But for now, let's see the stats."
      ]
    },
    {
      "cell_type": "code",
      "metadata": {
        "id": "3opeEUS4Vc09"
      },
      "source": [
        "boc_stats = pd.DataFrame(columns = ['name', 'threshold', 'accuracy','precision', 'recall','F1'])"
      ],
      "execution_count": 58,
      "outputs": []
    },
    {
      "cell_type": "code",
      "metadata": {
        "colab": {
          "base_uri": "https://localhost:8080/"
        },
        "id": "sI95dSJ67R_E",
        "outputId": "a30f1aa9-26c6-4ca1-ad72-0fec9595617e"
      },
      "source": [
        "boc_stats = get_stats(y_test, predict, 'SVC', 0.5, boc_stats)"
      ],
      "execution_count": 59,
      "outputs": [
        {
          "output_type": "stream",
          "text": [
            "+----+--------+-------------+------------+-------------+----------+----------+\n",
            "|    | name   |   threshold |   accuracy |   precision |   recall |       F1 |\n",
            "|----+--------+-------------+------------+-------------+----------+----------|\n",
            "|  0 | SVC    |         0.5 |      0.005 |    0.201542 | 0.280716 | 0.234629 |\n",
            "+----+--------+-------------+------------+-------------+----------+----------+\n"
          ],
          "name": "stdout"
        }
      ]
    },
    {
      "cell_type": "markdown",
      "metadata": {
        "id": "lQcMIeMH7gqt"
      },
      "source": [
        "So far, it's worse thn the other two."
      ]
    },
    {
      "cell_type": "code",
      "metadata": {
        "colab": {
          "base_uri": "https://localhost:8080/"
        },
        "id": "11_M8azj7ah0",
        "outputId": "9e6f320c-744a-4b5d-da42-c13619c87fda"
      },
      "source": [
        "threshold = 0.7\n",
        "predict_prob = ovrc.predict_proba(boc_x_test)\n",
        "predict_ht = (predict_prob >= threshold).astype(int)\n",
        "boc_stats = get_stats(y_test, predict_ht, 'SVC', 0.7)"
      ],
      "execution_count": 60,
      "outputs": [
        {
          "output_type": "stream",
          "text": [
            "+----+--------+-------------+------------+-------------+------------+-----------+\n",
            "|    | name   |   threshold |   accuracy |   precision |     recall |        F1 |\n",
            "|----+--------+-------------+------------+-------------+------------+-----------|\n",
            "|  0 | SVC    |         0.7 |      0.003 |    0.294118 | 0.00795229 | 0.0154859 |\n",
            "+----+--------+-------------+------------+-------------+------------+-----------+\n"
          ],
          "name": "stdout"
        }
      ]
    },
    {
      "cell_type": "markdown",
      "metadata": {
        "id": "-Y4wMztt74B0"
      },
      "source": [
        "That was even worse."
      ]
    },
    {
      "cell_type": "code",
      "metadata": {
        "colab": {
          "base_uri": "https://localhost:8080/"
        },
        "id": "Wkk5nAa770zi",
        "outputId": "d0794b0d-6aa7-4276-8822-23afbd2c612f"
      },
      "source": [
        "threshold = 0.3\n",
        "predict_prob = ovrc.predict_proba(boc_x_test)\n",
        "predict_lt = (predict_prob >= threshold).astype(int)\n",
        "boc_stats = get_stats(y_test, predict_lt, 'SVC', 0.3)"
      ],
      "execution_count": 61,
      "outputs": [
        {
          "output_type": "stream",
          "text": [
            "+----+--------+-------------+------------+-------------+----------+----------+\n",
            "|    | name   |   threshold |   accuracy |   precision |   recall |       F1 |\n",
            "|----+--------+-------------+------------+-------------+----------+----------|\n",
            "|  0 | SVC    |         0.3 |      0.033 |    0.376623 | 0.322863 | 0.347677 |\n",
            "+----+--------+-------------+------------+-------------+----------+----------+\n"
          ],
          "name": "stdout"
        }
      ]
    },
    {
      "cell_type": "markdown",
      "metadata": {
        "id": "qWxbl-a78uMd"
      },
      "source": [
        "Once again, 0.3 to the rescue. Let's get some samples."
      ]
    },
    {
      "cell_type": "code",
      "metadata": {
        "colab": {
          "base_uri": "https://localhost:8080/"
        },
        "id": "UPOnmRt47--H",
        "outputId": "ad7ef305-c283-411c-fd81-117183f8b1d8"
      },
      "source": [
        "get_prediction_samples(predict_lt)"
      ],
      "execution_count": 60,
      "outputs": [
        {
          "output_type": "stream",
          "text": [
            "Predicted genre[s]: ('Comedy', 'Drama', 'Thriller')\n",
            "True genre[s]: ['Crime', 'Drama', 'Thriller']\n",
            "\n",
            "\n",
            "Predicted genre[s]: ('Action', 'Crime', 'Drama', 'Thriller')\n",
            "True genre[s]: ['Action', 'Drama', 'Western']\n",
            "\n",
            "\n",
            "Predicted genre[s]: ('Comedy', 'Drama')\n",
            "True genre[s]: ['Action']\n",
            "\n",
            "\n",
            "Predicted genre[s]: ('Comedy', 'Drama')\n",
            "True genre[s]: ['Comedy']\n",
            "\n",
            "\n",
            "Predicted genre[s]: ('Comedy', 'Drama')\n",
            "True genre[s]: ['Action', 'Thriller', 'Crime']\n",
            "\n",
            "\n"
          ],
          "name": "stdout"
        }
      ]
    },
    {
      "cell_type": "markdown",
      "metadata": {
        "id": "0_dn5CZC89b6"
      },
      "source": [
        "You can see how some concepts can cause confusion in the genres. For example, Western lexicon is quite similiar to Crime or even Thriller. Besides, we haven't had enough Western movies to quite discern their own concepts."
      ]
    },
    {
      "cell_type": "markdown",
      "metadata": {
        "id": "SdgPb-vv9xKC"
      },
      "source": [
        "## 4.2. Improvements"
      ]
    },
    {
      "cell_type": "markdown",
      "metadata": {
        "id": "mLax-fji90b0"
      },
      "source": [
        "As before, we test various classifiers and thresholds."
      ]
    },
    {
      "cell_type": "code",
      "metadata": {
        "id": "Cx9KVUV1Jr0z"
      },
      "source": [
        "from sklearn.feature_extraction.text import TfidfTransformer\n",
        "\n",
        "tfidf_boc_train = TfidfTransformer().fit(boc_x_train)"
      ],
      "execution_count": 48,
      "outputs": []
    },
    {
      "cell_type": "code",
      "metadata": {
        "colab": {
          "base_uri": "https://localhost:8080/"
        },
        "id": "gbs67F-veiet",
        "outputId": "4528a7b1-1096-4b58-f6e5-1cd401786e35"
      },
      "source": [
        "from sklearn.linear_model import SGDClassifier\n",
        "from sklearn.multiclass import OneVsRestClassifier\n",
        "from sklearn.metrics import f1_score, accuracy_score, precision_score, recall_score\n",
        "\n",
        "sgd = SGDClassifier(class_weight='balanced')\n",
        "ovrc = OneVsRestClassifier(sgd)\n",
        "ovrc.fit(X=boc_x_train, y=y_train)"
      ],
      "execution_count": 51,
      "outputs": [
        {
          "output_type": "execute_result",
          "data": {
            "text/plain": [
              "OneVsRestClassifier(estimator=SGDClassifier(alpha=0.0001, average=False,\n",
              "                                            class_weight='balanced',\n",
              "                                            early_stopping=False, epsilon=0.1,\n",
              "                                            eta0=0.0, fit_intercept=True,\n",
              "                                            l1_ratio=0.15,\n",
              "                                            learning_rate='optimal',\n",
              "                                            loss='hinge', max_iter=1000,\n",
              "                                            n_iter_no_change=5, n_jobs=None,\n",
              "                                            penalty='l2', power_t=0.5,\n",
              "                                            random_state=None, shuffle=True,\n",
              "                                            tol=0.001, validation_fraction=0.1,\n",
              "                                            verbose=0, warm_start=False),\n",
              "                    n_jobs=None)"
            ]
          },
          "metadata": {
            "tags": []
          },
          "execution_count": 51
        }
      ]
    },
    {
      "cell_type": "code",
      "metadata": {
        "id": "NhRpPnDSelK0"
      },
      "source": [
        "predict = ovrc.predict(boc_x_test)"
      ],
      "execution_count": 57,
      "outputs": []
    },
    {
      "cell_type": "code",
      "metadata": {
        "colab": {
          "base_uri": "https://localhost:8080/"
        },
        "id": "o34lwnAOj4u5",
        "outputId": "79f1d342-b0b5-40f0-fd4a-b78e947bb0da"
      },
      "source": [
        "boc_stats = get_stats(y_test, predict, 'SGD', 0.5)"
      ],
      "execution_count": 59,
      "outputs": [
        {
          "output_type": "stream",
          "text": [
            "+----+--------+-------------+------------+-------------+----------+----------+\n",
            "|    | name   |   threshold |   accuracy |   precision |   recall |       F1 |\n",
            "|----+--------+-------------+------------+-------------+----------+----------|\n",
            "|  0 | SGD    |         0.5 |      0.007 |    0.215697 | 0.308151 | 0.253766 |\n",
            "+----+--------+-------------+------------+-------------+----------+----------+\n"
          ],
          "name": "stdout"
        }
      ]
    },
    {
      "cell_type": "code",
      "metadata": {
        "colab": {
          "base_uri": "https://localhost:8080/"
        },
        "id": "J_5dim-pnalw",
        "outputId": "1e86cbb8-2538-486d-dff2-33b27d694c85"
      },
      "source": [
        "from sklearn.ensemble import RandomForestClassifier\n",
        "\n",
        "rfc = RandomForestClassifier(max_depth=8, random_state=0, class_weight='balanced')\n",
        "ovrc = OneVsRestClassifier(rfc)\n",
        "ovrc.fit(boc_x_train, y_train)"
      ],
      "execution_count": 64,
      "outputs": [
        {
          "output_type": "execute_result",
          "data": {
            "text/plain": [
              "OneVsRestClassifier(estimator=RandomForestClassifier(bootstrap=True,\n",
              "                                                     ccp_alpha=0.0,\n",
              "                                                     class_weight='balanced',\n",
              "                                                     criterion='gini',\n",
              "                                                     max_depth=8,\n",
              "                                                     max_features='auto',\n",
              "                                                     max_leaf_nodes=None,\n",
              "                                                     max_samples=None,\n",
              "                                                     min_impurity_decrease=0.0,\n",
              "                                                     min_impurity_split=None,\n",
              "                                                     min_samples_leaf=1,\n",
              "                                                     min_samples_split=2,\n",
              "                                                     min_weight_fraction_leaf=0.0,\n",
              "                                                     n_estimators=100,\n",
              "                                                     n_jobs=None,\n",
              "                                                     oob_score=False,\n",
              "                                                     random_state=0, verbose=0,\n",
              "                                                     warm_start=False),\n",
              "                    n_jobs=None)"
            ]
          },
          "metadata": {
            "tags": []
          },
          "execution_count": 64
        }
      ]
    },
    {
      "cell_type": "code",
      "metadata": {
        "id": "wHvggP0lndeY"
      },
      "source": [
        "predict = ovrc.predict(boc_x_test)"
      ],
      "execution_count": 66,
      "outputs": []
    },
    {
      "cell_type": "code",
      "metadata": {
        "colab": {
          "base_uri": "https://localhost:8080/"
        },
        "id": "ZoZu8wmQnidz",
        "outputId": "2c4e8b65-ba6a-4ae1-869c-c928d61a7d8f"
      },
      "source": [
        "boc_stats = get_stats(y_test, predict, 'Random Forest', 0.5)"
      ],
      "execution_count": 67,
      "outputs": [
        {
          "output_type": "stream",
          "text": [
            "+----+---------------+-------------+------------+-------------+----------+----------+\n",
            "|    | name          |   threshold |   accuracy |   precision |   recall |       F1 |\n",
            "|----+---------------+-------------+------------+-------------+----------+----------|\n",
            "|  0 | Random Forest |         0.5 |      0.018 |    0.296044 | 0.258847 | 0.276199 |\n",
            "+----+---------------+-------------+------------+-------------+----------+----------+\n"
          ],
          "name": "stdout"
        }
      ]
    },
    {
      "cell_type": "code",
      "metadata": {
        "colab": {
          "base_uri": "https://localhost:8080/"
        },
        "id": "bq9Bp-arnoLl",
        "outputId": "0cba6ab9-4b17-4a01-b82d-5adb8d9cc5c0"
      },
      "source": [
        "threshold = 0.3\n",
        "predict_prob = ovrc.predict_proba(boc_x_test)\n",
        "predict_lt = (predict_prob >= threshold).astype(int)\n",
        "boc_stats = get_stats(y_test, predict_lt, 'Random Forest', 0.3)"
      ],
      "execution_count": 70,
      "outputs": [
        {
          "output_type": "stream",
          "text": [
            "+----+---------------+-------------+------------+-------------+----------+----------+\n",
            "|    | name          |   threshold |   accuracy |   precision |   recall |       F1 |\n",
            "|----+---------------+-------------+------------+-------------+----------+----------|\n",
            "|  0 | Random Forest |         0.3 |          0 |    0.144618 | 0.988867 | 0.252334 |\n",
            "+----+---------------+-------------+------------+-------------+----------+----------+\n"
          ],
          "name": "stdout"
        }
      ]
    },
    {
      "cell_type": "code",
      "metadata": {
        "colab": {
          "base_uri": "https://localhost:8080/"
        },
        "id": "GVXpnqHynygQ",
        "outputId": "c4871b9b-c177-41f1-f52f-04009b5b495c"
      },
      "source": [
        "threshold = 0.7\n",
        "predict_prob = ovrc.predict_proba(boc_x_test)\n",
        "predict_ht = (predict_prob >= threshold).astype(int)\n",
        "boc_stats = get_stats(y_test, predict_ht, 'Random Forest', 0.7)"
      ],
      "execution_count": 71,
      "outputs": [
        {
          "output_type": "stream",
          "text": [
            "+----+---------------+-------------+------------+-------------+----------+------+\n",
            "|    | name          |   threshold |   accuracy |   precision |   recall |   F1 |\n",
            "|----+---------------+-------------+------------+-------------+----------+------|\n",
            "|  0 | Random Forest |         0.7 |          0 |           1 |        0 |    0 |\n",
            "+----+---------------+-------------+------------+-------------+----------+------+\n"
          ],
          "name": "stdout"
        }
      ]
    },
    {
      "cell_type": "code",
      "metadata": {
        "colab": {
          "base_uri": "https://localhost:8080/"
        },
        "id": "fPW-wip1oAG0",
        "outputId": "cf46c402-4c50-4eaf-c912-6e04529500e3"
      },
      "source": [
        "from sklearn.linear_model import LogisticRegression\n",
        "\n",
        "lr = LogisticRegression(max_iter=500)\n",
        "ovrc = OneVsRestClassifier(lr)\n",
        "ovrc.fit(boc_x_train, y_train)"
      ],
      "execution_count": 73,
      "outputs": [
        {
          "output_type": "execute_result",
          "data": {
            "text/plain": [
              "OneVsRestClassifier(estimator=LogisticRegression(C=1.0, class_weight=None,\n",
              "                                                 dual=False, fit_intercept=True,\n",
              "                                                 intercept_scaling=1,\n",
              "                                                 l1_ratio=None, max_iter=500,\n",
              "                                                 multi_class='auto',\n",
              "                                                 n_jobs=None, penalty='l2',\n",
              "                                                 random_state=None,\n",
              "                                                 solver='lbfgs', tol=0.0001,\n",
              "                                                 verbose=0, warm_start=False),\n",
              "                    n_jobs=None)"
            ]
          },
          "metadata": {
            "tags": []
          },
          "execution_count": 73
        }
      ]
    },
    {
      "cell_type": "code",
      "metadata": {
        "id": "1U2UbkhJoOV5"
      },
      "source": [
        "predict = ovrc.predict(boc_x_test)"
      ],
      "execution_count": 75,
      "outputs": []
    },
    {
      "cell_type": "code",
      "metadata": {
        "colab": {
          "base_uri": "https://localhost:8080/"
        },
        "id": "sE9JQPLzoagF",
        "outputId": "e08e2cbe-812a-4ba3-cf25-206b51fcaa3c"
      },
      "source": [
        "boc_stats = get_stats(y_test, predict, 'Logistic Rgeression', 0.5)"
      ],
      "execution_count": 77,
      "outputs": [
        {
          "output_type": "stream",
          "text": [
            "+----+---------------------+-------------+------------+-------------+----------+----------+\n",
            "|    | name                |   threshold |   accuracy |   precision |   recall |       F1 |\n",
            "|----+---------------------+-------------+------------+-------------+----------+----------|\n",
            "|  0 | Logistic Rgeression |         0.5 |      0.015 |    0.291353 | 0.246521 | 0.267069 |\n",
            "+----+---------------------+-------------+------------+-------------+----------+----------+\n"
          ],
          "name": "stdout"
        }
      ]
    },
    {
      "cell_type": "code",
      "metadata": {
        "colab": {
          "base_uri": "https://localhost:8080/"
        },
        "id": "Sm8Wk3UiogNQ",
        "outputId": "5bb5839a-5177-4999-ae89-a1d2fd36ac86"
      },
      "source": [
        "threshold = 0.3\n",
        "predict_prob = ovrc.predict_proba(boc_x_test)\n",
        "predict_lt = (predict_prob >= threshold).astype(int)\n",
        "boc_stats = get_stats(y_test, predict_lt, 'Logistic Regression', 0.3)"
      ],
      "execution_count": 78,
      "outputs": [
        {
          "output_type": "stream",
          "text": [
            "+----+---------------------+-------------+------------+-------------+----------+----------+\n",
            "|    | name                |   threshold |   accuracy |   precision |   recall |       F1 |\n",
            "|----+---------------------+-------------+------------+-------------+----------+----------|\n",
            "|  0 | Logistic Regression |         0.3 |       0.01 |    0.277328 | 0.272366 | 0.274824 |\n",
            "+----+---------------------+-------------+------------+-------------+----------+----------+\n"
          ],
          "name": "stdout"
        }
      ]
    },
    {
      "cell_type": "code",
      "metadata": {
        "colab": {
          "base_uri": "https://localhost:8080/"
        },
        "id": "fuovKdsHolj1",
        "outputId": "72ddafc2-0fd5-469a-ddf0-3d15aef86bad"
      },
      "source": [
        "get_prediction_samples(predict_lt)"
      ],
      "execution_count": 80,
      "outputs": [
        {
          "output_type": "stream",
          "text": [
            "Predicted genre[s]: ('Comedy', 'Drama', 'Romance', 'Thriller')\n",
            "True genre[s]: ['Action', 'Adventure', 'Crime', 'Drama', 'Thriller']\n",
            "\n",
            "\n",
            "Predicted genre[s]: ('Action', 'Mystery')\n",
            "True genre[s]: ['Drama', 'Horror']\n",
            "\n",
            "\n",
            "Predicted genre[s]: ('Crime', 'Drama', 'Horror', 'Thriller')\n",
            "True genre[s]: ['Action', 'Adventure']\n",
            "\n",
            "\n",
            "Predicted genre[s]: ('Action', 'Adventure', 'Science Fiction', 'Thriller')\n",
            "True genre[s]: ['Adventure', 'Drama', 'Action']\n",
            "\n",
            "\n",
            "Predicted genre[s]: ('Drama', 'Thriller')\n",
            "True genre[s]: ['Drama']\n",
            "\n",
            "\n"
          ],
          "name": "stdout"
        }
      ]
    },
    {
      "cell_type": "markdown",
      "metadata": {
        "id": "lqmRsrPopYyH"
      },
      "source": [
        "# Outro\n",
        "In essence, the last approach might yet prove to be the best over a more balanced dataset. However, the plot of movies might all centeralise against similar concepts, hence making it difficult to tell apart the genre (especially with micro-genres included along with the more general labels such as Drama).\n",
        "\n",
        "For this project, however, the Word2Vec approach proved best, utilising SVC's and threshold optimisation. Closely along was SVC's over a Bag-of-Words approach.\n",
        "\n"
      ]
    }
  ]
}